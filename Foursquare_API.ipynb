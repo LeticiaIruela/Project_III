{
 "cells": [
  {
   "cell_type": "code",
   "execution_count": 15,
   "id": "9f72f8f6",
   "metadata": {},
   "outputs": [],
   "source": [
    "import requests\n",
    "import json\n",
    "import pandas as pd\n",
    "import time\n",
    "from dotenv import load_dotenv\n",
    "import os\n",
    "from pandas import json_normalize\n",
    "import time\n",
    "import sys\n",
    "from folium import Choropleth, Circle, Marker, Icon, Map, TileLayer\n",
    "from folium.plugins import HeatMap, MarkerCluster\n",
    "import geopandas as gpd\n"
   ]
  },
  {
   "cell_type": "markdown",
   "id": "a6e89e3b",
   "metadata": {},
   "source": [
    "To verify the best location, we need to verify each venue in Foursquare or through external APIs:"
   ]
  },
  {
   "cell_type": "markdown",
   "id": "5c17ed99",
   "metadata": {},
   "source": [
    "# 1. Airports"
   ]
  },
  {
   "cell_type": "code",
   "execution_count": 16,
   "id": "8bb4a316",
   "metadata": {},
   "outputs": [],
   "source": [
    "df=pd.read_csv(\"C:/Users/Leticia Martinez/Desktop/IRONHACK/Labs/Project_III/data/df4.csv\")\n"
   ]
  },
  {
   "cell_type": "code",
   "execution_count": 17,
   "id": "b572a842",
   "metadata": {},
   "outputs": [
    {
     "data": {
      "text/html": [
       "<div>\n",
       "<style scoped>\n",
       "    .dataframe tbody tr th:only-of-type {\n",
       "        vertical-align: middle;\n",
       "    }\n",
       "\n",
       "    .dataframe tbody tr th {\n",
       "        vertical-align: top;\n",
       "    }\n",
       "\n",
       "    .dataframe thead th {\n",
       "        text-align: right;\n",
       "    }\n",
       "</style>\n",
       "<table border=\"1\" class=\"dataframe\">\n",
       "  <thead>\n",
       "    <tr style=\"text-align: right;\">\n",
       "      <th></th>\n",
       "      <th>id</th>\n",
       "      <th>ident</th>\n",
       "      <th>type</th>\n",
       "      <th>name</th>\n",
       "      <th>latitude_deg</th>\n",
       "      <th>longitude_deg</th>\n",
       "      <th>iso_country</th>\n",
       "    </tr>\n",
       "  </thead>\n",
       "  <tbody>\n",
       "    <tr>\n",
       "      <th>30065</th>\n",
       "      <td>3711</td>\n",
       "      <td>KMSY</td>\n",
       "      <td>large_airport</td>\n",
       "      <td>Louis Armstrong New Orleans International Airport</td>\n",
       "      <td>29.993401</td>\n",
       "      <td>-90.258003</td>\n",
       "      <td>US</td>\n",
       "    </tr>\n",
       "  </tbody>\n",
       "</table>\n",
       "</div>"
      ],
      "text/plain": [
       "         id ident           type   \n",
       "30065  3711  KMSY  large_airport  \\\n",
       "\n",
       "                                                    name  latitude_deg   \n",
       "30065  Louis Armstrong New Orleans International Airport     29.993401  \\\n",
       "\n",
       "       longitude_deg iso_country  \n",
       "30065     -90.258003          US  "
      ]
     },
     "execution_count": 17,
     "metadata": {},
     "output_type": "execute_result"
    }
   ],
   "source": [
    "df_airport=pd.read_csv(\"C:/Users/Leticia Martinez/Desktop/IRONHACK/Labs/Project_III/data/airport_code.csv\")\n",
    "df_airport = df_airport.drop([\"elevation_ft\", \"continent\",\"iso_region\",\"scheduled_service\",\"municipality\",\"scheduled_service\",\"gps_code\",\"local_code\"], axis=1)\n",
    "df_airport = df_airport[df_airport['iso_country'] == 'US']\n",
    "df_airport = df_airport[df_airport['type'] == 'large_airport']\n",
    "df_airport.sample()"
   ]
  },
  {
   "cell_type": "code",
   "execution_count": 18,
   "id": "a5038099",
   "metadata": {},
   "outputs": [
    {
     "data": {
      "text/html": [
       "<div>\n",
       "<style scoped>\n",
       "    .dataframe tbody tr th:only-of-type {\n",
       "        vertical-align: middle;\n",
       "    }\n",
       "\n",
       "    .dataframe tbody tr th {\n",
       "        vertical-align: top;\n",
       "    }\n",
       "\n",
       "    .dataframe thead th {\n",
       "        text-align: right;\n",
       "    }\n",
       "</style>\n",
       "<table border=\"1\" class=\"dataframe\">\n",
       "  <thead>\n",
       "    <tr style=\"text-align: right;\">\n",
       "      <th></th>\n",
       "      <th>Unnamed: 0</th>\n",
       "      <th>name</th>\n",
       "      <th>description</th>\n",
       "      <th>number_of_employees</th>\n",
       "      <th>total_money_raised</th>\n",
       "      <th>category_code</th>\n",
       "      <th>tag_list</th>\n",
       "      <th>address1</th>\n",
       "      <th>address2</th>\n",
       "      <th>zip_code</th>\n",
       "      <th>city</th>\n",
       "      <th>state_code</th>\n",
       "      <th>country_code</th>\n",
       "      <th>latitude</th>\n",
       "      <th>longitude</th>\n",
       "      <th>aeropuerto_cercano</th>\n",
       "      <th>diferencia_km</th>\n",
       "      <th>diferencia_metros</th>\n",
       "    </tr>\n",
       "  </thead>\n",
       "  <tbody>\n",
       "    <tr>\n",
       "      <th>50</th>\n",
       "      <td>261</td>\n",
       "      <td>Major League Gaming</td>\n",
       "      <td>Corporate Headquarters</td>\n",
       "      <td>45.0</td>\n",
       "      <td>$69M</td>\n",
       "      <td>games_video</td>\n",
       "      <td>mlg, gaming, halo, competitive, tournament, ga...</td>\n",
       "      <td>3 Park Avenue</td>\n",
       "      <td>32nd Floor</td>\n",
       "      <td>10016</td>\n",
       "      <td>New York</td>\n",
       "      <td>NY</td>\n",
       "      <td>USA</td>\n",
       "      <td>40.752672</td>\n",
       "      <td>-73.97593</td>\n",
       "      <td>La Guardia Airport</td>\n",
       "      <td>0.0</td>\n",
       "      <td>9140.0174</td>\n",
       "    </tr>\n",
       "  </tbody>\n",
       "</table>\n",
       "</div>"
      ],
      "text/plain": [
       "    Unnamed: 0                 name             description   \n",
       "50         261  Major League Gaming  Corporate Headquarters  \\\n",
       "\n",
       "    number_of_employees total_money_raised category_code   \n",
       "50                 45.0               $69M   games_video  \\\n",
       "\n",
       "                                             tag_list       address1   \n",
       "50  mlg, gaming, halo, competitive, tournament, ga...  3 Park Avenue  \\\n",
       "\n",
       "      address2 zip_code      city state_code country_code   latitude   \n",
       "50  32nd Floor    10016  New York         NY          USA  40.752672  \\\n",
       "\n",
       "    longitude  aeropuerto_cercano  diferencia_km  diferencia_metros  \n",
       "50  -73.97593  La Guardia Airport            0.0          9140.0174  "
      ]
     },
     "execution_count": 18,
     "metadata": {},
     "output_type": "execute_result"
    }
   ],
   "source": [
    "from geopy.distance import geodesic\n",
    "import pandas as pd\n",
    "df['aeropuerto_cercano'] = ''\n",
    "df['diferencia_km'] = 0.0\n",
    "for index, row in df.iterrows():\n",
    "    lat1 = row['latitude']  \n",
    "    lon1 = row['longitude']  \n",
    "    min_distance = float('inf')\n",
    "    aeropuerto_cercano = ''\n",
    "    \n",
    "    for idx, r in df_airport.iterrows():\n",
    "        lat2 = r['latitude_deg'] \n",
    "        lon2 = r['longitude_deg']  \n",
    "        \n",
    "        distance = geodesic((lat1, lon1), (lat2, lon2)).kilometers\n",
    "        \n",
    "        if distance < min_distance:\n",
    "            min_distance = distance\n",
    "            aeropuerto_cercano = r['name'] \n",
    "    \n",
    "    lat2 = df_airport.loc[df_airport['name'] == aeropuerto_cercano, 'latitude_deg'].values[0]\n",
    "    lon2 = df_airport.loc[df_airport['name'] == aeropuerto_cercano, 'longitude_deg'].values[0]\n",
    "    diferencia_metros = geodesic((lat1, lon1), (lat2, lon2)).meters\n",
    "    \n",
    "    df.at[index, 'aeropuerto_cercano'] = aeropuerto_cercano\n",
    "    df.at[index, 'diferencia_metros'] = diferencia_metros\n",
    "\n",
    "df.sample()\n"
   ]
  },
  {
   "cell_type": "code",
   "execution_count": 19,
   "id": "43e90188",
   "metadata": {},
   "outputs": [],
   "source": [
    "subset1 = df[df['state_code'] == 'NY']\n",
    "subset = df[df['state_code'] == 'CA']"
   ]
  },
  {
   "cell_type": "markdown",
   "id": "f544d5dc",
   "metadata": {},
   "source": [
    "Extracting the airports just from San Francisco close to our middle point:"
   ]
  },
  {
   "cell_type": "code",
   "execution_count": 20,
   "id": "df7857a2",
   "metadata": {},
   "outputs": [
    {
     "data": {
      "text/html": [
       "<div>\n",
       "<style scoped>\n",
       "    .dataframe tbody tr th:only-of-type {\n",
       "        vertical-align: middle;\n",
       "    }\n",
       "\n",
       "    .dataframe tbody tr th {\n",
       "        vertical-align: top;\n",
       "    }\n",
       "\n",
       "    .dataframe thead th {\n",
       "        text-align: right;\n",
       "    }\n",
       "</style>\n",
       "<table border=\"1\" class=\"dataframe\">\n",
       "  <thead>\n",
       "    <tr style=\"text-align: right;\">\n",
       "      <th></th>\n",
       "      <th>name</th>\n",
       "      <th>latitude_deg</th>\n",
       "      <th>longitude_deg</th>\n",
       "    </tr>\n",
       "  </thead>\n",
       "  <tbody>\n",
       "    <tr>\n",
       "      <th>28140</th>\n",
       "      <td>Bangor International Airport</td>\n",
       "      <td>44.807400</td>\n",
       "      <td>-68.828102</td>\n",
       "    </tr>\n",
       "    <tr>\n",
       "      <th>29727</th>\n",
       "      <td>Los Angeles International Airport</td>\n",
       "      <td>33.942501</td>\n",
       "      <td>-118.407997</td>\n",
       "    </tr>\n",
       "    <tr>\n",
       "      <th>30254</th>\n",
       "      <td>Metropolitan Oakland International Airport</td>\n",
       "      <td>37.721298</td>\n",
       "      <td>-122.221001</td>\n",
       "    </tr>\n",
       "    <tr>\n",
       "      <th>31871</th>\n",
       "      <td>San Francisco International Airport</td>\n",
       "      <td>37.618999</td>\n",
       "      <td>-122.375000</td>\n",
       "    </tr>\n",
       "    <tr>\n",
       "      <th>31892</th>\n",
       "      <td>Norman Y. Mineta San Jose International Airport</td>\n",
       "      <td>37.362598</td>\n",
       "      <td>-121.929001</td>\n",
       "    </tr>\n",
       "  </tbody>\n",
       "</table>\n",
       "</div>"
      ],
      "text/plain": [
       "                                                  name  latitude_deg   \n",
       "28140                     Bangor International Airport     44.807400  \\\n",
       "29727                Los Angeles International Airport     33.942501   \n",
       "30254       Metropolitan Oakland International Airport     37.721298   \n",
       "31871              San Francisco International Airport     37.618999   \n",
       "31892  Norman Y. Mineta San Jose International Airport     37.362598   \n",
       "\n",
       "       longitude_deg  \n",
       "28140     -68.828102  \n",
       "29727    -118.407997  \n",
       "30254    -122.221001  \n",
       "31871    -122.375000  \n",
       "31892    -121.929001  "
      ]
     },
     "execution_count": 20,
     "metadata": {},
     "output_type": "execute_result"
    }
   ],
   "source": [
    "import pandas as pd\n",
    "airports = ['Metropolitan Oakland International Airport',\n",
    "       'Norman Y. Mineta San Jose International Airport',\n",
    "       'Los Angeles International Airport',\n",
    "       'San Francisco International Airport',\n",
    "       'Bangor International Airport']\n",
    "\n",
    "subset_airport = df_airport[df_airport['name'].isin(airports)][['name', 'latitude_deg', 'longitude_deg']]\n",
    "df_airport = pd.DataFrame(subset_airport)\n",
    "df_airport.to_csv('./data/df_airports.csv', index=False)\n",
    "df_airport"
   ]
  },
  {
   "cell_type": "markdown",
   "id": "48a1b1a7",
   "metadata": {},
   "source": [
    "Extracting the airports just from NY close to our middle point:"
   ]
  },
  {
   "cell_type": "code",
   "execution_count": 21,
   "id": "b2c6bb25",
   "metadata": {},
   "outputs": [
    {
     "data": {
      "text/plain": [
       "array(['La Guardia Airport', 'Tulsa International Airport',\n",
       "       'John F Kennedy International Airport'], dtype=object)"
      ]
     },
     "execution_count": 21,
     "metadata": {},
     "output_type": "execute_result"
    }
   ],
   "source": [
    "subset1[\"aeropuerto_cercano\"].unique()"
   ]
  },
  {
   "cell_type": "code",
   "execution_count": 22,
   "id": "7fa86a0a",
   "metadata": {},
   "outputs": [],
   "source": [
    "import pandas as pd\n",
    "airports = ['La Guardia Airport', 'Tulsa International Airport',\n",
    "       'John F Kennedy International Airport']\n",
    "\n",
    "subset_airportny = df_airport[df_airport['name'].isin(airports)][['name', 'latitude_deg', 'longitude_deg']]\n",
    "df_airport_NY = pd.DataFrame(subset_airportny)\n",
    "df_airport_NY.to_csv('./data/df_airports_ny.csv', index=False)"
   ]
  },
  {
   "cell_type": "markdown",
   "id": "2223e644",
   "metadata": {},
   "source": [
    "# 2. 1 Starbucks - San Francisco"
   ]
  },
  {
   "cell_type": "code",
   "execution_count": 23,
   "id": "e97b5779",
   "metadata": {},
   "outputs": [
    {
     "data": {
      "text/plain": [
       "True"
      ]
     },
     "execution_count": 23,
     "metadata": {},
     "output_type": "execute_result"
    }
   ],
   "source": [
    "token = os.getenv(\"token\")\n",
    "load_dotenv()"
   ]
  },
  {
   "cell_type": "code",
   "execution_count": 24,
   "id": "de806ef6",
   "metadata": {},
   "outputs": [
    {
     "data": {
      "text/plain": [
       "True"
      ]
     },
     "execution_count": 24,
     "metadata": {},
     "output_type": "execute_result"
    }
   ],
   "source": [
    "load_dotenv()"
   ]
  },
  {
   "cell_type": "code",
   "execution_count": 25,
   "id": "72ed0020",
   "metadata": {},
   "outputs": [],
   "source": [
    "where=\"San Francisco\"\n",
    "SF_long=-122.40045773333333\n",
    "SF_lat=37.781981995833334"
   ]
  },
  {
   "cell_type": "code",
   "execution_count": 26,
   "id": "7f6d26c2",
   "metadata": {},
   "outputs": [],
   "source": [
    "import requests\n",
    "url='https://api.foursquare.com/v3/places/search?query=starbucks' \n",
    "headers = {\n",
    "    \"accept\": \"application/json\",\n",
    "    \"Authorization\": token\n",
    "}\n",
    "response = requests.get(url, headers=headers)"
   ]
  },
  {
   "cell_type": "code",
   "execution_count": 27,
   "id": "ef5b4f3d",
   "metadata": {},
   "outputs": [],
   "source": [
    "def Starbucks_SF (query, SF_long, SF_lat, radius, limit):       \n",
    "    url = f\"https://api.foursquare.com/v3/places/search?query={query}&ll={SF_long}%2C{SF_lat}&radius={radius}&limit={limit}\"\n",
    "\n",
    "    headers = {\n",
    "        \"accept\": \"application/json\",\n",
    "        \"Authorization\": token\n",
    "    }\n",
    "\n",
    "    response = requests.get(url, headers=headers).json()\n",
    "    return response"
   ]
  },
  {
   "cell_type": "code",
   "execution_count": 28,
   "id": "d0882bf9",
   "metadata": {},
   "outputs": [],
   "source": [
    "response= Starbucks_SF(\"starbucks\", 37.781981995833334, -122.40045773333333, 800, 20)"
   ]
  },
  {
   "cell_type": "code",
   "execution_count": 29,
   "id": "35b555c4",
   "metadata": {},
   "outputs": [],
   "source": [
    "def everything_SFST (one_element):\n",
    "    \n",
    "    address = one_element[\"location\"][\"formatted_address\"]\n",
    "    name = one_element[\"name\"]\n",
    "    latitude= one_element[\"geocodes\"][\"roof\"][\"latitude\"]\n",
    "    longitude= one_element[\"geocodes\"][\"roof\"][\"longitude\"]\n",
    "    dict1 = {\"name\": name, \"address\":address, \"latitude\":latitude, \"longitude\":longitude}\n",
    "    \n",
    "    return dict1"
   ]
  },
  {
   "cell_type": "code",
   "execution_count": 30,
   "id": "48717690",
   "metadata": {},
   "outputs": [
    {
     "data": {
      "text/plain": [
       "{'name': 'Starbucks',\n",
       " 'address': '780 Market St (at 4th St), San Francisco, CA 94102',\n",
       " 'latitude': 37.786145,\n",
       " 'longitude': -122.405612}"
      ]
     },
     "execution_count": 30,
     "metadata": {},
     "output_type": "execute_result"
    }
   ],
   "source": [
    "everything_SFST (response[\"results\"][1])"
   ]
  },
  {
   "cell_type": "code",
   "execution_count": 31,
   "id": "eaf879e6",
   "metadata": {},
   "outputs": [
    {
     "data": {
      "text/html": [
       "<div>\n",
       "<style scoped>\n",
       "    .dataframe tbody tr th:only-of-type {\n",
       "        vertical-align: middle;\n",
       "    }\n",
       "\n",
       "    .dataframe tbody tr th {\n",
       "        vertical-align: top;\n",
       "    }\n",
       "\n",
       "    .dataframe thead th {\n",
       "        text-align: right;\n",
       "    }\n",
       "</style>\n",
       "<table border=\"1\" class=\"dataframe\">\n",
       "  <thead>\n",
       "    <tr style=\"text-align: right;\">\n",
       "      <th></th>\n",
       "      <th>name</th>\n",
       "      <th>address</th>\n",
       "      <th>latitude</th>\n",
       "      <th>longitude</th>\n",
       "    </tr>\n",
       "  </thead>\n",
       "  <tbody>\n",
       "    <tr>\n",
       "      <th>0</th>\n",
       "      <td>Starbucks</td>\n",
       "      <td>865 Market St (5th street), San Francisco, CA ...</td>\n",
       "      <td>37.784117</td>\n",
       "      <td>-122.407356</td>\n",
       "    </tr>\n",
       "    <tr>\n",
       "      <th>1</th>\n",
       "      <td>Starbucks</td>\n",
       "      <td>780 Market St (at 4th St), San Francisco, CA 9...</td>\n",
       "      <td>37.786145</td>\n",
       "      <td>-122.405612</td>\n",
       "    </tr>\n",
       "    <tr>\n",
       "      <th>2</th>\n",
       "      <td>Starbucks</td>\n",
       "      <td>120 4th St (at Mission St), San Francisco, CA ...</td>\n",
       "      <td>37.784199</td>\n",
       "      <td>-122.404135</td>\n",
       "    </tr>\n",
       "    <tr>\n",
       "      <th>3</th>\n",
       "      <td>Starbucks</td>\n",
       "      <td>74 New Montgomery St (at Jessie St), San Franc...</td>\n",
       "      <td>37.787664</td>\n",
       "      <td>-122.401113</td>\n",
       "    </tr>\n",
       "    <tr>\n",
       "      <th>4</th>\n",
       "      <td>Starbucks</td>\n",
       "      <td>201 3rd St, San Francisco, CA 94103</td>\n",
       "      <td>37.785019</td>\n",
       "      <td>-122.399810</td>\n",
       "    </tr>\n",
       "  </tbody>\n",
       "</table>\n",
       "</div>"
      ],
      "text/plain": [
       "        name                                            address   latitude   \n",
       "0  Starbucks  865 Market St (5th street), San Francisco, CA ...  37.784117  \\\n",
       "1  Starbucks  780 Market St (at 4th St), San Francisco, CA 9...  37.786145   \n",
       "2  Starbucks  120 4th St (at Mission St), San Francisco, CA ...  37.784199   \n",
       "3  Starbucks  74 New Montgomery St (at Jessie St), San Franc...  37.787664   \n",
       "4  Starbucks                201 3rd St, San Francisco, CA 94103  37.785019   \n",
       "\n",
       "    longitude  \n",
       "0 -122.407356  \n",
       "1 -122.405612  \n",
       "2 -122.404135  \n",
       "3 -122.401113  \n",
       "4 -122.399810  "
      ]
     },
     "execution_count": 31,
     "metadata": {},
     "output_type": "execute_result"
    }
   ],
   "source": [
    "new_listSFST = []\n",
    "for i in response[\"results\"]:\n",
    "    new_listSFST.append(everything_SFST (i))\n",
    "\n",
    "df_SF_ST = pd.DataFrame(new_listSFST)\n",
    "df_SF_ST\n",
    "     "
   ]
  },
  {
   "cell_type": "code",
   "execution_count": 32,
   "id": "8e3e79c7",
   "metadata": {},
   "outputs": [],
   "source": [
    "df_SF_ST.to_csv('./data/df_SF_starbucks.csv')\n"
   ]
  },
  {
   "cell_type": "markdown",
   "id": "a8980773",
   "metadata": {},
   "source": [
    "# 2.2 Schools San Francisco"
   ]
  },
  {
   "cell_type": "code",
   "execution_count": 33,
   "id": "be0f9c15",
   "metadata": {},
   "outputs": [],
   "source": [
    "def Schools_SF (SF_long, SF_lat, radius):\n",
    "    \n",
    "    url = f\"https://api.foursquare.com/v3/places/search?ll={SF_lat}%2C{SF_long}&radius={radius}&categories=12056,12057,12058\"\n",
    "    \n",
    "    headers = {\n",
    "        \"accept\": \"application/json\",\n",
    "        \"Authorization\": token\n",
    "    }\n",
    "\n",
    "    response = requests.get(url, headers=headers).json()\n",
    "    return response"
   ]
  },
  {
   "cell_type": "code",
   "execution_count": 34,
   "id": "a83e9ce2",
   "metadata": {},
   "outputs": [],
   "source": [
    "response= Schools_SF(-122.40045773333333, 37.781981995833334, 500)\n"
   ]
  },
  {
   "cell_type": "code",
   "execution_count": 35,
   "id": "e540d5d1",
   "metadata": {},
   "outputs": [],
   "source": [
    "def everything_SFSC (one_element):    \n",
    "    address = one_element[\"location\"][\"formatted_address\"]\n",
    "    name = one_element[\"name\"]\n",
    "    category=one_element[\"categories\"][0][\"name\"]\n",
    "    latitude= one_element[\"geocodes\"][\"roof\"][\"latitude\"]\n",
    "    longitude= one_element[\"geocodes\"][\"roof\"][\"longitude\"]\n",
    "    dict2 = {\"name\": name, \"address\":address, \"latitude\":latitude, \"longitude\":longitude, \"categories\":category}\n",
    "    \n",
    "    return dict2"
   ]
  },
  {
   "cell_type": "code",
   "execution_count": 36,
   "id": "383b3ca5",
   "metadata": {},
   "outputs": [
    {
     "data": {
      "text/html": [
       "<div>\n",
       "<style scoped>\n",
       "    .dataframe tbody tr th:only-of-type {\n",
       "        vertical-align: middle;\n",
       "    }\n",
       "\n",
       "    .dataframe tbody tr th {\n",
       "        vertical-align: top;\n",
       "    }\n",
       "\n",
       "    .dataframe thead th {\n",
       "        text-align: right;\n",
       "    }\n",
       "</style>\n",
       "<table border=\"1\" class=\"dataframe\">\n",
       "  <thead>\n",
       "    <tr style=\"text-align: right;\">\n",
       "      <th></th>\n",
       "      <th>name</th>\n",
       "      <th>address</th>\n",
       "      <th>latitude</th>\n",
       "      <th>longitude</th>\n",
       "      <th>categories</th>\n",
       "    </tr>\n",
       "  </thead>\n",
       "  <tbody>\n",
       "    <tr>\n",
       "      <th>0</th>\n",
       "      <td>AltSchool Yerba Buena</td>\n",
       "      <td>300 4th St, San Francisco, CA 94107</td>\n",
       "      <td>37.781777</td>\n",
       "      <td>-122.401196</td>\n",
       "      <td>Elementary School</td>\n",
       "    </tr>\n",
       "    <tr>\n",
       "      <th>1</th>\n",
       "      <td>KinderCare Learning Center</td>\n",
       "      <td>75 Hawthorne St, San Francisco, CA 94105</td>\n",
       "      <td>37.785486</td>\n",
       "      <td>-122.397974</td>\n",
       "      <td>Preschool</td>\n",
       "    </tr>\n",
       "    <tr>\n",
       "      <th>2</th>\n",
       "      <td>Bessie Carmichael Elementary</td>\n",
       "      <td>824 Harrison St, San Francisco, CA 94107</td>\n",
       "      <td>37.780661</td>\n",
       "      <td>-122.400414</td>\n",
       "      <td>Primary and Secondary School</td>\n",
       "    </tr>\n",
       "    <tr>\n",
       "      <th>3</th>\n",
       "      <td>San Francisco Unified School District</td>\n",
       "      <td>824 Harrison St, San Francisco, CA 94107</td>\n",
       "      <td>37.780634</td>\n",
       "      <td>-122.400340</td>\n",
       "      <td>Primary and Secondary School</td>\n",
       "    </tr>\n",
       "    <tr>\n",
       "      <th>4</th>\n",
       "      <td>San Francisco Unified School District</td>\n",
       "      <td>825 Shotwell St, San Francisco, CA 94110</td>\n",
       "      <td>37.780596</td>\n",
       "      <td>-122.400410</td>\n",
       "      <td>Elementary School</td>\n",
       "    </tr>\n",
       "    <tr>\n",
       "      <th>5</th>\n",
       "      <td>Fec Middle School</td>\n",
       "      <td>824 Harrison St, San Francisco, CA 94107</td>\n",
       "      <td>37.780504</td>\n",
       "      <td>-122.400333</td>\n",
       "      <td>Primary and Secondary School</td>\n",
       "    </tr>\n",
       "    <tr>\n",
       "      <th>6</th>\n",
       "      <td>California Charter Schools</td>\n",
       "      <td>730 Harrison St, San Francisco, CA 94107</td>\n",
       "      <td>37.782152</td>\n",
       "      <td>-122.398423</td>\n",
       "      <td>Primary and Secondary School</td>\n",
       "    </tr>\n",
       "    <tr>\n",
       "      <th>7</th>\n",
       "      <td>SOMA Daycare &amp; Preschool</td>\n",
       "      <td>1112 Howard St, San Francisco, CA 94107</td>\n",
       "      <td>37.781318</td>\n",
       "      <td>-122.395649</td>\n",
       "      <td>Preschool</td>\n",
       "    </tr>\n",
       "  </tbody>\n",
       "</table>\n",
       "</div>"
      ],
      "text/plain": [
       "                                    name   \n",
       "0                  AltSchool Yerba Buena  \\\n",
       "1             KinderCare Learning Center   \n",
       "2           Bessie Carmichael Elementary   \n",
       "3  San Francisco Unified School District   \n",
       "4  San Francisco Unified School District   \n",
       "5                      Fec Middle School   \n",
       "6             California Charter Schools   \n",
       "7               SOMA Daycare & Preschool   \n",
       "\n",
       "                                    address   latitude   longitude   \n",
       "0       300 4th St, San Francisco, CA 94107  37.781777 -122.401196  \\\n",
       "1  75 Hawthorne St, San Francisco, CA 94105  37.785486 -122.397974   \n",
       "2  824 Harrison St, San Francisco, CA 94107  37.780661 -122.400414   \n",
       "3  824 Harrison St, San Francisco, CA 94107  37.780634 -122.400340   \n",
       "4  825 Shotwell St, San Francisco, CA 94110  37.780596 -122.400410   \n",
       "5  824 Harrison St, San Francisco, CA 94107  37.780504 -122.400333   \n",
       "6  730 Harrison St, San Francisco, CA 94107  37.782152 -122.398423   \n",
       "7   1112 Howard St, San Francisco, CA 94107  37.781318 -122.395649   \n",
       "\n",
       "                     categories  \n",
       "0             Elementary School  \n",
       "1                     Preschool  \n",
       "2  Primary and Secondary School  \n",
       "3  Primary and Secondary School  \n",
       "4             Elementary School  \n",
       "5  Primary and Secondary School  \n",
       "6  Primary and Secondary School  \n",
       "7                     Preschool  "
      ]
     },
     "execution_count": 36,
     "metadata": {},
     "output_type": "execute_result"
    }
   ],
   "source": [
    "new_listSFSC = []\n",
    "for i in response[\"results\"]:\n",
    "    new_listSFSC.append(everything_SFSC (i))\n",
    "\n",
    "df_SF_SC = pd.DataFrame(new_listSFSC)\n",
    "df_SF_SC"
   ]
  },
  {
   "cell_type": "code",
   "execution_count": 37,
   "id": "913a802e",
   "metadata": {},
   "outputs": [],
   "source": [
    "df_SF_SC.to_csv('./data/df_SF_schools.csv')\n"
   ]
  },
  {
   "cell_type": "markdown",
   "id": "3c2e7fea",
   "metadata": {},
   "source": [
    "# 2.3 Vegan restaurants - San Francisco "
   ]
  },
  {
   "cell_type": "code",
   "execution_count": 38,
   "id": "2dd5a1fa",
   "metadata": {},
   "outputs": [],
   "source": [
    "def vegan_SF (SF_long, SF_lat, radius):\n",
    "    \n",
    "    url = f\"https://api.foursquare.com/v3/places/search?ll={SF_lat}%2C{SF_long}&radius={radius}&categories=13377\"\n",
    "    \n",
    "    headers = {\n",
    "        \"accept\": \"application/json\",\n",
    "        \"Authorization\": token\n",
    "    }\n",
    "\n",
    "    response = requests.get(url, headers=headers).json()\n",
    "    \n",
    "    try:\n",
    "        places = response[\"results\"]  # Revisa la estructura de la respuesta JSON\n",
    "    except KeyError:\n",
    "        places = []\n",
    "    \n",
    "    vegan_places = []\n",
    "    for place in places:\n",
    "        categories = place[\"categories\"]\n",
    "        category_ids = [category[\"id\"] for category in categories]\n",
    "        if len(category_ids) == 1 and 13377 in category_ids:\n",
    "            vegan_places.append(place)\n",
    "    \n",
    "    return vegan_places"
   ]
  },
  {
   "cell_type": "code",
   "execution_count": 39,
   "id": "17d06aa4",
   "metadata": {},
   "outputs": [],
   "source": [
    "vegan_places= vegan_SF(-122.40045773333333, 37.781981995833334, 1000)\n"
   ]
  },
  {
   "cell_type": "code",
   "execution_count": 40,
   "id": "cddca439",
   "metadata": {},
   "outputs": [],
   "source": [
    "def everything_SFVG (one_element):\n",
    "    \n",
    "    address = one_element[\"location\"][\"formatted_address\"]\n",
    "    name = one_element[\"name\"]\n",
    "    category=one_element[\"categories\"][0][\"name\"]\n",
    "    latitude= one_element[\"geocodes\"][\"roof\"][\"latitude\"]\n",
    "    longitude= one_element[\"geocodes\"][\"roof\"][\"longitude\"]\n",
    "    dict2 = {\"name\": name, \"address\":address, \"latitude\":latitude, \"longitude\":longitude, \"categories\":category}\n",
    "    \n",
    "    return dict2"
   ]
  },
  {
   "cell_type": "code",
   "execution_count": 41,
   "id": "2e02b64b",
   "metadata": {},
   "outputs": [
    {
     "data": {
      "text/html": [
       "<div>\n",
       "<style scoped>\n",
       "    .dataframe tbody tr th:only-of-type {\n",
       "        vertical-align: middle;\n",
       "    }\n",
       "\n",
       "    .dataframe tbody tr th {\n",
       "        vertical-align: top;\n",
       "    }\n",
       "\n",
       "    .dataframe thead th {\n",
       "        text-align: right;\n",
       "    }\n",
       "</style>\n",
       "<table border=\"1\" class=\"dataframe\">\n",
       "  <thead>\n",
       "    <tr style=\"text-align: right;\">\n",
       "      <th></th>\n",
       "      <th>name</th>\n",
       "      <th>address</th>\n",
       "      <th>latitude</th>\n",
       "      <th>longitude</th>\n",
       "      <th>categories</th>\n",
       "    </tr>\n",
       "  </thead>\n",
       "  <tbody>\n",
       "    <tr>\n",
       "      <th>0</th>\n",
       "      <td>Plant B</td>\n",
       "      <td>60 Morris St, San Francisco, CA 94107</td>\n",
       "      <td>37.776757</td>\n",
       "      <td>-122.402764</td>\n",
       "      <td>Vegan and Vegetarian Restaurant</td>\n",
       "    </tr>\n",
       "    <tr>\n",
       "      <th>1</th>\n",
       "      <td>RawDaddy's Fun Cone Food</td>\n",
       "      <td>1025 Market St, San Francisco, CA 94103</td>\n",
       "      <td>37.781373</td>\n",
       "      <td>-122.410779</td>\n",
       "      <td>Vegan and Vegetarian Restaurant</td>\n",
       "    </tr>\n",
       "  </tbody>\n",
       "</table>\n",
       "</div>"
      ],
      "text/plain": [
       "                       name                                  address   \n",
       "0                   Plant B    60 Morris St, San Francisco, CA 94107  \\\n",
       "1  RawDaddy's Fun Cone Food  1025 Market St, San Francisco, CA 94103   \n",
       "\n",
       "    latitude   longitude                       categories  \n",
       "0  37.776757 -122.402764  Vegan and Vegetarian Restaurant  \n",
       "1  37.781373 -122.410779  Vegan and Vegetarian Restaurant  "
      ]
     },
     "execution_count": 41,
     "metadata": {},
     "output_type": "execute_result"
    }
   ],
   "source": [
    "new_listSFVG = []\n",
    "for i in vegan_places:\n",
    "    new_listSFVG.append(everything_SFVG (i))\n",
    "\n",
    "df_SF_VG = pd.DataFrame(new_listSFVG)\n",
    "df_SF_VG"
   ]
  },
  {
   "cell_type": "code",
   "execution_count": 42,
   "id": "888b767f",
   "metadata": {},
   "outputs": [],
   "source": [
    "df_SF_VG.to_csv('./data/df_SF_veganrestaurants.csv')\n"
   ]
  },
  {
   "cell_type": "markdown",
   "id": "2c3fb94e",
   "metadata": {},
   "source": [
    "# 2.4 Pet grooming service - San Francisco"
   ]
  },
  {
   "cell_type": "code",
   "execution_count": 43,
   "id": "0c06c3f5",
   "metadata": {},
   "outputs": [],
   "source": [
    "def Pets_SF (SF_long, SF_lat, radius):\n",
    "    \n",
    "    url = f\"https://api.foursquare.com/v3/places/search?categories=11134&ll={SF_lat}%2C{SF_long}&radius={radius}\"\n",
    "    \n",
    "    headers = {\n",
    "        \"accept\": \"application/json\",\n",
    "        \"Authorization\": token\n",
    "    }\n",
    "    response = requests.get(url, headers=headers).json()\n",
    "\n",
    "    return response"
   ]
  },
  {
   "cell_type": "code",
   "execution_count": 44,
   "id": "20160905",
   "metadata": {},
   "outputs": [],
   "source": [
    "response= Pets_SF(-122.40045773333333, 37.781981995833334, 800)"
   ]
  },
  {
   "cell_type": "code",
   "execution_count": 45,
   "id": "8f083416",
   "metadata": {},
   "outputs": [],
   "source": [
    "def everything_SFPet (one_element):\n",
    "    \n",
    "    address = one_element[\"location\"][\"formatted_address\"]\n",
    "    name = one_element[\"name\"]\n",
    "    category=one_element[\"categories\"][0][\"name\"]\n",
    "    latitude= one_element[\"geocodes\"][\"roof\"][\"latitude\"]\n",
    "    longitude= one_element[\"geocodes\"][\"roof\"][\"longitude\"]\n",
    "    dict3 = {\"name\": name, \"address\":address, \"latitude\":latitude, \"longitude\":longitude, \"categories\":category}\n",
    "    \n",
    "    return dict3"
   ]
  },
  {
   "cell_type": "code",
   "execution_count": 46,
   "id": "fa365914",
   "metadata": {},
   "outputs": [
    {
     "data": {
      "text/html": [
       "<div>\n",
       "<style scoped>\n",
       "    .dataframe tbody tr th:only-of-type {\n",
       "        vertical-align: middle;\n",
       "    }\n",
       "\n",
       "    .dataframe tbody tr th {\n",
       "        vertical-align: top;\n",
       "    }\n",
       "\n",
       "    .dataframe thead th {\n",
       "        text-align: right;\n",
       "    }\n",
       "</style>\n",
       "<table border=\"1\" class=\"dataframe\">\n",
       "  <thead>\n",
       "    <tr style=\"text-align: right;\">\n",
       "      <th></th>\n",
       "      <th>name</th>\n",
       "      <th>address</th>\n",
       "      <th>latitude</th>\n",
       "      <th>longitude</th>\n",
       "      <th>categories</th>\n",
       "    </tr>\n",
       "  </thead>\n",
       "  <tbody>\n",
       "    <tr>\n",
       "      <th>0</th>\n",
       "      <td>SF Puppy Love</td>\n",
       "      <td>840 Harrison St (4th), San Francisco, CA 94107</td>\n",
       "      <td>37.779739</td>\n",
       "      <td>-122.401363</td>\n",
       "      <td>Pet Grooming Service</td>\n",
       "    </tr>\n",
       "    <tr>\n",
       "      <th>1</th>\n",
       "      <td>Doggie Day Spaw</td>\n",
       "      <td>920 Harrison St, San Francisco, CA 94107</td>\n",
       "      <td>37.778860</td>\n",
       "      <td>-122.402602</td>\n",
       "      <td>Pet Grooming Service</td>\n",
       "    </tr>\n",
       "    <tr>\n",
       "      <th>2</th>\n",
       "      <td>Tefani &amp; So. Dogcare</td>\n",
       "      <td>156 2nd St, San Francisco, CA 94105</td>\n",
       "      <td>37.787063</td>\n",
       "      <td>-122.399142</td>\n",
       "      <td>Pet Grooming Service</td>\n",
       "    </tr>\n",
       "  </tbody>\n",
       "</table>\n",
       "</div>"
      ],
      "text/plain": [
       "                   name                                         address   \n",
       "0         SF Puppy Love  840 Harrison St (4th), San Francisco, CA 94107  \\\n",
       "1       Doggie Day Spaw        920 Harrison St, San Francisco, CA 94107   \n",
       "2  Tefani & So. Dogcare             156 2nd St, San Francisco, CA 94105   \n",
       "\n",
       "    latitude   longitude            categories  \n",
       "0  37.779739 -122.401363  Pet Grooming Service  \n",
       "1  37.778860 -122.402602  Pet Grooming Service  \n",
       "2  37.787063 -122.399142  Pet Grooming Service  "
      ]
     },
     "execution_count": 46,
     "metadata": {},
     "output_type": "execute_result"
    }
   ],
   "source": [
    "new_listSFPet = []\n",
    "for i in response[\"results\"]:\n",
    "    new_listSFPet.append(everything_SFPet (i))\n",
    "\n",
    "df_SF_Pet = pd.DataFrame(new_listSFPet)\n",
    "df_SF_Pet"
   ]
  },
  {
   "cell_type": "code",
   "execution_count": 47,
   "id": "08843fa0",
   "metadata": {},
   "outputs": [],
   "source": [
    "df_SF_Pet.to_csv('./data/df_SF_pets.csv')\n"
   ]
  },
  {
   "cell_type": "markdown",
   "id": "5ec8175b",
   "metadata": {},
   "source": [
    "# 2.4 Party - San Francisco ( nightclubs, pubs, beer bars)"
   ]
  },
  {
   "cell_type": "code",
   "execution_count": 48,
   "id": "72271537",
   "metadata": {},
   "outputs": [],
   "source": [
    "def Partying_SF (SF_long, SF_lat, radius):\n",
    "    \n",
    "    url = f\"https://api.foursquare.com/v3/places/search?categories=13009,13007,13006,13015,13018&ll={SF_lat}%2C{SF_long}&radius={radius}\"\n",
    "    \n",
    "    headers = {\n",
    "        \"accept\": \"application/json\",\n",
    "        \"Authorization\": token\n",
    "    }\n",
    "    response = requests.get(url, headers=headers).json()\n",
    "\n",
    "    return response"
   ]
  },
  {
   "cell_type": "code",
   "execution_count": 49,
   "id": "d32476f5",
   "metadata": {},
   "outputs": [],
   "source": [
    "response= Partying_SF(-122.40045773333333, 37.781981995833334, 800)\n"
   ]
  },
  {
   "cell_type": "code",
   "execution_count": 50,
   "id": "e166d582",
   "metadata": {},
   "outputs": [],
   "source": [
    "def everything_SFParty (one_element):\n",
    "    \n",
    "    address = one_element[\"location\"][\"formatted_address\"]\n",
    "    name = one_element[\"name\"]\n",
    "    category=one_element[\"categories\"][0][\"name\"]\n",
    "    latitude= one_element[\"geocodes\"][\"roof\"][\"latitude\"]\n",
    "    longitude= one_element[\"geocodes\"][\"roof\"][\"longitude\"]\n",
    "    dict4 = {\"name\": name, \"address\":address, \"latitude\":latitude, \"longitude\":longitude, \"categories\":category}\n",
    "    \n",
    "    return dict4"
   ]
  },
  {
   "cell_type": "code",
   "execution_count": 51,
   "id": "1d9a7194",
   "metadata": {},
   "outputs": [
    {
     "data": {
      "text/html": [
       "<div>\n",
       "<style scoped>\n",
       "    .dataframe tbody tr th:only-of-type {\n",
       "        vertical-align: middle;\n",
       "    }\n",
       "\n",
       "    .dataframe tbody tr th {\n",
       "        vertical-align: top;\n",
       "    }\n",
       "\n",
       "    .dataframe thead th {\n",
       "        text-align: right;\n",
       "    }\n",
       "</style>\n",
       "<table border=\"1\" class=\"dataframe\">\n",
       "  <thead>\n",
       "    <tr style=\"text-align: right;\">\n",
       "      <th></th>\n",
       "      <th>name</th>\n",
       "      <th>address</th>\n",
       "      <th>latitude</th>\n",
       "      <th>longitude</th>\n",
       "      <th>categories</th>\n",
       "    </tr>\n",
       "  </thead>\n",
       "  <tbody>\n",
       "    <tr>\n",
       "      <th>0</th>\n",
       "      <td>Black Hammer Brewing</td>\n",
       "      <td>544 Bryant St (at 3rd St), San Francisco, CA 9...</td>\n",
       "      <td>37.780716</td>\n",
       "      <td>-122.397119</td>\n",
       "      <td>Beer Garden</td>\n",
       "    </tr>\n",
       "    <tr>\n",
       "      <th>1</th>\n",
       "      <td>Local Edition</td>\n",
       "      <td>691 Market St (at 3rd St), San Francisco, CA 9...</td>\n",
       "      <td>37.787577</td>\n",
       "      <td>-122.403115</td>\n",
       "      <td>Cocktail Bar</td>\n",
       "    </tr>\n",
       "    <tr>\n",
       "      <th>2</th>\n",
       "      <td>Wine Down SF</td>\n",
       "      <td>685 Folsom St (3rd St.), San Francisco, CA 94107</td>\n",
       "      <td>37.783984</td>\n",
       "      <td>-122.398387</td>\n",
       "      <td>Beer Bar</td>\n",
       "    </tr>\n",
       "    <tr>\n",
       "      <th>3</th>\n",
       "      <td>Taksim</td>\n",
       "      <td>564 4th St, San Francisco, CA 94107</td>\n",
       "      <td>37.778732</td>\n",
       "      <td>-122.397433</td>\n",
       "      <td>Cocktail Bar</td>\n",
       "    </tr>\n",
       "    <tr>\n",
       "      <th>4</th>\n",
       "      <td>Kona's Street Market</td>\n",
       "      <td>32 3rd St, San Francisco, CA 94103</td>\n",
       "      <td>37.786996</td>\n",
       "      <td>-122.403440</td>\n",
       "      <td>Cocktail Bar</td>\n",
       "    </tr>\n",
       "    <tr>\n",
       "      <th>5</th>\n",
       "      <td>Rooh</td>\n",
       "      <td>333 Brannan St, San Francisco, CA 94107</td>\n",
       "      <td>37.781075</td>\n",
       "      <td>-122.392409</td>\n",
       "      <td>Cocktail Bar</td>\n",
       "    </tr>\n",
       "    <tr>\n",
       "      <th>6</th>\n",
       "      <td>Marianne's</td>\n",
       "      <td>360 Jessie St (at 5th St), San Francisco, CA 9...</td>\n",
       "      <td>37.783499</td>\n",
       "      <td>-122.406890</td>\n",
       "      <td>Cocktail Bar</td>\n",
       "    </tr>\n",
       "    <tr>\n",
       "      <th>7</th>\n",
       "      <td>Novela</td>\n",
       "      <td>662 Mission St (at Annie St), San Francisco, C...</td>\n",
       "      <td>37.787122</td>\n",
       "      <td>-122.401368</td>\n",
       "      <td>Cocktail Bar</td>\n",
       "    </tr>\n",
       "    <tr>\n",
       "      <th>8</th>\n",
       "      <td>Burma Club</td>\n",
       "      <td>8 Mint Plz, San Francisco, CA 94103</td>\n",
       "      <td>37.782957</td>\n",
       "      <td>-122.408005</td>\n",
       "      <td>Cocktail Bar</td>\n",
       "    </tr>\n",
       "    <tr>\n",
       "      <th>9</th>\n",
       "      <td>Gold Club</td>\n",
       "      <td>650 Howard St, San Francisco, CA 94105</td>\n",
       "      <td>37.785979</td>\n",
       "      <td>-122.399652</td>\n",
       "      <td>Cocktail Bar</td>\n",
       "    </tr>\n",
       "  </tbody>\n",
       "</table>\n",
       "</div>"
      ],
      "text/plain": [
       "                   name                                            address   \n",
       "0  Black Hammer Brewing  544 Bryant St (at 3rd St), San Francisco, CA 9...  \\\n",
       "1         Local Edition  691 Market St (at 3rd St), San Francisco, CA 9...   \n",
       "2          Wine Down SF   685 Folsom St (3rd St.), San Francisco, CA 94107   \n",
       "3                Taksim                564 4th St, San Francisco, CA 94107   \n",
       "4  Kona's Street Market                 32 3rd St, San Francisco, CA 94103   \n",
       "5                  Rooh            333 Brannan St, San Francisco, CA 94107   \n",
       "6            Marianne's  360 Jessie St (at 5th St), San Francisco, CA 9...   \n",
       "7                Novela  662 Mission St (at Annie St), San Francisco, C...   \n",
       "8            Burma Club                8 Mint Plz, San Francisco, CA 94103   \n",
       "9             Gold Club             650 Howard St, San Francisco, CA 94105   \n",
       "\n",
       "    latitude   longitude    categories  \n",
       "0  37.780716 -122.397119   Beer Garden  \n",
       "1  37.787577 -122.403115  Cocktail Bar  \n",
       "2  37.783984 -122.398387      Beer Bar  \n",
       "3  37.778732 -122.397433  Cocktail Bar  \n",
       "4  37.786996 -122.403440  Cocktail Bar  \n",
       "5  37.781075 -122.392409  Cocktail Bar  \n",
       "6  37.783499 -122.406890  Cocktail Bar  \n",
       "7  37.787122 -122.401368  Cocktail Bar  \n",
       "8  37.782957 -122.408005  Cocktail Bar  \n",
       "9  37.785979 -122.399652  Cocktail Bar  "
      ]
     },
     "execution_count": 51,
     "metadata": {},
     "output_type": "execute_result"
    }
   ],
   "source": [
    "new_listSFParty = []\n",
    "for i in response[\"results\"]:\n",
    "    new_listSFParty.append(everything_SFParty (i))\n",
    "\n",
    "df_SF_Party = pd.DataFrame(new_listSFParty)\n",
    "df_SF_Party"
   ]
  },
  {
   "cell_type": "code",
   "execution_count": 52,
   "id": "71297d8d",
   "metadata": {},
   "outputs": [],
   "source": [
    "df_SF_Party.to_csv('./data/df_SF_party.csv')\n"
   ]
  },
  {
   "cell_type": "markdown",
   "id": "0d4d19f0",
   "metadata": {},
   "source": [
    "# 2. 5 Basket Stadium - San Francisco"
   ]
  },
  {
   "cell_type": "code",
   "execution_count": 53,
   "id": "e6b872fe",
   "metadata": {},
   "outputs": [],
   "source": [
    "def Basket_SF (SF_long, SF_lat, radius):\n",
    "    \n",
    "    url = f\"https://api.foursquare.com/v3/places/search?categories=18008&ll={SF_lat}%2C{SF_long}&radius={radius}\"\n",
    "    \n",
    "    headers = {\n",
    "        \"accept\": \"application/json\",\n",
    "        \"Authorization\": token\n",
    "    }\n",
    "    response = requests.get(url, headers=headers).json()\n",
    "\n",
    "    return response"
   ]
  },
  {
   "cell_type": "code",
   "execution_count": 54,
   "id": "ab438e45",
   "metadata": {},
   "outputs": [],
   "source": [
    "response= Basket_SF(-122.40045773333333, 37.781981995833334, 3000)\n"
   ]
  },
  {
   "cell_type": "code",
   "execution_count": 55,
   "id": "86f03304",
   "metadata": {},
   "outputs": [
    {
     "data": {
      "text/html": [
       "<div>\n",
       "<style scoped>\n",
       "    .dataframe tbody tr th:only-of-type {\n",
       "        vertical-align: middle;\n",
       "    }\n",
       "\n",
       "    .dataframe tbody tr th {\n",
       "        vertical-align: top;\n",
       "    }\n",
       "\n",
       "    .dataframe thead th {\n",
       "        text-align: right;\n",
       "    }\n",
       "</style>\n",
       "<table border=\"1\" class=\"dataframe\">\n",
       "  <thead>\n",
       "    <tr style=\"text-align: right;\">\n",
       "      <th></th>\n",
       "      <th>name</th>\n",
       "      <th>address</th>\n",
       "      <th>latitude</th>\n",
       "      <th>longitude</th>\n",
       "      <th>categories</th>\n",
       "    </tr>\n",
       "  </thead>\n",
       "  <tbody>\n",
       "    <tr>\n",
       "      <th>0</th>\n",
       "      <td>Berry Basketball Courts</td>\n",
       "      <td>Berry St (I-280), San Francisco, CA 94158</td>\n",
       "      <td>37.772080</td>\n",
       "      <td>-122.397686</td>\n",
       "      <td>Basketball Court</td>\n",
       "    </tr>\n",
       "    <tr>\n",
       "      <th>1</th>\n",
       "      <td>Soma Rec Center</td>\n",
       "      <td>6TH St (Folsom Street), San Francisco, CA 94109</td>\n",
       "      <td>37.778838</td>\n",
       "      <td>-122.406328</td>\n",
       "      <td>Basketball Court</td>\n",
       "    </tr>\n",
       "    <tr>\n",
       "      <th>2</th>\n",
       "      <td>NBA Nation</td>\n",
       "      <td>20TH St, San Francisco, CA 94110</td>\n",
       "      <td>37.759168</td>\n",
       "      <td>-122.412335</td>\n",
       "      <td>Basketball Court</td>\n",
       "    </tr>\n",
       "    <tr>\n",
       "      <th>3</th>\n",
       "      <td>Alice Marble Basketball Court</td>\n",
       "      <td>2201 Hyde St (at Greenwich), San Francisco, CA...</td>\n",
       "      <td>37.801449</td>\n",
       "      <td>-122.420352</td>\n",
       "      <td>Basketball Court</td>\n",
       "    </tr>\n",
       "  </tbody>\n",
       "</table>\n",
       "</div>"
      ],
      "text/plain": [
       "                            name   \n",
       "0        Berry Basketball Courts  \\\n",
       "1                Soma Rec Center   \n",
       "2                     NBA Nation   \n",
       "3  Alice Marble Basketball Court   \n",
       "\n",
       "                                             address   latitude   longitude   \n",
       "0          Berry St (I-280), San Francisco, CA 94158  37.772080 -122.397686  \\\n",
       "1    6TH St (Folsom Street), San Francisco, CA 94109  37.778838 -122.406328   \n",
       "2                   20TH St, San Francisco, CA 94110  37.759168 -122.412335   \n",
       "3  2201 Hyde St (at Greenwich), San Francisco, CA...  37.801449 -122.420352   \n",
       "\n",
       "         categories  \n",
       "0  Basketball Court  \n",
       "1  Basketball Court  \n",
       "2  Basketball Court  \n",
       "3  Basketball Court  "
      ]
     },
     "execution_count": 55,
     "metadata": {},
     "output_type": "execute_result"
    }
   ],
   "source": [
    "def everything_SFbasket(one_element):\n",
    "    address = one_element[\"location\"][\"formatted_address\"]\n",
    "    name = one_element[\"name\"]\n",
    "    category = one_element[\"categories\"][0][\"name\"]\n",
    "    latitude = one_element[\"geocodes\"][\"main\"][\"latitude\"]\n",
    "    longitude = one_element[\"geocodes\"][\"main\"][\"longitude\"]\n",
    "    dict5 = {\"name\": name, \"address\": address, \"latitude\": latitude, \"longitude\": longitude, \"categories\": category}\n",
    "    return dict5\n",
    "\n",
    "new_listSFbasket = []\n",
    "for i in response[\"results\"]:\n",
    "    new_listSFbasket.append(everything_SFbasket(i))\n",
    "\n",
    "df_SF_basket = pd.DataFrame(new_listSFbasket)\n",
    "df_SF_basket\n"
   ]
  },
  {
   "cell_type": "code",
   "execution_count": 56,
   "id": "aebbfd2f",
   "metadata": {},
   "outputs": [],
   "source": [
    "df_SF_basket.to_csv('./data/df_SF_basket.csv')\n"
   ]
  },
  {
   "cell_type": "markdown",
   "id": "086c42a1",
   "metadata": {},
   "source": [
    "# 3. All venues - San Francisco"
   ]
  },
  {
   "cell_type": "code",
   "execution_count": 57,
   "id": "6d7086ae",
   "metadata": {
    "scrolled": true
   },
   "outputs": [
    {
     "data": {
      "text/html": [
       "<div style=\"width:100%;\"><div style=\"position:relative;width:100%;height:0;padding-bottom:60%;\"><span style=\"color:#565656\">Make this Notebook Trusted to load map: File -> Trust Notebook</span><iframe srcdoc=\"&lt;!DOCTYPE html&gt;\n",
       "&lt;html&gt;\n",
       "&lt;head&gt;\n",
       "    \n",
       "    &lt;meta http-equiv=&quot;content-type&quot; content=&quot;text/html; charset=UTF-8&quot; /&gt;\n",
       "    \n",
       "        &lt;script&gt;\n",
       "            L_NO_TOUCH = false;\n",
       "            L_DISABLE_3D = false;\n",
       "        &lt;/script&gt;\n",
       "    \n",
       "    &lt;style&gt;html, body {width: 100%;height: 100%;margin: 0;padding: 0;}&lt;/style&gt;\n",
       "    &lt;style&gt;#map {position:absolute;top:0;bottom:0;right:0;left:0;}&lt;/style&gt;\n",
       "    &lt;script src=&quot;https://cdn.jsdelivr.net/npm/leaflet@1.9.3/dist/leaflet.js&quot;&gt;&lt;/script&gt;\n",
       "    &lt;script src=&quot;https://code.jquery.com/jquery-1.12.4.min.js&quot;&gt;&lt;/script&gt;\n",
       "    &lt;script src=&quot;https://cdn.jsdelivr.net/npm/bootstrap@5.2.2/dist/js/bootstrap.bundle.min.js&quot;&gt;&lt;/script&gt;\n",
       "    &lt;script src=&quot;https://cdnjs.cloudflare.com/ajax/libs/Leaflet.awesome-markers/2.0.2/leaflet.awesome-markers.js&quot;&gt;&lt;/script&gt;\n",
       "    &lt;link rel=&quot;stylesheet&quot; href=&quot;https://cdn.jsdelivr.net/npm/leaflet@1.9.3/dist/leaflet.css&quot;/&gt;\n",
       "    &lt;link rel=&quot;stylesheet&quot; href=&quot;https://cdn.jsdelivr.net/npm/bootstrap@5.2.2/dist/css/bootstrap.min.css&quot;/&gt;\n",
       "    &lt;link rel=&quot;stylesheet&quot; href=&quot;https://netdna.bootstrapcdn.com/bootstrap/3.0.0/css/bootstrap.min.css&quot;/&gt;\n",
       "    &lt;link rel=&quot;stylesheet&quot; href=&quot;https://cdn.jsdelivr.net/npm/@fortawesome/fontawesome-free@6.2.0/css/all.min.css&quot;/&gt;\n",
       "    &lt;link rel=&quot;stylesheet&quot; href=&quot;https://cdnjs.cloudflare.com/ajax/libs/Leaflet.awesome-markers/2.0.2/leaflet.awesome-markers.css&quot;/&gt;\n",
       "    &lt;link rel=&quot;stylesheet&quot; href=&quot;https://cdn.jsdelivr.net/gh/python-visualization/folium/folium/templates/leaflet.awesome.rotate.min.css&quot;/&gt;\n",
       "    \n",
       "            &lt;meta name=&quot;viewport&quot; content=&quot;width=device-width,\n",
       "                initial-scale=1.0, maximum-scale=1.0, user-scalable=no&quot; /&gt;\n",
       "            &lt;style&gt;\n",
       "                #map_b9ed52a12f0fe79bb203526574afa50b {\n",
       "                    position: relative;\n",
       "                    width: 100.0%;\n",
       "                    height: 100.0%;\n",
       "                    left: 0.0%;\n",
       "                    top: 0.0%;\n",
       "                }\n",
       "                .leaflet-container { font-size: 1rem; }\n",
       "            &lt;/style&gt;\n",
       "        \n",
       "&lt;/head&gt;\n",
       "&lt;body&gt;\n",
       "    \n",
       "    \n",
       "            &lt;div class=&quot;folium-map&quot; id=&quot;map_b9ed52a12f0fe79bb203526574afa50b&quot; &gt;&lt;/div&gt;\n",
       "        \n",
       "&lt;/body&gt;\n",
       "&lt;script&gt;\n",
       "    \n",
       "    \n",
       "            var map_b9ed52a12f0fe79bb203526574afa50b = L.map(\n",
       "                &quot;map_b9ed52a12f0fe79bb203526574afa50b&quot;,\n",
       "                {\n",
       "                    center: [37.7749, -122.4194],\n",
       "                    crs: L.CRS.EPSG3857,\n",
       "                    zoom: 12,\n",
       "                    zoomControl: true,\n",
       "                    preferCanvas: false,\n",
       "                }\n",
       "            );\n",
       "\n",
       "            \n",
       "\n",
       "        \n",
       "    \n",
       "            var tile_layer_3e31d6cad59b0acc656bb56d7399c3f8 = L.tileLayer(\n",
       "                &quot;https://{s}.tile.openstreetmap.org/{z}/{x}/{y}.png&quot;,\n",
       "                {&quot;attribution&quot;: &quot;Data by \\u0026copy; \\u003ca target=\\&quot;_blank\\&quot; href=\\&quot;http://openstreetmap.org\\&quot;\\u003eOpenStreetMap\\u003c/a\\u003e, under \\u003ca target=\\&quot;_blank\\&quot; href=\\&quot;http://www.openstreetmap.org/copyright\\&quot;\\u003eODbL\\u003c/a\\u003e.&quot;, &quot;detectRetina&quot;: false, &quot;maxNativeZoom&quot;: 18, &quot;maxZoom&quot;: 18, &quot;minZoom&quot;: 0, &quot;noWrap&quot;: false, &quot;opacity&quot;: 1, &quot;subdomains&quot;: &quot;abc&quot;, &quot;tms&quot;: false}\n",
       "            ).addTo(map_b9ed52a12f0fe79bb203526574afa50b);\n",
       "        \n",
       "    \n",
       "            var marker_79c9afd239881f8c0f487d9a1b123cfb = L.marker(\n",
       "                [37.77208, -122.397686],\n",
       "                {}\n",
       "            ).addTo(map_b9ed52a12f0fe79bb203526574afa50b);\n",
       "        \n",
       "    \n",
       "            var icon_da506f1b6939c582446be3dc80ec9dbd = L.AwesomeMarkers.icon(\n",
       "                {&quot;extraClasses&quot;: &quot;fa-rotate-0&quot;, &quot;icon&quot;: &quot;hand-peace&quot;, &quot;iconColor&quot;: &quot;white&quot;, &quot;markerColor&quot;: &quot;orange&quot;, &quot;prefix&quot;: &quot;fa&quot;}\n",
       "            );\n",
       "            marker_79c9afd239881f8c0f487d9a1b123cfb.setIcon(icon_da506f1b6939c582446be3dc80ec9dbd);\n",
       "        \n",
       "    \n",
       "        var popup_2528ff0832662bd7d03f2fd9956e4f3e = L.popup({&quot;maxWidth&quot;: &quot;100%&quot;});\n",
       "\n",
       "        \n",
       "            \n",
       "                var html_f96f1e278f17a85a79d640c1e9b6df57 = $(`&lt;div id=&quot;html_f96f1e278f17a85a79d640c1e9b6df57&quot; style=&quot;width: 100.0%; height: 100.0%;&quot;&gt;Latitude: 37.77208&lt;br&gt;Longitude: -122.397686&lt;br&gt;Name: Berry Basketball Courts&lt;/div&gt;`)[0];\n",
       "                popup_2528ff0832662bd7d03f2fd9956e4f3e.setContent(html_f96f1e278f17a85a79d640c1e9b6df57);\n",
       "            \n",
       "        \n",
       "\n",
       "        marker_79c9afd239881f8c0f487d9a1b123cfb.bindPopup(popup_2528ff0832662bd7d03f2fd9956e4f3e)\n",
       "        ;\n",
       "\n",
       "        \n",
       "    \n",
       "    \n",
       "            var marker_f93a516ed876dad60de9f615ed66e445 = L.marker(\n",
       "                [37.778838, -122.406328],\n",
       "                {}\n",
       "            ).addTo(map_b9ed52a12f0fe79bb203526574afa50b);\n",
       "        \n",
       "    \n",
       "            var icon_21564abf5ec3172841a3e28f21f1e4e0 = L.AwesomeMarkers.icon(\n",
       "                {&quot;extraClasses&quot;: &quot;fa-rotate-0&quot;, &quot;icon&quot;: &quot;hand-peace&quot;, &quot;iconColor&quot;: &quot;white&quot;, &quot;markerColor&quot;: &quot;orange&quot;, &quot;prefix&quot;: &quot;fa&quot;}\n",
       "            );\n",
       "            marker_f93a516ed876dad60de9f615ed66e445.setIcon(icon_21564abf5ec3172841a3e28f21f1e4e0);\n",
       "        \n",
       "    \n",
       "        var popup_02f98312cd8750d28b52475c4d46423c = L.popup({&quot;maxWidth&quot;: &quot;100%&quot;});\n",
       "\n",
       "        \n",
       "            \n",
       "                var html_367208db8b3a75ea3811255a9c17ca70 = $(`&lt;div id=&quot;html_367208db8b3a75ea3811255a9c17ca70&quot; style=&quot;width: 100.0%; height: 100.0%;&quot;&gt;Latitude: 37.778838&lt;br&gt;Longitude: -122.406328&lt;br&gt;Name: Soma Rec Center&lt;/div&gt;`)[0];\n",
       "                popup_02f98312cd8750d28b52475c4d46423c.setContent(html_367208db8b3a75ea3811255a9c17ca70);\n",
       "            \n",
       "        \n",
       "\n",
       "        marker_f93a516ed876dad60de9f615ed66e445.bindPopup(popup_02f98312cd8750d28b52475c4d46423c)\n",
       "        ;\n",
       "\n",
       "        \n",
       "    \n",
       "    \n",
       "            var marker_5f89558e481fe56e0efa6401e77700a1 = L.marker(\n",
       "                [37.759168, -122.412335],\n",
       "                {}\n",
       "            ).addTo(map_b9ed52a12f0fe79bb203526574afa50b);\n",
       "        \n",
       "    \n",
       "            var icon_f17dc9eb9493f070073a263cc45008a2 = L.AwesomeMarkers.icon(\n",
       "                {&quot;extraClasses&quot;: &quot;fa-rotate-0&quot;, &quot;icon&quot;: &quot;hand-peace&quot;, &quot;iconColor&quot;: &quot;white&quot;, &quot;markerColor&quot;: &quot;orange&quot;, &quot;prefix&quot;: &quot;fa&quot;}\n",
       "            );\n",
       "            marker_5f89558e481fe56e0efa6401e77700a1.setIcon(icon_f17dc9eb9493f070073a263cc45008a2);\n",
       "        \n",
       "    \n",
       "        var popup_af3f0e4aa3d755ffbbb72a2c67cf3b16 = L.popup({&quot;maxWidth&quot;: &quot;100%&quot;});\n",
       "\n",
       "        \n",
       "            \n",
       "                var html_875849aa7a23bf1baa4c81fe7b3aa4a5 = $(`&lt;div id=&quot;html_875849aa7a23bf1baa4c81fe7b3aa4a5&quot; style=&quot;width: 100.0%; height: 100.0%;&quot;&gt;Latitude: 37.759168&lt;br&gt;Longitude: -122.412335&lt;br&gt;Name: NBA Nation&lt;/div&gt;`)[0];\n",
       "                popup_af3f0e4aa3d755ffbbb72a2c67cf3b16.setContent(html_875849aa7a23bf1baa4c81fe7b3aa4a5);\n",
       "            \n",
       "        \n",
       "\n",
       "        marker_5f89558e481fe56e0efa6401e77700a1.bindPopup(popup_af3f0e4aa3d755ffbbb72a2c67cf3b16)\n",
       "        ;\n",
       "\n",
       "        \n",
       "    \n",
       "    \n",
       "            var marker_7b546ff79d199e1efbd374bbdf7bdbd1 = L.marker(\n",
       "                [37.801449, -122.420352],\n",
       "                {}\n",
       "            ).addTo(map_b9ed52a12f0fe79bb203526574afa50b);\n",
       "        \n",
       "    \n",
       "            var icon_ddfb1aff5d98025b8dc1f4d013374ae5 = L.AwesomeMarkers.icon(\n",
       "                {&quot;extraClasses&quot;: &quot;fa-rotate-0&quot;, &quot;icon&quot;: &quot;hand-peace&quot;, &quot;iconColor&quot;: &quot;white&quot;, &quot;markerColor&quot;: &quot;orange&quot;, &quot;prefix&quot;: &quot;fa&quot;}\n",
       "            );\n",
       "            marker_7b546ff79d199e1efbd374bbdf7bdbd1.setIcon(icon_ddfb1aff5d98025b8dc1f4d013374ae5);\n",
       "        \n",
       "    \n",
       "        var popup_4be491104473f42b6099258e40dd4044 = L.popup({&quot;maxWidth&quot;: &quot;100%&quot;});\n",
       "\n",
       "        \n",
       "            \n",
       "                var html_cfcf53550cc8cfe3255e7d9ccda5f042 = $(`&lt;div id=&quot;html_cfcf53550cc8cfe3255e7d9ccda5f042&quot; style=&quot;width: 100.0%; height: 100.0%;&quot;&gt;Latitude: 37.801449&lt;br&gt;Longitude: -122.420352&lt;br&gt;Name: Alice Marble Basketball Court&lt;/div&gt;`)[0];\n",
       "                popup_4be491104473f42b6099258e40dd4044.setContent(html_cfcf53550cc8cfe3255e7d9ccda5f042);\n",
       "            \n",
       "        \n",
       "\n",
       "        marker_7b546ff79d199e1efbd374bbdf7bdbd1.bindPopup(popup_4be491104473f42b6099258e40dd4044)\n",
       "        ;\n",
       "\n",
       "        \n",
       "    \n",
       "    \n",
       "            var marker_bfef62d7cdfd4de1875edce5345e398d = L.marker(\n",
       "                [37.781777, -122.401196],\n",
       "                {}\n",
       "            ).addTo(map_b9ed52a12f0fe79bb203526574afa50b);\n",
       "        \n",
       "    \n",
       "            var icon_4566ff3e7c11216aac9eb1a56d03b849 = L.AwesomeMarkers.icon(\n",
       "                {&quot;extraClasses&quot;: &quot;fa-rotate-0&quot;, &quot;icon&quot;: &quot;graduation-cap&quot;, &quot;iconColor&quot;: &quot;white&quot;, &quot;markerColor&quot;: &quot;blue&quot;, &quot;prefix&quot;: &quot;fa&quot;}\n",
       "            );\n",
       "            marker_bfef62d7cdfd4de1875edce5345e398d.setIcon(icon_4566ff3e7c11216aac9eb1a56d03b849);\n",
       "        \n",
       "    \n",
       "        var popup_10869cbd90ae1cb53843fec72f048d75 = L.popup({&quot;maxWidth&quot;: &quot;100%&quot;});\n",
       "\n",
       "        \n",
       "            \n",
       "                var html_9f85f9699ae2c0e611d9ac3c30d94ea4 = $(`&lt;div id=&quot;html_9f85f9699ae2c0e611d9ac3c30d94ea4&quot; style=&quot;width: 100.0%; height: 100.0%;&quot;&gt;Latitude: 37.781777&lt;br&gt;Longitude: -122.401196&lt;br&gt;Category: Elementary School&lt;/div&gt;`)[0];\n",
       "                popup_10869cbd90ae1cb53843fec72f048d75.setContent(html_9f85f9699ae2c0e611d9ac3c30d94ea4);\n",
       "            \n",
       "        \n",
       "\n",
       "        marker_bfef62d7cdfd4de1875edce5345e398d.bindPopup(popup_10869cbd90ae1cb53843fec72f048d75)\n",
       "        ;\n",
       "\n",
       "        \n",
       "    \n",
       "    \n",
       "            var marker_ce11ee15a4d4bc07c3e9c1ea0d1f9a19 = L.marker(\n",
       "                [37.785486, -122.397974],\n",
       "                {}\n",
       "            ).addTo(map_b9ed52a12f0fe79bb203526574afa50b);\n",
       "        \n",
       "    \n",
       "            var icon_b9ba25a00e06a858125eb217b9fb00b7 = L.AwesomeMarkers.icon(\n",
       "                {&quot;extraClasses&quot;: &quot;fa-rotate-0&quot;, &quot;icon&quot;: &quot;graduation-cap&quot;, &quot;iconColor&quot;: &quot;white&quot;, &quot;markerColor&quot;: &quot;blue&quot;, &quot;prefix&quot;: &quot;fa&quot;}\n",
       "            );\n",
       "            marker_ce11ee15a4d4bc07c3e9c1ea0d1f9a19.setIcon(icon_b9ba25a00e06a858125eb217b9fb00b7);\n",
       "        \n",
       "    \n",
       "        var popup_b3c54e4f536c52aa55234a0e4b8a5ac8 = L.popup({&quot;maxWidth&quot;: &quot;100%&quot;});\n",
       "\n",
       "        \n",
       "            \n",
       "                var html_cad36a4866ca6922074b4948a66a7fa3 = $(`&lt;div id=&quot;html_cad36a4866ca6922074b4948a66a7fa3&quot; style=&quot;width: 100.0%; height: 100.0%;&quot;&gt;Latitude: 37.785486&lt;br&gt;Longitude: -122.397974&lt;br&gt;Category: Preschool&lt;/div&gt;`)[0];\n",
       "                popup_b3c54e4f536c52aa55234a0e4b8a5ac8.setContent(html_cad36a4866ca6922074b4948a66a7fa3);\n",
       "            \n",
       "        \n",
       "\n",
       "        marker_ce11ee15a4d4bc07c3e9c1ea0d1f9a19.bindPopup(popup_b3c54e4f536c52aa55234a0e4b8a5ac8)\n",
       "        ;\n",
       "\n",
       "        \n",
       "    \n",
       "    \n",
       "            var marker_91fc384b60f873f5f8b59d5435ec7d07 = L.marker(\n",
       "                [37.780661, -122.400414],\n",
       "                {}\n",
       "            ).addTo(map_b9ed52a12f0fe79bb203526574afa50b);\n",
       "        \n",
       "    \n",
       "            var icon_41b5ef5f49ee2d2e27afdcc6994ed9f3 = L.AwesomeMarkers.icon(\n",
       "                {&quot;extraClasses&quot;: &quot;fa-rotate-0&quot;, &quot;icon&quot;: &quot;graduation-cap&quot;, &quot;iconColor&quot;: &quot;white&quot;, &quot;markerColor&quot;: &quot;blue&quot;, &quot;prefix&quot;: &quot;fa&quot;}\n",
       "            );\n",
       "            marker_91fc384b60f873f5f8b59d5435ec7d07.setIcon(icon_41b5ef5f49ee2d2e27afdcc6994ed9f3);\n",
       "        \n",
       "    \n",
       "        var popup_6cbb440e08e63d24a3e5995b277bc170 = L.popup({&quot;maxWidth&quot;: &quot;100%&quot;});\n",
       "\n",
       "        \n",
       "            \n",
       "                var html_8e8050ae31e35477ed3e3dd764ada395 = $(`&lt;div id=&quot;html_8e8050ae31e35477ed3e3dd764ada395&quot; style=&quot;width: 100.0%; height: 100.0%;&quot;&gt;Latitude: 37.780661&lt;br&gt;Longitude: -122.400414&lt;br&gt;Category: Primary and Secondary School&lt;/div&gt;`)[0];\n",
       "                popup_6cbb440e08e63d24a3e5995b277bc170.setContent(html_8e8050ae31e35477ed3e3dd764ada395);\n",
       "            \n",
       "        \n",
       "\n",
       "        marker_91fc384b60f873f5f8b59d5435ec7d07.bindPopup(popup_6cbb440e08e63d24a3e5995b277bc170)\n",
       "        ;\n",
       "\n",
       "        \n",
       "    \n",
       "    \n",
       "            var marker_e855504628299a4e0cfe936880cdccce = L.marker(\n",
       "                [37.780634, -122.40034],\n",
       "                {}\n",
       "            ).addTo(map_b9ed52a12f0fe79bb203526574afa50b);\n",
       "        \n",
       "    \n",
       "            var icon_9e2d7c1fdc6318e8aa47b0f693aecfa9 = L.AwesomeMarkers.icon(\n",
       "                {&quot;extraClasses&quot;: &quot;fa-rotate-0&quot;, &quot;icon&quot;: &quot;graduation-cap&quot;, &quot;iconColor&quot;: &quot;white&quot;, &quot;markerColor&quot;: &quot;blue&quot;, &quot;prefix&quot;: &quot;fa&quot;}\n",
       "            );\n",
       "            marker_e855504628299a4e0cfe936880cdccce.setIcon(icon_9e2d7c1fdc6318e8aa47b0f693aecfa9);\n",
       "        \n",
       "    \n",
       "        var popup_5866d914f4e73f5587e1698e981dbb4e = L.popup({&quot;maxWidth&quot;: &quot;100%&quot;});\n",
       "\n",
       "        \n",
       "            \n",
       "                var html_eade0f00862e725270301a5eccfa26f6 = $(`&lt;div id=&quot;html_eade0f00862e725270301a5eccfa26f6&quot; style=&quot;width: 100.0%; height: 100.0%;&quot;&gt;Latitude: 37.780634&lt;br&gt;Longitude: -122.40034&lt;br&gt;Category: Primary and Secondary School&lt;/div&gt;`)[0];\n",
       "                popup_5866d914f4e73f5587e1698e981dbb4e.setContent(html_eade0f00862e725270301a5eccfa26f6);\n",
       "            \n",
       "        \n",
       "\n",
       "        marker_e855504628299a4e0cfe936880cdccce.bindPopup(popup_5866d914f4e73f5587e1698e981dbb4e)\n",
       "        ;\n",
       "\n",
       "        \n",
       "    \n",
       "    \n",
       "            var marker_18034659c577f5fe4255138b2df652e5 = L.marker(\n",
       "                [37.780596, -122.40041],\n",
       "                {}\n",
       "            ).addTo(map_b9ed52a12f0fe79bb203526574afa50b);\n",
       "        \n",
       "    \n",
       "            var icon_8a4f5798a749ebf02f8eb50bfb8cd60b = L.AwesomeMarkers.icon(\n",
       "                {&quot;extraClasses&quot;: &quot;fa-rotate-0&quot;, &quot;icon&quot;: &quot;graduation-cap&quot;, &quot;iconColor&quot;: &quot;white&quot;, &quot;markerColor&quot;: &quot;blue&quot;, &quot;prefix&quot;: &quot;fa&quot;}\n",
       "            );\n",
       "            marker_18034659c577f5fe4255138b2df652e5.setIcon(icon_8a4f5798a749ebf02f8eb50bfb8cd60b);\n",
       "        \n",
       "    \n",
       "        var popup_dd17af22efef8ca4cb788adce13d5376 = L.popup({&quot;maxWidth&quot;: &quot;100%&quot;});\n",
       "\n",
       "        \n",
       "            \n",
       "                var html_6eba40c08f5d045d63754f2c57ee6a25 = $(`&lt;div id=&quot;html_6eba40c08f5d045d63754f2c57ee6a25&quot; style=&quot;width: 100.0%; height: 100.0%;&quot;&gt;Latitude: 37.780596&lt;br&gt;Longitude: -122.40041&lt;br&gt;Category: Elementary School&lt;/div&gt;`)[0];\n",
       "                popup_dd17af22efef8ca4cb788adce13d5376.setContent(html_6eba40c08f5d045d63754f2c57ee6a25);\n",
       "            \n",
       "        \n",
       "\n",
       "        marker_18034659c577f5fe4255138b2df652e5.bindPopup(popup_dd17af22efef8ca4cb788adce13d5376)\n",
       "        ;\n",
       "\n",
       "        \n",
       "    \n",
       "    \n",
       "            var marker_4538bde97010bb42597dfb3c4239e1db = L.marker(\n",
       "                [37.780504, -122.400333],\n",
       "                {}\n",
       "            ).addTo(map_b9ed52a12f0fe79bb203526574afa50b);\n",
       "        \n",
       "    \n",
       "            var icon_22ec004934c131d3361731263feb11de = L.AwesomeMarkers.icon(\n",
       "                {&quot;extraClasses&quot;: &quot;fa-rotate-0&quot;, &quot;icon&quot;: &quot;graduation-cap&quot;, &quot;iconColor&quot;: &quot;white&quot;, &quot;markerColor&quot;: &quot;blue&quot;, &quot;prefix&quot;: &quot;fa&quot;}\n",
       "            );\n",
       "            marker_4538bde97010bb42597dfb3c4239e1db.setIcon(icon_22ec004934c131d3361731263feb11de);\n",
       "        \n",
       "    \n",
       "        var popup_d2362bf56d3233b432265610f427fa43 = L.popup({&quot;maxWidth&quot;: &quot;100%&quot;});\n",
       "\n",
       "        \n",
       "            \n",
       "                var html_c9a44e944f6e863de914cba5b87a02e0 = $(`&lt;div id=&quot;html_c9a44e944f6e863de914cba5b87a02e0&quot; style=&quot;width: 100.0%; height: 100.0%;&quot;&gt;Latitude: 37.780504&lt;br&gt;Longitude: -122.400333&lt;br&gt;Category: Primary and Secondary School&lt;/div&gt;`)[0];\n",
       "                popup_d2362bf56d3233b432265610f427fa43.setContent(html_c9a44e944f6e863de914cba5b87a02e0);\n",
       "            \n",
       "        \n",
       "\n",
       "        marker_4538bde97010bb42597dfb3c4239e1db.bindPopup(popup_d2362bf56d3233b432265610f427fa43)\n",
       "        ;\n",
       "\n",
       "        \n",
       "    \n",
       "    \n",
       "            var marker_c37a819bb6c77449d74c47c217bac57a = L.marker(\n",
       "                [37.782152, -122.398423],\n",
       "                {}\n",
       "            ).addTo(map_b9ed52a12f0fe79bb203526574afa50b);\n",
       "        \n",
       "    \n",
       "            var icon_bfe0090c9a6c5a816f96cffa2202c41f = L.AwesomeMarkers.icon(\n",
       "                {&quot;extraClasses&quot;: &quot;fa-rotate-0&quot;, &quot;icon&quot;: &quot;graduation-cap&quot;, &quot;iconColor&quot;: &quot;white&quot;, &quot;markerColor&quot;: &quot;blue&quot;, &quot;prefix&quot;: &quot;fa&quot;}\n",
       "            );\n",
       "            marker_c37a819bb6c77449d74c47c217bac57a.setIcon(icon_bfe0090c9a6c5a816f96cffa2202c41f);\n",
       "        \n",
       "    \n",
       "        var popup_00ed5ba7a96ef2392373c719d64fbaa8 = L.popup({&quot;maxWidth&quot;: &quot;100%&quot;});\n",
       "\n",
       "        \n",
       "            \n",
       "                var html_e46b954a9f30f27278f9ef158ef7a22b = $(`&lt;div id=&quot;html_e46b954a9f30f27278f9ef158ef7a22b&quot; style=&quot;width: 100.0%; height: 100.0%;&quot;&gt;Latitude: 37.782152&lt;br&gt;Longitude: -122.398423&lt;br&gt;Category: Primary and Secondary School&lt;/div&gt;`)[0];\n",
       "                popup_00ed5ba7a96ef2392373c719d64fbaa8.setContent(html_e46b954a9f30f27278f9ef158ef7a22b);\n",
       "            \n",
       "        \n",
       "\n",
       "        marker_c37a819bb6c77449d74c47c217bac57a.bindPopup(popup_00ed5ba7a96ef2392373c719d64fbaa8)\n",
       "        ;\n",
       "\n",
       "        \n",
       "    \n",
       "    \n",
       "            var marker_438962ea2f3fae3e9b9f4a1871e96a90 = L.marker(\n",
       "                [37.781318, -122.395649],\n",
       "                {}\n",
       "            ).addTo(map_b9ed52a12f0fe79bb203526574afa50b);\n",
       "        \n",
       "    \n",
       "            var icon_5d50d6c4167c86d4423441460f1bebd5 = L.AwesomeMarkers.icon(\n",
       "                {&quot;extraClasses&quot;: &quot;fa-rotate-0&quot;, &quot;icon&quot;: &quot;graduation-cap&quot;, &quot;iconColor&quot;: &quot;white&quot;, &quot;markerColor&quot;: &quot;blue&quot;, &quot;prefix&quot;: &quot;fa&quot;}\n",
       "            );\n",
       "            marker_438962ea2f3fae3e9b9f4a1871e96a90.setIcon(icon_5d50d6c4167c86d4423441460f1bebd5);\n",
       "        \n",
       "    \n",
       "        var popup_1f0b3938fe2df27a77a4cb5f506b681e = L.popup({&quot;maxWidth&quot;: &quot;100%&quot;});\n",
       "\n",
       "        \n",
       "            \n",
       "                var html_bc95089f357d8fa8469f8a2f10587472 = $(`&lt;div id=&quot;html_bc95089f357d8fa8469f8a2f10587472&quot; style=&quot;width: 100.0%; height: 100.0%;&quot;&gt;Latitude: 37.781318&lt;br&gt;Longitude: -122.395649&lt;br&gt;Category: Preschool&lt;/div&gt;`)[0];\n",
       "                popup_1f0b3938fe2df27a77a4cb5f506b681e.setContent(html_bc95089f357d8fa8469f8a2f10587472);\n",
       "            \n",
       "        \n",
       "\n",
       "        marker_438962ea2f3fae3e9b9f4a1871e96a90.bindPopup(popup_1f0b3938fe2df27a77a4cb5f506b681e)\n",
       "        ;\n",
       "\n",
       "        \n",
       "    \n",
       "    \n",
       "            var marker_7fc28db1d6921aa826fd739ec9b50400 = L.marker(\n",
       "                [37.776757, -122.402764],\n",
       "                {}\n",
       "            ).addTo(map_b9ed52a12f0fe79bb203526574afa50b);\n",
       "        \n",
       "    \n",
       "            var icon_16574b877e487bbd02734f98ab8bcd0f = L.AwesomeMarkers.icon(\n",
       "                {&quot;extraClasses&quot;: &quot;fa-rotate-0&quot;, &quot;icon&quot;: &quot;leaf&quot;, &quot;iconColor&quot;: &quot;white&quot;, &quot;markerColor&quot;: &quot;green&quot;, &quot;prefix&quot;: &quot;glyphicon&quot;}\n",
       "            );\n",
       "            marker_7fc28db1d6921aa826fd739ec9b50400.setIcon(icon_16574b877e487bbd02734f98ab8bcd0f);\n",
       "        \n",
       "    \n",
       "        var popup_ad065a54ff4058c09e6e43efd6041851 = L.popup({&quot;maxWidth&quot;: &quot;100%&quot;});\n",
       "\n",
       "        \n",
       "            \n",
       "                var html_c667d5e13cafd1ab0d418f51e6000ac3 = $(`&lt;div id=&quot;html_c667d5e13cafd1ab0d418f51e6000ac3&quot; style=&quot;width: 100.0%; height: 100.0%;&quot;&gt;Latitude: 37.776757&lt;br&gt;Longitude: -122.402764&lt;br&gt;Category: Vegan and Vegetarian Restaurant&lt;/div&gt;`)[0];\n",
       "                popup_ad065a54ff4058c09e6e43efd6041851.setContent(html_c667d5e13cafd1ab0d418f51e6000ac3);\n",
       "            \n",
       "        \n",
       "\n",
       "        marker_7fc28db1d6921aa826fd739ec9b50400.bindPopup(popup_ad065a54ff4058c09e6e43efd6041851)\n",
       "        ;\n",
       "\n",
       "        \n",
       "    \n",
       "    \n",
       "            var marker_1818531c52b786cf07dce08bbfbc3d21 = L.marker(\n",
       "                [37.781373, -122.410779],\n",
       "                {}\n",
       "            ).addTo(map_b9ed52a12f0fe79bb203526574afa50b);\n",
       "        \n",
       "    \n",
       "            var icon_43d6a06d988bdfdc4138ca0f58be59fb = L.AwesomeMarkers.icon(\n",
       "                {&quot;extraClasses&quot;: &quot;fa-rotate-0&quot;, &quot;icon&quot;: &quot;leaf&quot;, &quot;iconColor&quot;: &quot;white&quot;, &quot;markerColor&quot;: &quot;green&quot;, &quot;prefix&quot;: &quot;glyphicon&quot;}\n",
       "            );\n",
       "            marker_1818531c52b786cf07dce08bbfbc3d21.setIcon(icon_43d6a06d988bdfdc4138ca0f58be59fb);\n",
       "        \n",
       "    \n",
       "        var popup_66f21a38d3c9939fa1c50a655ee4bb8a = L.popup({&quot;maxWidth&quot;: &quot;100%&quot;});\n",
       "\n",
       "        \n",
       "            \n",
       "                var html_568c97406a745d2f74f12d9b9160a20b = $(`&lt;div id=&quot;html_568c97406a745d2f74f12d9b9160a20b&quot; style=&quot;width: 100.0%; height: 100.0%;&quot;&gt;Latitude: 37.781373&lt;br&gt;Longitude: -122.410779&lt;br&gt;Category: Vegan and Vegetarian Restaurant&lt;/div&gt;`)[0];\n",
       "                popup_66f21a38d3c9939fa1c50a655ee4bb8a.setContent(html_568c97406a745d2f74f12d9b9160a20b);\n",
       "            \n",
       "        \n",
       "\n",
       "        marker_1818531c52b786cf07dce08bbfbc3d21.bindPopup(popup_66f21a38d3c9939fa1c50a655ee4bb8a)\n",
       "        ;\n",
       "\n",
       "        \n",
       "    \n",
       "    \n",
       "            var marker_ea498c996d58941dd055c7843aa3002b = L.marker(\n",
       "                [37.788482, -122.409173],\n",
       "                {}\n",
       "            ).addTo(map_b9ed52a12f0fe79bb203526574afa50b);\n",
       "        \n",
       "    \n",
       "            var icon_8418c9ff2ae83c9ffc4b34bde5ef5e01 = L.AwesomeMarkers.icon(\n",
       "                {&quot;extraClasses&quot;: &quot;fa-rotate-0&quot;, &quot;icon&quot;: &quot;building&quot;, &quot;iconColor&quot;: &quot;white&quot;, &quot;markerColor&quot;: &quot;red&quot;, &quot;prefix&quot;: &quot;fa&quot;}\n",
       "            );\n",
       "            marker_ea498c996d58941dd055c7843aa3002b.setIcon(icon_8418c9ff2ae83c9ffc4b34bde5ef5e01);\n",
       "        \n",
       "    \n",
       "        var popup_f2926a4c48f4c643288563bf201f40eb = L.popup({&quot;maxWidth&quot;: &quot;100%&quot;});\n",
       "\n",
       "        \n",
       "            \n",
       "                var html_55db1132afcd94c992fd317728e3e757 = $(`&lt;div id=&quot;html_55db1132afcd94c992fd317728e3e757&quot; style=&quot;width: 100.0%; height: 100.0%;&quot;&gt;Latitude: 37.788482&lt;br&gt;Longitude: -122.409173&lt;br&gt;Name: Kyte&lt;/div&gt;`)[0];\n",
       "                popup_f2926a4c48f4c643288563bf201f40eb.setContent(html_55db1132afcd94c992fd317728e3e757);\n",
       "            \n",
       "        \n",
       "\n",
       "        marker_ea498c996d58941dd055c7843aa3002b.bindPopup(popup_f2926a4c48f4c643288563bf201f40eb)\n",
       "        ;\n",
       "\n",
       "        \n",
       "    \n",
       "    \n",
       "            var marker_d7aa3c2066e25fe5f7e86c8e33fbdcb3 = L.marker(\n",
       "                [37.757758, -122.388243],\n",
       "                {}\n",
       "            ).addTo(map_b9ed52a12f0fe79bb203526574afa50b);\n",
       "        \n",
       "    \n",
       "            var icon_0b82f572b2a2cac20014dbeaedde04be = L.AwesomeMarkers.icon(\n",
       "                {&quot;extraClasses&quot;: &quot;fa-rotate-0&quot;, &quot;icon&quot;: &quot;building&quot;, &quot;iconColor&quot;: &quot;white&quot;, &quot;markerColor&quot;: &quot;red&quot;, &quot;prefix&quot;: &quot;fa&quot;}\n",
       "            );\n",
       "            marker_d7aa3c2066e25fe5f7e86c8e33fbdcb3.setIcon(icon_0b82f572b2a2cac20014dbeaedde04be);\n",
       "        \n",
       "    \n",
       "        var popup_6759d31c16004cd94c8d5c47c074be94 = L.popup({&quot;maxWidth&quot;: &quot;100%&quot;});\n",
       "\n",
       "        \n",
       "            \n",
       "                var html_f1d6a3d4108b02f09b85677ac2faf3c3 = $(`&lt;div id=&quot;html_f1d6a3d4108b02f09b85677ac2faf3c3&quot; style=&quot;width: 100.0%; height: 100.0%;&quot;&gt;Latitude: 37.757758&lt;br&gt;Longitude: -122.388243&lt;br&gt;Name: Revision3&lt;/div&gt;`)[0];\n",
       "                popup_6759d31c16004cd94c8d5c47c074be94.setContent(html_f1d6a3d4108b02f09b85677ac2faf3c3);\n",
       "            \n",
       "        \n",
       "\n",
       "        marker_d7aa3c2066e25fe5f7e86c8e33fbdcb3.bindPopup(popup_6759d31c16004cd94c8d5c47c074be94)\n",
       "        ;\n",
       "\n",
       "        \n",
       "    \n",
       "    \n",
       "            var marker_bd5d500cea3f5d1a7f5aa1db0fd3ef99 = L.marker(\n",
       "                [37.780716, -122.393913],\n",
       "                {}\n",
       "            ).addTo(map_b9ed52a12f0fe79bb203526574afa50b);\n",
       "        \n",
       "    \n",
       "            var icon_945e637a4bc88194e37f59aefa71172c = L.AwesomeMarkers.icon(\n",
       "                {&quot;extraClasses&quot;: &quot;fa-rotate-0&quot;, &quot;icon&quot;: &quot;building&quot;, &quot;iconColor&quot;: &quot;white&quot;, &quot;markerColor&quot;: &quot;red&quot;, &quot;prefix&quot;: &quot;fa&quot;}\n",
       "            );\n",
       "            marker_bd5d500cea3f5d1a7f5aa1db0fd3ef99.setIcon(icon_945e637a4bc88194e37f59aefa71172c);\n",
       "        \n",
       "    \n",
       "        var popup_62508f34bd0038507848cc4b1a14dc20 = L.popup({&quot;maxWidth&quot;: &quot;100%&quot;});\n",
       "\n",
       "        \n",
       "            \n",
       "                var html_526f9e13597c4eb8ab28f8aa00a7ced0 = $(`&lt;div id=&quot;html_526f9e13597c4eb8ab28f8aa00a7ced0&quot; style=&quot;width: 100.0%; height: 100.0%;&quot;&gt;Latitude: 37.780716&lt;br&gt;Longitude: -122.393913&lt;br&gt;Name: CastTV&lt;/div&gt;`)[0];\n",
       "                popup_62508f34bd0038507848cc4b1a14dc20.setContent(html_526f9e13597c4eb8ab28f8aa00a7ced0);\n",
       "            \n",
       "        \n",
       "\n",
       "        marker_bd5d500cea3f5d1a7f5aa1db0fd3ef99.bindPopup(popup_62508f34bd0038507848cc4b1a14dc20)\n",
       "        ;\n",
       "\n",
       "        \n",
       "    \n",
       "    \n",
       "            var marker_86a743d05f3fd7d13dc7bdd4c9f81d7f = L.marker(\n",
       "                [37.788668, -122.400558],\n",
       "                {}\n",
       "            ).addTo(map_b9ed52a12f0fe79bb203526574afa50b);\n",
       "        \n",
       "    \n",
       "            var icon_e801736287f4da9e41bdc545ac9c5cdd = L.AwesomeMarkers.icon(\n",
       "                {&quot;extraClasses&quot;: &quot;fa-rotate-0&quot;, &quot;icon&quot;: &quot;building&quot;, &quot;iconColor&quot;: &quot;white&quot;, &quot;markerColor&quot;: &quot;red&quot;, &quot;prefix&quot;: &quot;fa&quot;}\n",
       "            );\n",
       "            marker_86a743d05f3fd7d13dc7bdd4c9f81d7f.setIcon(icon_e801736287f4da9e41bdc545ac9c5cdd);\n",
       "        \n",
       "    \n",
       "        var popup_eb86061ecf18d472b0837ecad7406430 = L.popup({&quot;maxWidth&quot;: &quot;100%&quot;});\n",
       "\n",
       "        \n",
       "            \n",
       "                var html_cd042775829a0914349dca60e07404ce = $(`&lt;div id=&quot;html_cd042775829a0914349dca60e07404ce&quot; style=&quot;width: 100.0%; height: 100.0%;&quot;&gt;Latitude: 37.788668&lt;br&gt;Longitude: -122.400558&lt;br&gt;Name: hi5&lt;/div&gt;`)[0];\n",
       "                popup_eb86061ecf18d472b0837ecad7406430.setContent(html_cd042775829a0914349dca60e07404ce);\n",
       "            \n",
       "        \n",
       "\n",
       "        marker_86a743d05f3fd7d13dc7bdd4c9f81d7f.bindPopup(popup_eb86061ecf18d472b0837ecad7406430)\n",
       "        ;\n",
       "\n",
       "        \n",
       "    \n",
       "    \n",
       "            var marker_a551c46d7eefbb63063123dc89065cc3 = L.marker(\n",
       "                [37.787092, -122.399972],\n",
       "                {}\n",
       "            ).addTo(map_b9ed52a12f0fe79bb203526574afa50b);\n",
       "        \n",
       "    \n",
       "            var icon_2c11c65d22b18039b08478ef52aec22e = L.AwesomeMarkers.icon(\n",
       "                {&quot;extraClasses&quot;: &quot;fa-rotate-0&quot;, &quot;icon&quot;: &quot;building&quot;, &quot;iconColor&quot;: &quot;white&quot;, &quot;markerColor&quot;: &quot;red&quot;, &quot;prefix&quot;: &quot;fa&quot;}\n",
       "            );\n",
       "            marker_a551c46d7eefbb63063123dc89065cc3.setIcon(icon_2c11c65d22b18039b08478ef52aec22e);\n",
       "        \n",
       "    \n",
       "        var popup_87065f4988215860dfa055cbaf739261 = L.popup({&quot;maxWidth&quot;: &quot;100%&quot;});\n",
       "\n",
       "        \n",
       "            \n",
       "                var html_243973cac6fc75c6df989f114919423f = $(`&lt;div id=&quot;html_243973cac6fc75c6df989f114919423f&quot; style=&quot;width: 100.0%; height: 100.0%;&quot;&gt;Latitude: 37.787092&lt;br&gt;Longitude: -122.399972&lt;br&gt;Name: Curse&lt;/div&gt;`)[0];\n",
       "                popup_87065f4988215860dfa055cbaf739261.setContent(html_243973cac6fc75c6df989f114919423f);\n",
       "            \n",
       "        \n",
       "\n",
       "        marker_a551c46d7eefbb63063123dc89065cc3.bindPopup(popup_87065f4988215860dfa055cbaf739261)\n",
       "        ;\n",
       "\n",
       "        \n",
       "    \n",
       "    \n",
       "            var marker_1a1bb2f45c26aeac6b4fc14de0c66d8d = L.marker(\n",
       "                [37.786942, -122.401245],\n",
       "                {}\n",
       "            ).addTo(map_b9ed52a12f0fe79bb203526574afa50b);\n",
       "        \n",
       "    \n",
       "            var icon_a550739c99a18ca2b47885502e06a2ed = L.AwesomeMarkers.icon(\n",
       "                {&quot;extraClasses&quot;: &quot;fa-rotate-0&quot;, &quot;icon&quot;: &quot;building&quot;, &quot;iconColor&quot;: &quot;white&quot;, &quot;markerColor&quot;: &quot;red&quot;, &quot;prefix&quot;: &quot;fa&quot;}\n",
       "            );\n",
       "            marker_1a1bb2f45c26aeac6b4fc14de0c66d8d.setIcon(icon_a550739c99a18ca2b47885502e06a2ed);\n",
       "        \n",
       "    \n",
       "        var popup_286a4f37d0f26bf2a8bbb5ccbaa18c02 = L.popup({&quot;maxWidth&quot;: &quot;100%&quot;});\n",
       "\n",
       "        \n",
       "            \n",
       "                var html_526b2f77f99e860ecd07aade261f182c = $(`&lt;div id=&quot;html_526b2f77f99e860ecd07aade261f182c&quot; style=&quot;width: 100.0%; height: 100.0%;&quot;&gt;Latitude: 37.786942&lt;br&gt;Longitude: -122.401245&lt;br&gt;Name: Kongregate&lt;/div&gt;`)[0];\n",
       "                popup_286a4f37d0f26bf2a8bbb5ccbaa18c02.setContent(html_526b2f77f99e860ecd07aade261f182c);\n",
       "            \n",
       "        \n",
       "\n",
       "        marker_1a1bb2f45c26aeac6b4fc14de0c66d8d.bindPopup(popup_286a4f37d0f26bf2a8bbb5ccbaa18c02)\n",
       "        ;\n",
       "\n",
       "        \n",
       "    \n",
       "    \n",
       "            var marker_f0d52eb4f4086d3c71810438466e2e5b = L.marker(\n",
       "                [37.781557, -122.407959],\n",
       "                {}\n",
       "            ).addTo(map_b9ed52a12f0fe79bb203526574afa50b);\n",
       "        \n",
       "    \n",
       "            var icon_284bc9303280d1950bd6155f74a45f60 = L.AwesomeMarkers.icon(\n",
       "                {&quot;extraClasses&quot;: &quot;fa-rotate-0&quot;, &quot;icon&quot;: &quot;building&quot;, &quot;iconColor&quot;: &quot;white&quot;, &quot;markerColor&quot;: &quot;red&quot;, &quot;prefix&quot;: &quot;fa&quot;}\n",
       "            );\n",
       "            marker_f0d52eb4f4086d3c71810438466e2e5b.setIcon(icon_284bc9303280d1950bd6155f74a45f60);\n",
       "        \n",
       "    \n",
       "        var popup_6b536b759fdcb21ce4a7b7eb0e9114a8 = L.popup({&quot;maxWidth&quot;: &quot;100%&quot;});\n",
       "\n",
       "        \n",
       "            \n",
       "                var html_0be0d768c02c05cd7d192e7ce50969f1 = $(`&lt;div id=&quot;html_0be0d768c02c05cd7d192e7ce50969f1&quot; style=&quot;width: 100.0%; height: 100.0%;&quot;&gt;Latitude: 37.781557&lt;br&gt;Longitude: -122.407959&lt;br&gt;Name: DanceJam&lt;/div&gt;`)[0];\n",
       "                popup_6b536b759fdcb21ce4a7b7eb0e9114a8.setContent(html_0be0d768c02c05cd7d192e7ce50969f1);\n",
       "            \n",
       "        \n",
       "\n",
       "        marker_f0d52eb4f4086d3c71810438466e2e5b.bindPopup(popup_6b536b759fdcb21ce4a7b7eb0e9114a8)\n",
       "        ;\n",
       "\n",
       "        \n",
       "    \n",
       "    \n",
       "            var marker_e291faf70d820c54c481b9be457a0ed7 = L.marker(\n",
       "                [37.782263, -122.392142],\n",
       "                {}\n",
       "            ).addTo(map_b9ed52a12f0fe79bb203526574afa50b);\n",
       "        \n",
       "    \n",
       "            var icon_3f0ebc99c5db0e3e46eb8418d3fc3d25 = L.AwesomeMarkers.icon(\n",
       "                {&quot;extraClasses&quot;: &quot;fa-rotate-0&quot;, &quot;icon&quot;: &quot;building&quot;, &quot;iconColor&quot;: &quot;white&quot;, &quot;markerColor&quot;: &quot;red&quot;, &quot;prefix&quot;: &quot;fa&quot;}\n",
       "            );\n",
       "            marker_e291faf70d820c54c481b9be457a0ed7.setIcon(icon_3f0ebc99c5db0e3e46eb8418d3fc3d25);\n",
       "        \n",
       "    \n",
       "        var popup_8774e6827be9d34e0f18231d3daafe90 = L.popup({&quot;maxWidth&quot;: &quot;100%&quot;});\n",
       "\n",
       "        \n",
       "            \n",
       "                var html_d73676ac3e7130105875b76a6a7f9670 = $(`&lt;div id=&quot;html_d73676ac3e7130105875b76a6a7f9670&quot; style=&quot;width: 100.0%; height: 100.0%;&quot;&gt;Latitude: 37.782263&lt;br&gt;Longitude: -122.392142&lt;br&gt;Name: Mevio&lt;/div&gt;`)[0];\n",
       "                popup_8774e6827be9d34e0f18231d3daafe90.setContent(html_d73676ac3e7130105875b76a6a7f9670);\n",
       "            \n",
       "        \n",
       "\n",
       "        marker_e291faf70d820c54c481b9be457a0ed7.bindPopup(popup_8774e6827be9d34e0f18231d3daafe90)\n",
       "        ;\n",
       "\n",
       "        \n",
       "    \n",
       "    \n",
       "            var marker_c2869df5e8c381b660835747e5c985a1 = L.marker(\n",
       "                [37.781265, -122.393229],\n",
       "                {}\n",
       "            ).addTo(map_b9ed52a12f0fe79bb203526574afa50b);\n",
       "        \n",
       "    \n",
       "            var icon_a9ec372839182fcedc5db1d9523c1bdb = L.AwesomeMarkers.icon(\n",
       "                {&quot;extraClasses&quot;: &quot;fa-rotate-0&quot;, &quot;icon&quot;: &quot;building&quot;, &quot;iconColor&quot;: &quot;white&quot;, &quot;markerColor&quot;: &quot;red&quot;, &quot;prefix&quot;: &quot;fa&quot;}\n",
       "            );\n",
       "            marker_c2869df5e8c381b660835747e5c985a1.setIcon(icon_a9ec372839182fcedc5db1d9523c1bdb);\n",
       "        \n",
       "    \n",
       "        var popup_a0f73c4f2b624d5de66952cc2f950996 = L.popup({&quot;maxWidth&quot;: &quot;100%&quot;});\n",
       "\n",
       "        \n",
       "            \n",
       "                var html_4ec20e0ce297ff9b42b1e964c171651d = $(`&lt;div id=&quot;html_4ec20e0ce297ff9b42b1e964c171651d&quot; style=&quot;width: 100.0%; height: 100.0%;&quot;&gt;Latitude: 37.781265&lt;br&gt;Longitude: -122.393229&lt;br&gt;Name: Crunchyroll&lt;/div&gt;`)[0];\n",
       "                popup_a0f73c4f2b624d5de66952cc2f950996.setContent(html_4ec20e0ce297ff9b42b1e964c171651d);\n",
       "            \n",
       "        \n",
       "\n",
       "        marker_c2869df5e8c381b660835747e5c985a1.bindPopup(popup_a0f73c4f2b624d5de66952cc2f950996)\n",
       "        ;\n",
       "\n",
       "        \n",
       "    \n",
       "    \n",
       "            var marker_0940b3daa7aa5c60e9436086720cdb52 = L.marker(\n",
       "                [37.783898, -122.395234],\n",
       "                {}\n",
       "            ).addTo(map_b9ed52a12f0fe79bb203526574afa50b);\n",
       "        \n",
       "    \n",
       "            var icon_40ff8bc12d1f9e2a9ef3b5145339b9ef = L.AwesomeMarkers.icon(\n",
       "                {&quot;extraClasses&quot;: &quot;fa-rotate-0&quot;, &quot;icon&quot;: &quot;building&quot;, &quot;iconColor&quot;: &quot;white&quot;, &quot;markerColor&quot;: &quot;red&quot;, &quot;prefix&quot;: &quot;fa&quot;}\n",
       "            );\n",
       "            marker_0940b3daa7aa5c60e9436086720cdb52.setIcon(icon_40ff8bc12d1f9e2a9ef3b5145339b9ef);\n",
       "        \n",
       "    \n",
       "        var popup_34513a19f155006c67a5ba845b48b6c3 = L.popup({&quot;maxWidth&quot;: &quot;100%&quot;});\n",
       "\n",
       "        \n",
       "            \n",
       "                var html_fde72a23f39ca7ad0a1fb579d7d040c0 = $(`&lt;div id=&quot;html_fde72a23f39ca7ad0a1fb579d7d040c0&quot; style=&quot;width: 100.0%; height: 100.0%;&quot;&gt;Latitude: 37.783898&lt;br&gt;Longitude: -122.395234&lt;br&gt;Name: Rupture&lt;/div&gt;`)[0];\n",
       "                popup_34513a19f155006c67a5ba845b48b6c3.setContent(html_fde72a23f39ca7ad0a1fb579d7d040c0);\n",
       "            \n",
       "        \n",
       "\n",
       "        marker_0940b3daa7aa5c60e9436086720cdb52.bindPopup(popup_34513a19f155006c67a5ba845b48b6c3)\n",
       "        ;\n",
       "\n",
       "        \n",
       "    \n",
       "    \n",
       "            var marker_3f04e44515ea6c2888fc3298b8ae0ed4 = L.marker(\n",
       "                [37.790346, -122.40185],\n",
       "                {}\n",
       "            ).addTo(map_b9ed52a12f0fe79bb203526574afa50b);\n",
       "        \n",
       "    \n",
       "            var icon_c76e3994455a6b677999ab435706aa54 = L.AwesomeMarkers.icon(\n",
       "                {&quot;extraClasses&quot;: &quot;fa-rotate-0&quot;, &quot;icon&quot;: &quot;building&quot;, &quot;iconColor&quot;: &quot;white&quot;, &quot;markerColor&quot;: &quot;red&quot;, &quot;prefix&quot;: &quot;fa&quot;}\n",
       "            );\n",
       "            marker_3f04e44515ea6c2888fc3298b8ae0ed4.setIcon(icon_c76e3994455a6b677999ab435706aa54);\n",
       "        \n",
       "    \n",
       "        var popup_8c7d65e566dc5251823261677beaf7ee = L.popup({&quot;maxWidth&quot;: &quot;100%&quot;});\n",
       "\n",
       "        \n",
       "            \n",
       "                var html_e51debca8fede233594d37aa0a89adee = $(`&lt;div id=&quot;html_e51debca8fede233594d37aa0a89adee&quot; style=&quot;width: 100.0%; height: 100.0%;&quot;&gt;Latitude: 37.790346&lt;br&gt;Longitude: -122.40185&lt;br&gt;Name: PlayFirst&lt;/div&gt;`)[0];\n",
       "                popup_8c7d65e566dc5251823261677beaf7ee.setContent(html_e51debca8fede233594d37aa0a89adee);\n",
       "            \n",
       "        \n",
       "\n",
       "        marker_3f04e44515ea6c2888fc3298b8ae0ed4.bindPopup(popup_8c7d65e566dc5251823261677beaf7ee)\n",
       "        ;\n",
       "\n",
       "        \n",
       "    \n",
       "    \n",
       "            var marker_c1c26853d9dcb427ea4e1f72f7e5682c = L.marker(\n",
       "                [37.775196, -122.419204],\n",
       "                {}\n",
       "            ).addTo(map_b9ed52a12f0fe79bb203526574afa50b);\n",
       "        \n",
       "    \n",
       "            var icon_3e585f5723072451f89ebd6e9d3e9d17 = L.AwesomeMarkers.icon(\n",
       "                {&quot;extraClasses&quot;: &quot;fa-rotate-0&quot;, &quot;icon&quot;: &quot;building&quot;, &quot;iconColor&quot;: &quot;white&quot;, &quot;markerColor&quot;: &quot;red&quot;, &quot;prefix&quot;: &quot;fa&quot;}\n",
       "            );\n",
       "            marker_c1c26853d9dcb427ea4e1f72f7e5682c.setIcon(icon_3e585f5723072451f89ebd6e9d3e9d17);\n",
       "        \n",
       "    \n",
       "        var popup_aefb4245c895b480f88828035cc59a1e = L.popup({&quot;maxWidth&quot;: &quot;100%&quot;});\n",
       "\n",
       "        \n",
       "            \n",
       "                var html_ff1ffbe404d4eda2e031805ed46b2ccf = $(`&lt;div id=&quot;html_ff1ffbe404d4eda2e031805ed46b2ccf&quot; style=&quot;width: 100.0%; height: 100.0%;&quot;&gt;Latitude: 37.775196&lt;br&gt;Longitude: -122.419204&lt;br&gt;Name: Outspark&lt;/div&gt;`)[0];\n",
       "                popup_aefb4245c895b480f88828035cc59a1e.setContent(html_ff1ffbe404d4eda2e031805ed46b2ccf);\n",
       "            \n",
       "        \n",
       "\n",
       "        marker_c1c26853d9dcb427ea4e1f72f7e5682c.bindPopup(popup_aefb4245c895b480f88828035cc59a1e)\n",
       "        ;\n",
       "\n",
       "        \n",
       "    \n",
       "    \n",
       "            var marker_d7c7b976325702515dbea98db7f9cbd7 = L.marker(\n",
       "                [37.765158, -122.404234],\n",
       "                {}\n",
       "            ).addTo(map_b9ed52a12f0fe79bb203526574afa50b);\n",
       "        \n",
       "    \n",
       "            var icon_bfaa524b8ebf94cdec4bedf6bd21624a = L.AwesomeMarkers.icon(\n",
       "                {&quot;extraClasses&quot;: &quot;fa-rotate-0&quot;, &quot;icon&quot;: &quot;building&quot;, &quot;iconColor&quot;: &quot;white&quot;, &quot;markerColor&quot;: &quot;red&quot;, &quot;prefix&quot;: &quot;fa&quot;}\n",
       "            );\n",
       "            marker_d7c7b976325702515dbea98db7f9cbd7.setIcon(icon_bfaa524b8ebf94cdec4bedf6bd21624a);\n",
       "        \n",
       "    \n",
       "        var popup_592e74ffe22f74978ab85e7c56c02ccc = L.popup({&quot;maxWidth&quot;: &quot;100%&quot;});\n",
       "\n",
       "        \n",
       "            \n",
       "                var html_53a2c7558b088a26873d0e4db8362bc7 = $(`&lt;div id=&quot;html_53a2c7558b088a26873d0e4db8362bc7&quot; style=&quot;width: 100.0%; height: 100.0%;&quot;&gt;Latitude: 37.765158&lt;br&gt;Longitude: -122.404234&lt;br&gt;Name: Zynga&lt;/div&gt;`)[0];\n",
       "                popup_592e74ffe22f74978ab85e7c56c02ccc.setContent(html_53a2c7558b088a26873d0e4db8362bc7);\n",
       "            \n",
       "        \n",
       "\n",
       "        marker_d7c7b976325702515dbea98db7f9cbd7.bindPopup(popup_592e74ffe22f74978ab85e7c56c02ccc)\n",
       "        ;\n",
       "\n",
       "        \n",
       "    \n",
       "    \n",
       "            var marker_5668cac956dcfc0a4b40efbb76d135b2 = L.marker(\n",
       "                [37.7893215, -122.4013624],\n",
       "                {}\n",
       "            ).addTo(map_b9ed52a12f0fe79bb203526574afa50b);\n",
       "        \n",
       "    \n",
       "            var icon_bbf34137c3598615c708bb106c18879d = L.AwesomeMarkers.icon(\n",
       "                {&quot;extraClasses&quot;: &quot;fa-rotate-0&quot;, &quot;icon&quot;: &quot;building&quot;, &quot;iconColor&quot;: &quot;white&quot;, &quot;markerColor&quot;: &quot;red&quot;, &quot;prefix&quot;: &quot;fa&quot;}\n",
       "            );\n",
       "            marker_5668cac956dcfc0a4b40efbb76d135b2.setIcon(icon_bbf34137c3598615c708bb106c18879d);\n",
       "        \n",
       "    \n",
       "        var popup_b38f3d0f21e65095f2f1ae8a1371a33b = L.popup({&quot;maxWidth&quot;: &quot;100%&quot;});\n",
       "\n",
       "        \n",
       "            \n",
       "                var html_61c65fc217e27fe2f767a09c23cb5101 = $(`&lt;div id=&quot;html_61c65fc217e27fe2f767a09c23cb5101&quot; style=&quot;width: 100.0%; height: 100.0%;&quot;&gt;Latitude: 37.7893215&lt;br&gt;Longitude: -122.4013624&lt;br&gt;Name: Serious Business&lt;/div&gt;`)[0];\n",
       "                popup_b38f3d0f21e65095f2f1ae8a1371a33b.setContent(html_61c65fc217e27fe2f767a09c23cb5101);\n",
       "            \n",
       "        \n",
       "\n",
       "        marker_5668cac956dcfc0a4b40efbb76d135b2.bindPopup(popup_b38f3d0f21e65095f2f1ae8a1371a33b)\n",
       "        ;\n",
       "\n",
       "        \n",
       "    \n",
       "    \n",
       "            var marker_3ccca27721da728424aaac02926c4fd1 = L.marker(\n",
       "                [37.777513, -122.397044],\n",
       "                {}\n",
       "            ).addTo(map_b9ed52a12f0fe79bb203526574afa50b);\n",
       "        \n",
       "    \n",
       "            var icon_ea55288d6de0d363dfb13b700f1d18fc = L.AwesomeMarkers.icon(\n",
       "                {&quot;extraClasses&quot;: &quot;fa-rotate-0&quot;, &quot;icon&quot;: &quot;building&quot;, &quot;iconColor&quot;: &quot;white&quot;, &quot;markerColor&quot;: &quot;red&quot;, &quot;prefix&quot;: &quot;fa&quot;}\n",
       "            );\n",
       "            marker_3ccca27721da728424aaac02926c4fd1.setIcon(icon_ea55288d6de0d363dfb13b700f1d18fc);\n",
       "        \n",
       "    \n",
       "        var popup_3579beac7b6f8810c15b8857776b73ea = L.popup({&quot;maxWidth&quot;: &quot;100%&quot;});\n",
       "\n",
       "        \n",
       "            \n",
       "                var html_ca87e88a5364719618d30fb0a038a643 = $(`&lt;div id=&quot;html_ca87e88a5364719618d30fb0a038a643&quot; style=&quot;width: 100.0%; height: 100.0%;&quot;&gt;Latitude: 37.777513&lt;br&gt;Longitude: -122.397044&lt;br&gt;Name: Citizen Sports&lt;/div&gt;`)[0];\n",
       "                popup_3579beac7b6f8810c15b8857776b73ea.setContent(html_ca87e88a5364719618d30fb0a038a643);\n",
       "            \n",
       "        \n",
       "\n",
       "        marker_3ccca27721da728424aaac02926c4fd1.bindPopup(popup_3579beac7b6f8810c15b8857776b73ea)\n",
       "        ;\n",
       "\n",
       "        \n",
       "    \n",
       "    \n",
       "            var marker_317ebde13e637746a68f92c2a374ec80 = L.marker(\n",
       "                [37.775196, -122.419204],\n",
       "                {}\n",
       "            ).addTo(map_b9ed52a12f0fe79bb203526574afa50b);\n",
       "        \n",
       "    \n",
       "            var icon_bc4e428d5e259911bdcc0406387bb6d7 = L.AwesomeMarkers.icon(\n",
       "                {&quot;extraClasses&quot;: &quot;fa-rotate-0&quot;, &quot;icon&quot;: &quot;building&quot;, &quot;iconColor&quot;: &quot;white&quot;, &quot;markerColor&quot;: &quot;red&quot;, &quot;prefix&quot;: &quot;fa&quot;}\n",
       "            );\n",
       "            marker_317ebde13e637746a68f92c2a374ec80.setIcon(icon_bc4e428d5e259911bdcc0406387bb6d7);\n",
       "        \n",
       "    \n",
       "        var popup_6b80cf553117d7ca49fcc94052649de1 = L.popup({&quot;maxWidth&quot;: &quot;100%&quot;});\n",
       "\n",
       "        \n",
       "            \n",
       "                var html_8b0dca433aee9645fd4a43b0747ad613 = $(`&lt;div id=&quot;html_8b0dca433aee9645fd4a43b0747ad613&quot; style=&quot;width: 100.0%; height: 100.0%;&quot;&gt;Latitude: 37.775196&lt;br&gt;Longitude: -122.419204&lt;br&gt;Name: PurePlay&lt;/div&gt;`)[0];\n",
       "                popup_6b80cf553117d7ca49fcc94052649de1.setContent(html_8b0dca433aee9645fd4a43b0747ad613);\n",
       "            \n",
       "        \n",
       "\n",
       "        marker_317ebde13e637746a68f92c2a374ec80.bindPopup(popup_6b80cf553117d7ca49fcc94052649de1)\n",
       "        ;\n",
       "\n",
       "        \n",
       "    \n",
       "    \n",
       "            var marker_719931d2256f1f64b27b9eccc25b8061 = L.marker(\n",
       "                [37.786906, -122.397672],\n",
       "                {}\n",
       "            ).addTo(map_b9ed52a12f0fe79bb203526574afa50b);\n",
       "        \n",
       "    \n",
       "            var icon_dbf85331aa8b038d78b895cecc8c0f88 = L.AwesomeMarkers.icon(\n",
       "                {&quot;extraClasses&quot;: &quot;fa-rotate-0&quot;, &quot;icon&quot;: &quot;building&quot;, &quot;iconColor&quot;: &quot;white&quot;, &quot;markerColor&quot;: &quot;red&quot;, &quot;prefix&quot;: &quot;fa&quot;}\n",
       "            );\n",
       "            marker_719931d2256f1f64b27b9eccc25b8061.setIcon(icon_dbf85331aa8b038d78b895cecc8c0f88);\n",
       "        \n",
       "    \n",
       "        var popup_559c9a4410993932d12327fac446d0f5 = L.popup({&quot;maxWidth&quot;: &quot;100%&quot;});\n",
       "\n",
       "        \n",
       "            \n",
       "                var html_9e7cd8943ea5ab4b23850d4796ad9d85 = $(`&lt;div id=&quot;html_9e7cd8943ea5ab4b23850d4796ad9d85&quot; style=&quot;width: 100.0%; height: 100.0%;&quot;&gt;Latitude: 37.786906&lt;br&gt;Longitude: -122.397672&lt;br&gt;Name: Lexy&lt;/div&gt;`)[0];\n",
       "                popup_559c9a4410993932d12327fac446d0f5.setContent(html_9e7cd8943ea5ab4b23850d4796ad9d85);\n",
       "            \n",
       "        \n",
       "\n",
       "        marker_719931d2256f1f64b27b9eccc25b8061.bindPopup(popup_559c9a4410993932d12327fac446d0f5)\n",
       "        ;\n",
       "\n",
       "        \n",
       "    \n",
       "    \n",
       "            var marker_44e6e18d720bba9e7af22d740d237797 = L.marker(\n",
       "                [37.7705096, -122.4015807],\n",
       "                {}\n",
       "            ).addTo(map_b9ed52a12f0fe79bb203526574afa50b);\n",
       "        \n",
       "    \n",
       "            var icon_a8fb9249eeb5ced147c67ec75f4adb6f = L.AwesomeMarkers.icon(\n",
       "                {&quot;extraClasses&quot;: &quot;fa-rotate-0&quot;, &quot;icon&quot;: &quot;building&quot;, &quot;iconColor&quot;: &quot;white&quot;, &quot;markerColor&quot;: &quot;red&quot;, &quot;prefix&quot;: &quot;fa&quot;}\n",
       "            );\n",
       "            marker_44e6e18d720bba9e7af22d740d237797.setIcon(icon_a8fb9249eeb5ced147c67ec75f4adb6f);\n",
       "        \n",
       "    \n",
       "        var popup_b32f6911552548eb12424c63807ddd15 = L.popup({&quot;maxWidth&quot;: &quot;100%&quot;});\n",
       "\n",
       "        \n",
       "            \n",
       "                var html_6a81fa46eff9a7bc23d5362129fb2629 = $(`&lt;div id=&quot;html_6a81fa46eff9a7bc23d5362129fb2629&quot; style=&quot;width: 100.0%; height: 100.0%;&quot;&gt;Latitude: 37.7705096&lt;br&gt;Longitude: -122.4015807&lt;br&gt;Name: ngmoco&lt;/div&gt;`)[0];\n",
       "                popup_b32f6911552548eb12424c63807ddd15.setContent(html_6a81fa46eff9a7bc23d5362129fb2629);\n",
       "            \n",
       "        \n",
       "\n",
       "        marker_44e6e18d720bba9e7af22d740d237797.bindPopup(popup_b32f6911552548eb12424c63807ddd15)\n",
       "        ;\n",
       "\n",
       "        \n",
       "    \n",
       "    \n",
       "            var marker_a3309805a547532b5ff334cc7f191088 = L.marker(\n",
       "                [37.783046, -122.394067],\n",
       "                {}\n",
       "            ).addTo(map_b9ed52a12f0fe79bb203526574afa50b);\n",
       "        \n",
       "    \n",
       "            var icon_7aaf1a91310e159d7a6a6db1013f047f = L.AwesomeMarkers.icon(\n",
       "                {&quot;extraClasses&quot;: &quot;fa-rotate-0&quot;, &quot;icon&quot;: &quot;building&quot;, &quot;iconColor&quot;: &quot;white&quot;, &quot;markerColor&quot;: &quot;red&quot;, &quot;prefix&quot;: &quot;fa&quot;}\n",
       "            );\n",
       "            marker_a3309805a547532b5ff334cc7f191088.setIcon(icon_7aaf1a91310e159d7a6a6db1013f047f);\n",
       "        \n",
       "    \n",
       "        var popup_8233eb85f9678ede27256e8cc82146f5 = L.popup({&quot;maxWidth&quot;: &quot;100%&quot;});\n",
       "\n",
       "        \n",
       "            \n",
       "                var html_4425d46648e644f76239b0c69a4c41db = $(`&lt;div id=&quot;html_4425d46648e644f76239b0c69a4c41db&quot; style=&quot;width: 100.0%; height: 100.0%;&quot;&gt;Latitude: 37.783046&lt;br&gt;Longitude: -122.394067&lt;br&gt;Name: Shattered Reality Interactive&lt;/div&gt;`)[0];\n",
       "                popup_8233eb85f9678ede27256e8cc82146f5.setContent(html_4425d46648e644f76239b0c69a4c41db);\n",
       "            \n",
       "        \n",
       "\n",
       "        marker_a3309805a547532b5ff334cc7f191088.bindPopup(popup_8233eb85f9678ede27256e8cc82146f5)\n",
       "        ;\n",
       "\n",
       "        \n",
       "    \n",
       "    \n",
       "            var marker_01dac07964a0faa0d413425b781a0983 = L.marker(\n",
       "                [37.804619, -122.371203],\n",
       "                {}\n",
       "            ).addTo(map_b9ed52a12f0fe79bb203526574afa50b);\n",
       "        \n",
       "    \n",
       "            var icon_6f1cc913a8c7aa3133869168caf7e043 = L.AwesomeMarkers.icon(\n",
       "                {&quot;extraClasses&quot;: &quot;fa-rotate-0&quot;, &quot;icon&quot;: &quot;building&quot;, &quot;iconColor&quot;: &quot;white&quot;, &quot;markerColor&quot;: &quot;red&quot;, &quot;prefix&quot;: &quot;fa&quot;}\n",
       "            );\n",
       "            marker_01dac07964a0faa0d413425b781a0983.setIcon(icon_6f1cc913a8c7aa3133869168caf7e043);\n",
       "        \n",
       "    \n",
       "        var popup_1a229369a078c13a0da4c06941a4c1d1 = L.popup({&quot;maxWidth&quot;: &quot;100%&quot;});\n",
       "\n",
       "        \n",
       "            \n",
       "                var html_11c277e3d8813cc0d183160513b5d859 = $(`&lt;div id=&quot;html_11c277e3d8813cc0d183160513b5d859&quot; style=&quot;width: 100.0%; height: 100.0%;&quot;&gt;Latitude: 37.804619&lt;br&gt;Longitude: -122.371203&lt;br&gt;Name: Brightstorm&lt;/div&gt;`)[0];\n",
       "                popup_1a229369a078c13a0da4c06941a4c1d1.setContent(html_11c277e3d8813cc0d183160513b5d859);\n",
       "            \n",
       "        \n",
       "\n",
       "        marker_01dac07964a0faa0d413425b781a0983.bindPopup(popup_1a229369a078c13a0da4c06941a4c1d1)\n",
       "        ;\n",
       "\n",
       "        \n",
       "    \n",
       "    \n",
       "            var marker_c2265d26ddfb0d34d7ee7eec87028170 = L.marker(\n",
       "                [37.775196, -122.419204],\n",
       "                {}\n",
       "            ).addTo(map_b9ed52a12f0fe79bb203526574afa50b);\n",
       "        \n",
       "    \n",
       "            var icon_0186a04a8bf95f116149c1631024363e = L.AwesomeMarkers.icon(\n",
       "                {&quot;extraClasses&quot;: &quot;fa-rotate-0&quot;, &quot;icon&quot;: &quot;building&quot;, &quot;iconColor&quot;: &quot;white&quot;, &quot;markerColor&quot;: &quot;red&quot;, &quot;prefix&quot;: &quot;fa&quot;}\n",
       "            );\n",
       "            marker_c2265d26ddfb0d34d7ee7eec87028170.setIcon(icon_0186a04a8bf95f116149c1631024363e);\n",
       "        \n",
       "    \n",
       "        var popup_84741c7b44b3a97b06b2e110629193a1 = L.popup({&quot;maxWidth&quot;: &quot;100%&quot;});\n",
       "\n",
       "        \n",
       "            \n",
       "                var html_6964693df11ca43973929231d57966cd = $(`&lt;div id=&quot;html_6964693df11ca43973929231d57966cd&quot; style=&quot;width: 100.0%; height: 100.0%;&quot;&gt;Latitude: 37.775196&lt;br&gt;Longitude: -122.419204&lt;br&gt;Name: One Season&lt;/div&gt;`)[0];\n",
       "                popup_84741c7b44b3a97b06b2e110629193a1.setContent(html_6964693df11ca43973929231d57966cd);\n",
       "            \n",
       "        \n",
       "\n",
       "        marker_c2265d26ddfb0d34d7ee7eec87028170.bindPopup(popup_84741c7b44b3a97b06b2e110629193a1)\n",
       "        ;\n",
       "\n",
       "        \n",
       "    \n",
       "    \n",
       "            var marker_7f99cc4c9df76f734d1b7f0aa92a7e3e = L.marker(\n",
       "                [37.77772, -122.395785],\n",
       "                {}\n",
       "            ).addTo(map_b9ed52a12f0fe79bb203526574afa50b);\n",
       "        \n",
       "    \n",
       "            var icon_aa5e711a01ef2722abb0d77f3d412afa = L.AwesomeMarkers.icon(\n",
       "                {&quot;extraClasses&quot;: &quot;fa-rotate-0&quot;, &quot;icon&quot;: &quot;building&quot;, &quot;iconColor&quot;: &quot;white&quot;, &quot;markerColor&quot;: &quot;red&quot;, &quot;prefix&quot;: &quot;fa&quot;}\n",
       "            );\n",
       "            marker_7f99cc4c9df76f734d1b7f0aa92a7e3e.setIcon(icon_aa5e711a01ef2722abb0d77f3d412afa);\n",
       "        \n",
       "    \n",
       "        var popup_a313f5cc6acd72f438c121ca47afe515 = L.popup({&quot;maxWidth&quot;: &quot;100%&quot;});\n",
       "\n",
       "        \n",
       "            \n",
       "                var html_82af461e6edfbeb5d9ea87b38b897586 = $(`&lt;div id=&quot;html_82af461e6edfbeb5d9ea87b38b897586&quot; style=&quot;width: 100.0%; height: 100.0%;&quot;&gt;Latitude: 37.77772&lt;br&gt;Longitude: -122.395785&lt;br&gt;Name: GotGame&lt;/div&gt;`)[0];\n",
       "                popup_a313f5cc6acd72f438c121ca47afe515.setContent(html_82af461e6edfbeb5d9ea87b38b897586);\n",
       "            \n",
       "        \n",
       "\n",
       "        marker_7f99cc4c9df76f734d1b7f0aa92a7e3e.bindPopup(popup_a313f5cc6acd72f438c121ca47afe515)\n",
       "        ;\n",
       "\n",
       "        \n",
       "    \n",
       "    \n",
       "            var marker_9c5bd6089687605d4734ba74535b06af = L.marker(\n",
       "                [37.7905538, -122.4041485],\n",
       "                {}\n",
       "            ).addTo(map_b9ed52a12f0fe79bb203526574afa50b);\n",
       "        \n",
       "    \n",
       "            var icon_f4cee5daa54e4e7f5bf7d78803e82ac9 = L.AwesomeMarkers.icon(\n",
       "                {&quot;extraClasses&quot;: &quot;fa-rotate-0&quot;, &quot;icon&quot;: &quot;building&quot;, &quot;iconColor&quot;: &quot;white&quot;, &quot;markerColor&quot;: &quot;red&quot;, &quot;prefix&quot;: &quot;fa&quot;}\n",
       "            );\n",
       "            marker_9c5bd6089687605d4734ba74535b06af.setIcon(icon_f4cee5daa54e4e7f5bf7d78803e82ac9);\n",
       "        \n",
       "    \n",
       "        var popup_014e16d7c129c635197d17c18dab2955 = L.popup({&quot;maxWidth&quot;: &quot;100%&quot;});\n",
       "\n",
       "        \n",
       "            \n",
       "                var html_62470acd0f7dfa0244715f72b49e8188 = $(`&lt;div id=&quot;html_62470acd0f7dfa0244715f72b49e8188&quot; style=&quot;width: 100.0%; height: 100.0%;&quot;&gt;Latitude: 37.7905538&lt;br&gt;Longitude: -122.4041485&lt;br&gt;Name: Heyzap&lt;/div&gt;`)[0];\n",
       "                popup_014e16d7c129c635197d17c18dab2955.setContent(html_62470acd0f7dfa0244715f72b49e8188);\n",
       "            \n",
       "        \n",
       "\n",
       "        marker_9c5bd6089687605d4734ba74535b06af.bindPopup(popup_014e16d7c129c635197d17c18dab2955)\n",
       "        ;\n",
       "\n",
       "        \n",
       "    \n",
       "    \n",
       "            var marker_3a7475645a02479177678bb7398d1fbe = L.marker(\n",
       "                [37.787646, -122.402759],\n",
       "                {}\n",
       "            ).addTo(map_b9ed52a12f0fe79bb203526574afa50b);\n",
       "        \n",
       "    \n",
       "            var icon_4d8040c4fa359cd2aa7fb285b795037b = L.AwesomeMarkers.icon(\n",
       "                {&quot;extraClasses&quot;: &quot;fa-rotate-0&quot;, &quot;icon&quot;: &quot;building&quot;, &quot;iconColor&quot;: &quot;white&quot;, &quot;markerColor&quot;: &quot;red&quot;, &quot;prefix&quot;: &quot;fa&quot;}\n",
       "            );\n",
       "            marker_3a7475645a02479177678bb7398d1fbe.setIcon(icon_4d8040c4fa359cd2aa7fb285b795037b);\n",
       "        \n",
       "    \n",
       "        var popup_aad1d7324db21c2585ba6be7f66ce791 = L.popup({&quot;maxWidth&quot;: &quot;100%&quot;});\n",
       "\n",
       "        \n",
       "            \n",
       "                var html_7c75b389b9310447bead1aafc7b9818f = $(`&lt;div id=&quot;html_7c75b389b9310447bead1aafc7b9818f&quot; style=&quot;width: 100.0%; height: 100.0%;&quot;&gt;Latitude: 37.787646&lt;br&gt;Longitude: -122.402759&lt;br&gt;Name: Exent&lt;/div&gt;`)[0];\n",
       "                popup_aad1d7324db21c2585ba6be7f66ce791.setContent(html_7c75b389b9310447bead1aafc7b9818f);\n",
       "            \n",
       "        \n",
       "\n",
       "        marker_3a7475645a02479177678bb7398d1fbe.bindPopup(popup_aad1d7324db21c2585ba6be7f66ce791)\n",
       "        ;\n",
       "\n",
       "        \n",
       "    \n",
       "    \n",
       "            var marker_552bfb0c191db909cadc4fbf6735843c = L.marker(\n",
       "                [37.779739, -122.401363],\n",
       "                {}\n",
       "            ).addTo(map_b9ed52a12f0fe79bb203526574afa50b);\n",
       "        \n",
       "    \n",
       "            var icon_253d96c8d75d6d140272e5ec02ebec3d = L.AwesomeMarkers.icon(\n",
       "                {&quot;extraClasses&quot;: &quot;fa-rotate-0&quot;, &quot;icon&quot;: &quot;paw&quot;, &quot;iconColor&quot;: &quot;white&quot;, &quot;markerColor&quot;: &quot;pink&quot;, &quot;prefix&quot;: &quot;fa&quot;}\n",
       "            );\n",
       "            marker_552bfb0c191db909cadc4fbf6735843c.setIcon(icon_253d96c8d75d6d140272e5ec02ebec3d);\n",
       "        \n",
       "    \n",
       "        var popup_9695fb36eadedd5c7c99b0a284158614 = L.popup({&quot;maxWidth&quot;: &quot;100%&quot;});\n",
       "\n",
       "        \n",
       "            \n",
       "                var html_bc8352294ff739f5f9b0ff4bfb1e19c3 = $(`&lt;div id=&quot;html_bc8352294ff739f5f9b0ff4bfb1e19c3&quot; style=&quot;width: 100.0%; height: 100.0%;&quot;&gt;Latitude: 37.779739&lt;br&gt;Longitude: -122.401363&lt;br&gt;Category: Pet Grooming Service&lt;/div&gt;`)[0];\n",
       "                popup_9695fb36eadedd5c7c99b0a284158614.setContent(html_bc8352294ff739f5f9b0ff4bfb1e19c3);\n",
       "            \n",
       "        \n",
       "\n",
       "        marker_552bfb0c191db909cadc4fbf6735843c.bindPopup(popup_9695fb36eadedd5c7c99b0a284158614)\n",
       "        ;\n",
       "\n",
       "        \n",
       "    \n",
       "    \n",
       "            var marker_5ecdfeee5f8edc2e62d73a10bfc03ff5 = L.marker(\n",
       "                [37.77886, -122.402602],\n",
       "                {}\n",
       "            ).addTo(map_b9ed52a12f0fe79bb203526574afa50b);\n",
       "        \n",
       "    \n",
       "            var icon_fbf3711878a3308eab7376cc2f3fab8e = L.AwesomeMarkers.icon(\n",
       "                {&quot;extraClasses&quot;: &quot;fa-rotate-0&quot;, &quot;icon&quot;: &quot;paw&quot;, &quot;iconColor&quot;: &quot;white&quot;, &quot;markerColor&quot;: &quot;pink&quot;, &quot;prefix&quot;: &quot;fa&quot;}\n",
       "            );\n",
       "            marker_5ecdfeee5f8edc2e62d73a10bfc03ff5.setIcon(icon_fbf3711878a3308eab7376cc2f3fab8e);\n",
       "        \n",
       "    \n",
       "        var popup_1b1a9f5a26c7e0b520ad0fd272a07435 = L.popup({&quot;maxWidth&quot;: &quot;100%&quot;});\n",
       "\n",
       "        \n",
       "            \n",
       "                var html_20b864dc5665fc7b483fcd3c5d3d652c = $(`&lt;div id=&quot;html_20b864dc5665fc7b483fcd3c5d3d652c&quot; style=&quot;width: 100.0%; height: 100.0%;&quot;&gt;Latitude: 37.77886&lt;br&gt;Longitude: -122.402602&lt;br&gt;Category: Pet Grooming Service&lt;/div&gt;`)[0];\n",
       "                popup_1b1a9f5a26c7e0b520ad0fd272a07435.setContent(html_20b864dc5665fc7b483fcd3c5d3d652c);\n",
       "            \n",
       "        \n",
       "\n",
       "        marker_5ecdfeee5f8edc2e62d73a10bfc03ff5.bindPopup(popup_1b1a9f5a26c7e0b520ad0fd272a07435)\n",
       "        ;\n",
       "\n",
       "        \n",
       "    \n",
       "    \n",
       "            var marker_9add5697d19c6929ba98755097e9faa1 = L.marker(\n",
       "                [37.787063, -122.399142],\n",
       "                {}\n",
       "            ).addTo(map_b9ed52a12f0fe79bb203526574afa50b);\n",
       "        \n",
       "    \n",
       "            var icon_9fd80e99740857f68471148bb15c8d85 = L.AwesomeMarkers.icon(\n",
       "                {&quot;extraClasses&quot;: &quot;fa-rotate-0&quot;, &quot;icon&quot;: &quot;paw&quot;, &quot;iconColor&quot;: &quot;white&quot;, &quot;markerColor&quot;: &quot;pink&quot;, &quot;prefix&quot;: &quot;fa&quot;}\n",
       "            );\n",
       "            marker_9add5697d19c6929ba98755097e9faa1.setIcon(icon_9fd80e99740857f68471148bb15c8d85);\n",
       "        \n",
       "    \n",
       "        var popup_7fbcf2d7fd742d0d80d5ed19bfa05b33 = L.popup({&quot;maxWidth&quot;: &quot;100%&quot;});\n",
       "\n",
       "        \n",
       "            \n",
       "                var html_164beba356e8206927b95cce243502c3 = $(`&lt;div id=&quot;html_164beba356e8206927b95cce243502c3&quot; style=&quot;width: 100.0%; height: 100.0%;&quot;&gt;Latitude: 37.787063&lt;br&gt;Longitude: -122.399142&lt;br&gt;Category: Pet Grooming Service&lt;/div&gt;`)[0];\n",
       "                popup_7fbcf2d7fd742d0d80d5ed19bfa05b33.setContent(html_164beba356e8206927b95cce243502c3);\n",
       "            \n",
       "        \n",
       "\n",
       "        marker_9add5697d19c6929ba98755097e9faa1.bindPopup(popup_7fbcf2d7fd742d0d80d5ed19bfa05b33)\n",
       "        ;\n",
       "\n",
       "        \n",
       "    \n",
       "    \n",
       "            var marker_635d2bcb54529b82b532ff4799019747 = L.marker(\n",
       "                [37.780716, -122.397119],\n",
       "                {}\n",
       "            ).addTo(map_b9ed52a12f0fe79bb203526574afa50b);\n",
       "        \n",
       "    \n",
       "            var icon_44f9abd142631ac0482168ea35dd0a82 = L.AwesomeMarkers.icon(\n",
       "                {&quot;extraClasses&quot;: &quot;fa-rotate-0&quot;, &quot;icon&quot;: &quot;beer&quot;, &quot;iconColor&quot;: &quot;white&quot;, &quot;markerColor&quot;: &quot;black&quot;, &quot;prefix&quot;: &quot;fa&quot;}\n",
       "            );\n",
       "            marker_635d2bcb54529b82b532ff4799019747.setIcon(icon_44f9abd142631ac0482168ea35dd0a82);\n",
       "        \n",
       "    \n",
       "        var popup_adca904c7c18a83fa1061594b4300066 = L.popup({&quot;maxWidth&quot;: &quot;100%&quot;});\n",
       "\n",
       "        \n",
       "            \n",
       "                var html_b48a932f8e4e47b9852b233a1f591e2b = $(`&lt;div id=&quot;html_b48a932f8e4e47b9852b233a1f591e2b&quot; style=&quot;width: 100.0%; height: 100.0%;&quot;&gt;Latitude: 37.780716&lt;br&gt;Longitude: -122.397119&lt;br&gt;Category: Beer Garden&lt;/div&gt;`)[0];\n",
       "                popup_adca904c7c18a83fa1061594b4300066.setContent(html_b48a932f8e4e47b9852b233a1f591e2b);\n",
       "            \n",
       "        \n",
       "\n",
       "        marker_635d2bcb54529b82b532ff4799019747.bindPopup(popup_adca904c7c18a83fa1061594b4300066)\n",
       "        ;\n",
       "\n",
       "        \n",
       "    \n",
       "    \n",
       "            var marker_4951804e4f3d155e3d270d937d4ea926 = L.marker(\n",
       "                [37.787577, -122.403115],\n",
       "                {}\n",
       "            ).addTo(map_b9ed52a12f0fe79bb203526574afa50b);\n",
       "        \n",
       "    \n",
       "            var icon_7dc853dbf51d965a544c6f29b397312a = L.AwesomeMarkers.icon(\n",
       "                {&quot;extraClasses&quot;: &quot;fa-rotate-0&quot;, &quot;icon&quot;: &quot;beer&quot;, &quot;iconColor&quot;: &quot;white&quot;, &quot;markerColor&quot;: &quot;black&quot;, &quot;prefix&quot;: &quot;fa&quot;}\n",
       "            );\n",
       "            marker_4951804e4f3d155e3d270d937d4ea926.setIcon(icon_7dc853dbf51d965a544c6f29b397312a);\n",
       "        \n",
       "    \n",
       "        var popup_cbf20efa1af57b84840b11df09cb16d8 = L.popup({&quot;maxWidth&quot;: &quot;100%&quot;});\n",
       "\n",
       "        \n",
       "            \n",
       "                var html_0ba93914b6b757d233ff5e2d6cb4fd5c = $(`&lt;div id=&quot;html_0ba93914b6b757d233ff5e2d6cb4fd5c&quot; style=&quot;width: 100.0%; height: 100.0%;&quot;&gt;Latitude: 37.787577&lt;br&gt;Longitude: -122.403115&lt;br&gt;Category: Cocktail Bar&lt;/div&gt;`)[0];\n",
       "                popup_cbf20efa1af57b84840b11df09cb16d8.setContent(html_0ba93914b6b757d233ff5e2d6cb4fd5c);\n",
       "            \n",
       "        \n",
       "\n",
       "        marker_4951804e4f3d155e3d270d937d4ea926.bindPopup(popup_cbf20efa1af57b84840b11df09cb16d8)\n",
       "        ;\n",
       "\n",
       "        \n",
       "    \n",
       "    \n",
       "            var marker_e9538cd993c753b4f0c708003e2c7651 = L.marker(\n",
       "                [37.783984, -122.398387],\n",
       "                {}\n",
       "            ).addTo(map_b9ed52a12f0fe79bb203526574afa50b);\n",
       "        \n",
       "    \n",
       "            var icon_5ef730188fe9af6a469bfa6ee342ff8b = L.AwesomeMarkers.icon(\n",
       "                {&quot;extraClasses&quot;: &quot;fa-rotate-0&quot;, &quot;icon&quot;: &quot;beer&quot;, &quot;iconColor&quot;: &quot;white&quot;, &quot;markerColor&quot;: &quot;black&quot;, &quot;prefix&quot;: &quot;fa&quot;}\n",
       "            );\n",
       "            marker_e9538cd993c753b4f0c708003e2c7651.setIcon(icon_5ef730188fe9af6a469bfa6ee342ff8b);\n",
       "        \n",
       "    \n",
       "        var popup_92ac85ee51d2eec564477712c9ca6665 = L.popup({&quot;maxWidth&quot;: &quot;100%&quot;});\n",
       "\n",
       "        \n",
       "            \n",
       "                var html_b0c4d9140fc46af505d77afa09fd1fdb = $(`&lt;div id=&quot;html_b0c4d9140fc46af505d77afa09fd1fdb&quot; style=&quot;width: 100.0%; height: 100.0%;&quot;&gt;Latitude: 37.783984&lt;br&gt;Longitude: -122.398387&lt;br&gt;Category: Beer Bar&lt;/div&gt;`)[0];\n",
       "                popup_92ac85ee51d2eec564477712c9ca6665.setContent(html_b0c4d9140fc46af505d77afa09fd1fdb);\n",
       "            \n",
       "        \n",
       "\n",
       "        marker_e9538cd993c753b4f0c708003e2c7651.bindPopup(popup_92ac85ee51d2eec564477712c9ca6665)\n",
       "        ;\n",
       "\n",
       "        \n",
       "    \n",
       "    \n",
       "            var marker_20bcdda115b606e5e33a46c3534665db = L.marker(\n",
       "                [37.778732, -122.397433],\n",
       "                {}\n",
       "            ).addTo(map_b9ed52a12f0fe79bb203526574afa50b);\n",
       "        \n",
       "    \n",
       "            var icon_f503e5c3a39ce10111abf3136e1bf846 = L.AwesomeMarkers.icon(\n",
       "                {&quot;extraClasses&quot;: &quot;fa-rotate-0&quot;, &quot;icon&quot;: &quot;beer&quot;, &quot;iconColor&quot;: &quot;white&quot;, &quot;markerColor&quot;: &quot;black&quot;, &quot;prefix&quot;: &quot;fa&quot;}\n",
       "            );\n",
       "            marker_20bcdda115b606e5e33a46c3534665db.setIcon(icon_f503e5c3a39ce10111abf3136e1bf846);\n",
       "        \n",
       "    \n",
       "        var popup_735591a8ab36c7b574fa726b0759bfb9 = L.popup({&quot;maxWidth&quot;: &quot;100%&quot;});\n",
       "\n",
       "        \n",
       "            \n",
       "                var html_cf9f52c1b257d8d4a233ec9951f1573a = $(`&lt;div id=&quot;html_cf9f52c1b257d8d4a233ec9951f1573a&quot; style=&quot;width: 100.0%; height: 100.0%;&quot;&gt;Latitude: 37.778732&lt;br&gt;Longitude: -122.397433&lt;br&gt;Category: Cocktail Bar&lt;/div&gt;`)[0];\n",
       "                popup_735591a8ab36c7b574fa726b0759bfb9.setContent(html_cf9f52c1b257d8d4a233ec9951f1573a);\n",
       "            \n",
       "        \n",
       "\n",
       "        marker_20bcdda115b606e5e33a46c3534665db.bindPopup(popup_735591a8ab36c7b574fa726b0759bfb9)\n",
       "        ;\n",
       "\n",
       "        \n",
       "    \n",
       "    \n",
       "            var marker_9cb1848fc5cf5b98a65b48b97c921342 = L.marker(\n",
       "                [37.786996, -122.40344],\n",
       "                {}\n",
       "            ).addTo(map_b9ed52a12f0fe79bb203526574afa50b);\n",
       "        \n",
       "    \n",
       "            var icon_f6d2d5ee7aa6b63e057290d3adf42cbb = L.AwesomeMarkers.icon(\n",
       "                {&quot;extraClasses&quot;: &quot;fa-rotate-0&quot;, &quot;icon&quot;: &quot;beer&quot;, &quot;iconColor&quot;: &quot;white&quot;, &quot;markerColor&quot;: &quot;black&quot;, &quot;prefix&quot;: &quot;fa&quot;}\n",
       "            );\n",
       "            marker_9cb1848fc5cf5b98a65b48b97c921342.setIcon(icon_f6d2d5ee7aa6b63e057290d3adf42cbb);\n",
       "        \n",
       "    \n",
       "        var popup_f5295f99d3beca80c279ca6a81da236a = L.popup({&quot;maxWidth&quot;: &quot;100%&quot;});\n",
       "\n",
       "        \n",
       "            \n",
       "                var html_c860f453b0dece648d52fc55a8c1b51b = $(`&lt;div id=&quot;html_c860f453b0dece648d52fc55a8c1b51b&quot; style=&quot;width: 100.0%; height: 100.0%;&quot;&gt;Latitude: 37.786996&lt;br&gt;Longitude: -122.40344&lt;br&gt;Category: Cocktail Bar&lt;/div&gt;`)[0];\n",
       "                popup_f5295f99d3beca80c279ca6a81da236a.setContent(html_c860f453b0dece648d52fc55a8c1b51b);\n",
       "            \n",
       "        \n",
       "\n",
       "        marker_9cb1848fc5cf5b98a65b48b97c921342.bindPopup(popup_f5295f99d3beca80c279ca6a81da236a)\n",
       "        ;\n",
       "\n",
       "        \n",
       "    \n",
       "    \n",
       "            var marker_8f7e97fc517d217948a90010df3ee37f = L.marker(\n",
       "                [37.781075, -122.392409],\n",
       "                {}\n",
       "            ).addTo(map_b9ed52a12f0fe79bb203526574afa50b);\n",
       "        \n",
       "    \n",
       "            var icon_32a7f36347a307919a23733bf6464d86 = L.AwesomeMarkers.icon(\n",
       "                {&quot;extraClasses&quot;: &quot;fa-rotate-0&quot;, &quot;icon&quot;: &quot;beer&quot;, &quot;iconColor&quot;: &quot;white&quot;, &quot;markerColor&quot;: &quot;black&quot;, &quot;prefix&quot;: &quot;fa&quot;}\n",
       "            );\n",
       "            marker_8f7e97fc517d217948a90010df3ee37f.setIcon(icon_32a7f36347a307919a23733bf6464d86);\n",
       "        \n",
       "    \n",
       "        var popup_0882440e6b2059df6fc6b484acae72da = L.popup({&quot;maxWidth&quot;: &quot;100%&quot;});\n",
       "\n",
       "        \n",
       "            \n",
       "                var html_8b43de10e323670aba5b06bcb8cd0ff0 = $(`&lt;div id=&quot;html_8b43de10e323670aba5b06bcb8cd0ff0&quot; style=&quot;width: 100.0%; height: 100.0%;&quot;&gt;Latitude: 37.781075&lt;br&gt;Longitude: -122.392409&lt;br&gt;Category: Cocktail Bar&lt;/div&gt;`)[0];\n",
       "                popup_0882440e6b2059df6fc6b484acae72da.setContent(html_8b43de10e323670aba5b06bcb8cd0ff0);\n",
       "            \n",
       "        \n",
       "\n",
       "        marker_8f7e97fc517d217948a90010df3ee37f.bindPopup(popup_0882440e6b2059df6fc6b484acae72da)\n",
       "        ;\n",
       "\n",
       "        \n",
       "    \n",
       "    \n",
       "            var marker_c86d4a5474efe258bf57aac39904b05a = L.marker(\n",
       "                [37.783499, -122.40689],\n",
       "                {}\n",
       "            ).addTo(map_b9ed52a12f0fe79bb203526574afa50b);\n",
       "        \n",
       "    \n",
       "            var icon_99731d829536c36a6ffb7ee4bec769a7 = L.AwesomeMarkers.icon(\n",
       "                {&quot;extraClasses&quot;: &quot;fa-rotate-0&quot;, &quot;icon&quot;: &quot;beer&quot;, &quot;iconColor&quot;: &quot;white&quot;, &quot;markerColor&quot;: &quot;black&quot;, &quot;prefix&quot;: &quot;fa&quot;}\n",
       "            );\n",
       "            marker_c86d4a5474efe258bf57aac39904b05a.setIcon(icon_99731d829536c36a6ffb7ee4bec769a7);\n",
       "        \n",
       "    \n",
       "        var popup_e21e4806c653ffeeb4e6f432da921333 = L.popup({&quot;maxWidth&quot;: &quot;100%&quot;});\n",
       "\n",
       "        \n",
       "            \n",
       "                var html_b2bfd1de5102c616f35318a5807270c1 = $(`&lt;div id=&quot;html_b2bfd1de5102c616f35318a5807270c1&quot; style=&quot;width: 100.0%; height: 100.0%;&quot;&gt;Latitude: 37.783499&lt;br&gt;Longitude: -122.40689&lt;br&gt;Category: Cocktail Bar&lt;/div&gt;`)[0];\n",
       "                popup_e21e4806c653ffeeb4e6f432da921333.setContent(html_b2bfd1de5102c616f35318a5807270c1);\n",
       "            \n",
       "        \n",
       "\n",
       "        marker_c86d4a5474efe258bf57aac39904b05a.bindPopup(popup_e21e4806c653ffeeb4e6f432da921333)\n",
       "        ;\n",
       "\n",
       "        \n",
       "    \n",
       "    \n",
       "            var marker_e32824bc5d35d96bec38bd2b8279bb3e = L.marker(\n",
       "                [37.787122, -122.401368],\n",
       "                {}\n",
       "            ).addTo(map_b9ed52a12f0fe79bb203526574afa50b);\n",
       "        \n",
       "    \n",
       "            var icon_a43be092d0a75da67f5e776e3f3980bb = L.AwesomeMarkers.icon(\n",
       "                {&quot;extraClasses&quot;: &quot;fa-rotate-0&quot;, &quot;icon&quot;: &quot;beer&quot;, &quot;iconColor&quot;: &quot;white&quot;, &quot;markerColor&quot;: &quot;black&quot;, &quot;prefix&quot;: &quot;fa&quot;}\n",
       "            );\n",
       "            marker_e32824bc5d35d96bec38bd2b8279bb3e.setIcon(icon_a43be092d0a75da67f5e776e3f3980bb);\n",
       "        \n",
       "    \n",
       "        var popup_0086c61b17fe581cc8ef56801d5ef760 = L.popup({&quot;maxWidth&quot;: &quot;100%&quot;});\n",
       "\n",
       "        \n",
       "            \n",
       "                var html_41d4eeec82fc807ef4f177e586746d3d = $(`&lt;div id=&quot;html_41d4eeec82fc807ef4f177e586746d3d&quot; style=&quot;width: 100.0%; height: 100.0%;&quot;&gt;Latitude: 37.787122&lt;br&gt;Longitude: -122.401368&lt;br&gt;Category: Cocktail Bar&lt;/div&gt;`)[0];\n",
       "                popup_0086c61b17fe581cc8ef56801d5ef760.setContent(html_41d4eeec82fc807ef4f177e586746d3d);\n",
       "            \n",
       "        \n",
       "\n",
       "        marker_e32824bc5d35d96bec38bd2b8279bb3e.bindPopup(popup_0086c61b17fe581cc8ef56801d5ef760)\n",
       "        ;\n",
       "\n",
       "        \n",
       "    \n",
       "    \n",
       "            var marker_4deb6764730fa373de3f7fb989749ae0 = L.marker(\n",
       "                [37.782957, -122.408005],\n",
       "                {}\n",
       "            ).addTo(map_b9ed52a12f0fe79bb203526574afa50b);\n",
       "        \n",
       "    \n",
       "            var icon_fc5620ceea7d9e57a66c1345cd83cf57 = L.AwesomeMarkers.icon(\n",
       "                {&quot;extraClasses&quot;: &quot;fa-rotate-0&quot;, &quot;icon&quot;: &quot;beer&quot;, &quot;iconColor&quot;: &quot;white&quot;, &quot;markerColor&quot;: &quot;black&quot;, &quot;prefix&quot;: &quot;fa&quot;}\n",
       "            );\n",
       "            marker_4deb6764730fa373de3f7fb989749ae0.setIcon(icon_fc5620ceea7d9e57a66c1345cd83cf57);\n",
       "        \n",
       "    \n",
       "        var popup_6189aabe7c657da220c0a736b88c8ab6 = L.popup({&quot;maxWidth&quot;: &quot;100%&quot;});\n",
       "\n",
       "        \n",
       "            \n",
       "                var html_eeac5f3129b83bdf86ae55656537ead6 = $(`&lt;div id=&quot;html_eeac5f3129b83bdf86ae55656537ead6&quot; style=&quot;width: 100.0%; height: 100.0%;&quot;&gt;Latitude: 37.782957&lt;br&gt;Longitude: -122.408005&lt;br&gt;Category: Cocktail Bar&lt;/div&gt;`)[0];\n",
       "                popup_6189aabe7c657da220c0a736b88c8ab6.setContent(html_eeac5f3129b83bdf86ae55656537ead6);\n",
       "            \n",
       "        \n",
       "\n",
       "        marker_4deb6764730fa373de3f7fb989749ae0.bindPopup(popup_6189aabe7c657da220c0a736b88c8ab6)\n",
       "        ;\n",
       "\n",
       "        \n",
       "    \n",
       "    \n",
       "            var marker_ad1e76b555514a6f9fb56ec0f9d4a2f9 = L.marker(\n",
       "                [37.785979, -122.399652],\n",
       "                {}\n",
       "            ).addTo(map_b9ed52a12f0fe79bb203526574afa50b);\n",
       "        \n",
       "    \n",
       "            var icon_5dbd61e0d1616f4e95b788e7b424fa9d = L.AwesomeMarkers.icon(\n",
       "                {&quot;extraClasses&quot;: &quot;fa-rotate-0&quot;, &quot;icon&quot;: &quot;beer&quot;, &quot;iconColor&quot;: &quot;white&quot;, &quot;markerColor&quot;: &quot;black&quot;, &quot;prefix&quot;: &quot;fa&quot;}\n",
       "            );\n",
       "            marker_ad1e76b555514a6f9fb56ec0f9d4a2f9.setIcon(icon_5dbd61e0d1616f4e95b788e7b424fa9d);\n",
       "        \n",
       "    \n",
       "        var popup_f84c243a7179e2e9bba59441b2e3b50c = L.popup({&quot;maxWidth&quot;: &quot;100%&quot;});\n",
       "\n",
       "        \n",
       "            \n",
       "                var html_a47d213662b5e0c58535c6e64a5ebc6f = $(`&lt;div id=&quot;html_a47d213662b5e0c58535c6e64a5ebc6f&quot; style=&quot;width: 100.0%; height: 100.0%;&quot;&gt;Latitude: 37.785979&lt;br&gt;Longitude: -122.399652&lt;br&gt;Category: Cocktail Bar&lt;/div&gt;`)[0];\n",
       "                popup_f84c243a7179e2e9bba59441b2e3b50c.setContent(html_a47d213662b5e0c58535c6e64a5ebc6f);\n",
       "            \n",
       "        \n",
       "\n",
       "        marker_ad1e76b555514a6f9fb56ec0f9d4a2f9.bindPopup(popup_f84c243a7179e2e9bba59441b2e3b50c)\n",
       "        ;\n",
       "\n",
       "        \n",
       "    \n",
       "    \n",
       "            var marker_1073014f6ed89c9e8978358245663a53 = L.marker(\n",
       "                [37.784117, -122.407356],\n",
       "                {}\n",
       "            ).addTo(map_b9ed52a12f0fe79bb203526574afa50b);\n",
       "        \n",
       "    \n",
       "            var icon_956ccdde6d84b5a086620fa942c717bf = L.AwesomeMarkers.icon(\n",
       "                {&quot;extraClasses&quot;: &quot;fa-rotate-0&quot;, &quot;icon&quot;: &quot;coffee&quot;, &quot;iconColor&quot;: &quot;white&quot;, &quot;markerColor&quot;: &quot;purple&quot;, &quot;prefix&quot;: &quot;fa&quot;}\n",
       "            );\n",
       "            marker_1073014f6ed89c9e8978358245663a53.setIcon(icon_956ccdde6d84b5a086620fa942c717bf);\n",
       "        \n",
       "    \n",
       "        var popup_802119088e90f0154abef2571b948db6 = L.popup({&quot;maxWidth&quot;: &quot;100%&quot;});\n",
       "\n",
       "        \n",
       "            \n",
       "                var html_68adb0b05bf11e0c3a5bfd9c88eb8d59 = $(`&lt;div id=&quot;html_68adb0b05bf11e0c3a5bfd9c88eb8d59&quot; style=&quot;width: 100.0%; height: 100.0%;&quot;&gt;Latitude: 37.784117&lt;br&gt;Longitude: -122.407356&lt;br&gt;Name: Starbucks&lt;/div&gt;`)[0];\n",
       "                popup_802119088e90f0154abef2571b948db6.setContent(html_68adb0b05bf11e0c3a5bfd9c88eb8d59);\n",
       "            \n",
       "        \n",
       "\n",
       "        marker_1073014f6ed89c9e8978358245663a53.bindPopup(popup_802119088e90f0154abef2571b948db6)\n",
       "        ;\n",
       "\n",
       "        \n",
       "    \n",
       "    \n",
       "            var marker_dfb452ec78f217aba37102dda854c513 = L.marker(\n",
       "                [37.786145, -122.405612],\n",
       "                {}\n",
       "            ).addTo(map_b9ed52a12f0fe79bb203526574afa50b);\n",
       "        \n",
       "    \n",
       "            var icon_f247aeeb1f3baf71b2d65b74eb922630 = L.AwesomeMarkers.icon(\n",
       "                {&quot;extraClasses&quot;: &quot;fa-rotate-0&quot;, &quot;icon&quot;: &quot;coffee&quot;, &quot;iconColor&quot;: &quot;white&quot;, &quot;markerColor&quot;: &quot;purple&quot;, &quot;prefix&quot;: &quot;fa&quot;}\n",
       "            );\n",
       "            marker_dfb452ec78f217aba37102dda854c513.setIcon(icon_f247aeeb1f3baf71b2d65b74eb922630);\n",
       "        \n",
       "    \n",
       "        var popup_72954f890feea68070e181b11f1f8314 = L.popup({&quot;maxWidth&quot;: &quot;100%&quot;});\n",
       "\n",
       "        \n",
       "            \n",
       "                var html_ab269c807f78f0c9f0c439012bedc297 = $(`&lt;div id=&quot;html_ab269c807f78f0c9f0c439012bedc297&quot; style=&quot;width: 100.0%; height: 100.0%;&quot;&gt;Latitude: 37.786145&lt;br&gt;Longitude: -122.405612&lt;br&gt;Name: Starbucks&lt;/div&gt;`)[0];\n",
       "                popup_72954f890feea68070e181b11f1f8314.setContent(html_ab269c807f78f0c9f0c439012bedc297);\n",
       "            \n",
       "        \n",
       "\n",
       "        marker_dfb452ec78f217aba37102dda854c513.bindPopup(popup_72954f890feea68070e181b11f1f8314)\n",
       "        ;\n",
       "\n",
       "        \n",
       "    \n",
       "    \n",
       "            var marker_f839696fbb48d1d95483c155f5c03c15 = L.marker(\n",
       "                [37.784199, -122.404135],\n",
       "                {}\n",
       "            ).addTo(map_b9ed52a12f0fe79bb203526574afa50b);\n",
       "        \n",
       "    \n",
       "            var icon_0586538e25fc24a9b638597fff125a0a = L.AwesomeMarkers.icon(\n",
       "                {&quot;extraClasses&quot;: &quot;fa-rotate-0&quot;, &quot;icon&quot;: &quot;coffee&quot;, &quot;iconColor&quot;: &quot;white&quot;, &quot;markerColor&quot;: &quot;purple&quot;, &quot;prefix&quot;: &quot;fa&quot;}\n",
       "            );\n",
       "            marker_f839696fbb48d1d95483c155f5c03c15.setIcon(icon_0586538e25fc24a9b638597fff125a0a);\n",
       "        \n",
       "    \n",
       "        var popup_1bc864211126abc799fc0e85dde69f16 = L.popup({&quot;maxWidth&quot;: &quot;100%&quot;});\n",
       "\n",
       "        \n",
       "            \n",
       "                var html_f9be0497dd3ff8f4e22ac21bddc463a7 = $(`&lt;div id=&quot;html_f9be0497dd3ff8f4e22ac21bddc463a7&quot; style=&quot;width: 100.0%; height: 100.0%;&quot;&gt;Latitude: 37.784199&lt;br&gt;Longitude: -122.404135&lt;br&gt;Name: Starbucks&lt;/div&gt;`)[0];\n",
       "                popup_1bc864211126abc799fc0e85dde69f16.setContent(html_f9be0497dd3ff8f4e22ac21bddc463a7);\n",
       "            \n",
       "        \n",
       "\n",
       "        marker_f839696fbb48d1d95483c155f5c03c15.bindPopup(popup_1bc864211126abc799fc0e85dde69f16)\n",
       "        ;\n",
       "\n",
       "        \n",
       "    \n",
       "    \n",
       "            var marker_6874dfe4467bbc2375aaea317e9bccc5 = L.marker(\n",
       "                [37.787664, -122.401113],\n",
       "                {}\n",
       "            ).addTo(map_b9ed52a12f0fe79bb203526574afa50b);\n",
       "        \n",
       "    \n",
       "            var icon_0ef0421a6b40f739bdd8c1ea12544e00 = L.AwesomeMarkers.icon(\n",
       "                {&quot;extraClasses&quot;: &quot;fa-rotate-0&quot;, &quot;icon&quot;: &quot;coffee&quot;, &quot;iconColor&quot;: &quot;white&quot;, &quot;markerColor&quot;: &quot;purple&quot;, &quot;prefix&quot;: &quot;fa&quot;}\n",
       "            );\n",
       "            marker_6874dfe4467bbc2375aaea317e9bccc5.setIcon(icon_0ef0421a6b40f739bdd8c1ea12544e00);\n",
       "        \n",
       "    \n",
       "        var popup_b9e87fd0f6f4f14c090cab018fcb4bba = L.popup({&quot;maxWidth&quot;: &quot;100%&quot;});\n",
       "\n",
       "        \n",
       "            \n",
       "                var html_e2167bc6a277f05ff4d9fa22d8d15f31 = $(`&lt;div id=&quot;html_e2167bc6a277f05ff4d9fa22d8d15f31&quot; style=&quot;width: 100.0%; height: 100.0%;&quot;&gt;Latitude: 37.787664&lt;br&gt;Longitude: -122.401113&lt;br&gt;Name: Starbucks&lt;/div&gt;`)[0];\n",
       "                popup_b9e87fd0f6f4f14c090cab018fcb4bba.setContent(html_e2167bc6a277f05ff4d9fa22d8d15f31);\n",
       "            \n",
       "        \n",
       "\n",
       "        marker_6874dfe4467bbc2375aaea317e9bccc5.bindPopup(popup_b9e87fd0f6f4f14c090cab018fcb4bba)\n",
       "        ;\n",
       "\n",
       "        \n",
       "    \n",
       "    \n",
       "            var marker_d1054c0f6e642fe7cea99ca164bdcd82 = L.marker(\n",
       "                [37.785019, -122.39981],\n",
       "                {}\n",
       "            ).addTo(map_b9ed52a12f0fe79bb203526574afa50b);\n",
       "        \n",
       "    \n",
       "            var icon_6274a94a3d2d844c4972743c0e43406c = L.AwesomeMarkers.icon(\n",
       "                {&quot;extraClasses&quot;: &quot;fa-rotate-0&quot;, &quot;icon&quot;: &quot;coffee&quot;, &quot;iconColor&quot;: &quot;white&quot;, &quot;markerColor&quot;: &quot;purple&quot;, &quot;prefix&quot;: &quot;fa&quot;}\n",
       "            );\n",
       "            marker_d1054c0f6e642fe7cea99ca164bdcd82.setIcon(icon_6274a94a3d2d844c4972743c0e43406c);\n",
       "        \n",
       "    \n",
       "        var popup_351af03d0e3fe446daa5f595fd547389 = L.popup({&quot;maxWidth&quot;: &quot;100%&quot;});\n",
       "\n",
       "        \n",
       "            \n",
       "                var html_799da1ecec07bd35d7f41781151b2d1c = $(`&lt;div id=&quot;html_799da1ecec07bd35d7f41781151b2d1c&quot; style=&quot;width: 100.0%; height: 100.0%;&quot;&gt;Latitude: 37.785019&lt;br&gt;Longitude: -122.39981&lt;br&gt;Name: Starbucks&lt;/div&gt;`)[0];\n",
       "                popup_351af03d0e3fe446daa5f595fd547389.setContent(html_799da1ecec07bd35d7f41781151b2d1c);\n",
       "            \n",
       "        \n",
       "\n",
       "        marker_d1054c0f6e642fe7cea99ca164bdcd82.bindPopup(popup_351af03d0e3fe446daa5f595fd547389)\n",
       "        ;\n",
       "\n",
       "        \n",
       "    \n",
       "    \n",
       "            var marker_6fd9ad5c49ab43d5cf8055f2741f541e = L.marker(\n",
       "                [44.8073997497559, -68.8281021118164],\n",
       "                {}\n",
       "            ).addTo(map_b9ed52a12f0fe79bb203526574afa50b);\n",
       "        \n",
       "    \n",
       "            var icon_8b750da4ca9831ed28a306493766110d = L.AwesomeMarkers.icon(\n",
       "                {&quot;extraClasses&quot;: &quot;fa-rotate-0&quot;, &quot;icon&quot;: &quot;plane&quot;, &quot;iconColor&quot;: &quot;white&quot;, &quot;markerColor&quot;: &quot;cadetblue&quot;, &quot;prefix&quot;: &quot;fa&quot;}\n",
       "            );\n",
       "            marker_6fd9ad5c49ab43d5cf8055f2741f541e.setIcon(icon_8b750da4ca9831ed28a306493766110d);\n",
       "        \n",
       "    \n",
       "        var popup_cda6baeb84bef089ec631156b96d4e8d = L.popup({&quot;maxWidth&quot;: &quot;100%&quot;});\n",
       "\n",
       "        \n",
       "            \n",
       "                var html_15bdd2db6b8116a0481fd09090ea13ee = $(`&lt;div id=&quot;html_15bdd2db6b8116a0481fd09090ea13ee&quot; style=&quot;width: 100.0%; height: 100.0%;&quot;&gt;Latitude: 44.8073997497559&lt;br&gt;Longitude: -68.8281021118164&lt;br&gt;Name: Bangor International Airport&lt;/div&gt;`)[0];\n",
       "                popup_cda6baeb84bef089ec631156b96d4e8d.setContent(html_15bdd2db6b8116a0481fd09090ea13ee);\n",
       "            \n",
       "        \n",
       "\n",
       "        marker_6fd9ad5c49ab43d5cf8055f2741f541e.bindPopup(popup_cda6baeb84bef089ec631156b96d4e8d)\n",
       "        ;\n",
       "\n",
       "        \n",
       "    \n",
       "    \n",
       "            var marker_8cc4637608fc50eb93fbbc5bd4ef852c = L.marker(\n",
       "                [33.942501, -118.407997],\n",
       "                {}\n",
       "            ).addTo(map_b9ed52a12f0fe79bb203526574afa50b);\n",
       "        \n",
       "    \n",
       "            var icon_a3ece99926f9eff34bafb051f36d3ff8 = L.AwesomeMarkers.icon(\n",
       "                {&quot;extraClasses&quot;: &quot;fa-rotate-0&quot;, &quot;icon&quot;: &quot;plane&quot;, &quot;iconColor&quot;: &quot;white&quot;, &quot;markerColor&quot;: &quot;cadetblue&quot;, &quot;prefix&quot;: &quot;fa&quot;}\n",
       "            );\n",
       "            marker_8cc4637608fc50eb93fbbc5bd4ef852c.setIcon(icon_a3ece99926f9eff34bafb051f36d3ff8);\n",
       "        \n",
       "    \n",
       "        var popup_1acdb73509d8f82a007b1e69e166391b = L.popup({&quot;maxWidth&quot;: &quot;100%&quot;});\n",
       "\n",
       "        \n",
       "            \n",
       "                var html_7ca48079472e309ecffc12b414dc2529 = $(`&lt;div id=&quot;html_7ca48079472e309ecffc12b414dc2529&quot; style=&quot;width: 100.0%; height: 100.0%;&quot;&gt;Latitude: 33.942501&lt;br&gt;Longitude: -118.407997&lt;br&gt;Name: Los Angeles International Airport&lt;/div&gt;`)[0];\n",
       "                popup_1acdb73509d8f82a007b1e69e166391b.setContent(html_7ca48079472e309ecffc12b414dc2529);\n",
       "            \n",
       "        \n",
       "\n",
       "        marker_8cc4637608fc50eb93fbbc5bd4ef852c.bindPopup(popup_1acdb73509d8f82a007b1e69e166391b)\n",
       "        ;\n",
       "\n",
       "        \n",
       "    \n",
       "    \n",
       "            var marker_aac79697f352edacf9844a61c66841ae = L.marker(\n",
       "                [37.721298, -122.221001],\n",
       "                {}\n",
       "            ).addTo(map_b9ed52a12f0fe79bb203526574afa50b);\n",
       "        \n",
       "    \n",
       "            var icon_4d3a09a58badd6dd5b7597620b41706d = L.AwesomeMarkers.icon(\n",
       "                {&quot;extraClasses&quot;: &quot;fa-rotate-0&quot;, &quot;icon&quot;: &quot;plane&quot;, &quot;iconColor&quot;: &quot;white&quot;, &quot;markerColor&quot;: &quot;cadetblue&quot;, &quot;prefix&quot;: &quot;fa&quot;}\n",
       "            );\n",
       "            marker_aac79697f352edacf9844a61c66841ae.setIcon(icon_4d3a09a58badd6dd5b7597620b41706d);\n",
       "        \n",
       "    \n",
       "        var popup_602b498fa1f8d19f9eab15ee4c895a63 = L.popup({&quot;maxWidth&quot;: &quot;100%&quot;});\n",
       "\n",
       "        \n",
       "            \n",
       "                var html_2b1eb670deb21dbb578b6410df30c034 = $(`&lt;div id=&quot;html_2b1eb670deb21dbb578b6410df30c034&quot; style=&quot;width: 100.0%; height: 100.0%;&quot;&gt;Latitude: 37.721298&lt;br&gt;Longitude: -122.221001&lt;br&gt;Name: Metropolitan Oakland International Airport&lt;/div&gt;`)[0];\n",
       "                popup_602b498fa1f8d19f9eab15ee4c895a63.setContent(html_2b1eb670deb21dbb578b6410df30c034);\n",
       "            \n",
       "        \n",
       "\n",
       "        marker_aac79697f352edacf9844a61c66841ae.bindPopup(popup_602b498fa1f8d19f9eab15ee4c895a63)\n",
       "        ;\n",
       "\n",
       "        \n",
       "    \n",
       "    \n",
       "            var marker_ed6db73b3938b2f43668b4cc52e23693 = L.marker(\n",
       "                [37.6189994812012, -122.375],\n",
       "                {}\n",
       "            ).addTo(map_b9ed52a12f0fe79bb203526574afa50b);\n",
       "        \n",
       "    \n",
       "            var icon_418ff731c371b9675534430bb96b540f = L.AwesomeMarkers.icon(\n",
       "                {&quot;extraClasses&quot;: &quot;fa-rotate-0&quot;, &quot;icon&quot;: &quot;plane&quot;, &quot;iconColor&quot;: &quot;white&quot;, &quot;markerColor&quot;: &quot;cadetblue&quot;, &quot;prefix&quot;: &quot;fa&quot;}\n",
       "            );\n",
       "            marker_ed6db73b3938b2f43668b4cc52e23693.setIcon(icon_418ff731c371b9675534430bb96b540f);\n",
       "        \n",
       "    \n",
       "        var popup_e65320cf4f10bf92aeb195463672a225 = L.popup({&quot;maxWidth&quot;: &quot;100%&quot;});\n",
       "\n",
       "        \n",
       "            \n",
       "                var html_f4568ba5cf5ffb44e633d20175ddc0cc = $(`&lt;div id=&quot;html_f4568ba5cf5ffb44e633d20175ddc0cc&quot; style=&quot;width: 100.0%; height: 100.0%;&quot;&gt;Latitude: 37.6189994812012&lt;br&gt;Longitude: -122.375&lt;br&gt;Name: San Francisco International Airport&lt;/div&gt;`)[0];\n",
       "                popup_e65320cf4f10bf92aeb195463672a225.setContent(html_f4568ba5cf5ffb44e633d20175ddc0cc);\n",
       "            \n",
       "        \n",
       "\n",
       "        marker_ed6db73b3938b2f43668b4cc52e23693.bindPopup(popup_e65320cf4f10bf92aeb195463672a225)\n",
       "        ;\n",
       "\n",
       "        \n",
       "    \n",
       "    \n",
       "            var marker_70d375927c0e263a8f95f6e05daad5f9 = L.marker(\n",
       "                [37.362598, -121.929001],\n",
       "                {}\n",
       "            ).addTo(map_b9ed52a12f0fe79bb203526574afa50b);\n",
       "        \n",
       "    \n",
       "            var icon_7cf6625506d686827a22e6798a50297b = L.AwesomeMarkers.icon(\n",
       "                {&quot;extraClasses&quot;: &quot;fa-rotate-0&quot;, &quot;icon&quot;: &quot;plane&quot;, &quot;iconColor&quot;: &quot;white&quot;, &quot;markerColor&quot;: &quot;cadetblue&quot;, &quot;prefix&quot;: &quot;fa&quot;}\n",
       "            );\n",
       "            marker_70d375927c0e263a8f95f6e05daad5f9.setIcon(icon_7cf6625506d686827a22e6798a50297b);\n",
       "        \n",
       "    \n",
       "        var popup_dc77902c12e3c1ba3f16a3de53e32183 = L.popup({&quot;maxWidth&quot;: &quot;100%&quot;});\n",
       "\n",
       "        \n",
       "            \n",
       "                var html_d679ea65f9324ae8b3e25e067ee8155f = $(`&lt;div id=&quot;html_d679ea65f9324ae8b3e25e067ee8155f&quot; style=&quot;width: 100.0%; height: 100.0%;&quot;&gt;Latitude: 37.362598&lt;br&gt;Longitude: -121.929001&lt;br&gt;Name: Norman Y. Mineta San Jose International Airport&lt;/div&gt;`)[0];\n",
       "                popup_dc77902c12e3c1ba3f16a3de53e32183.setContent(html_d679ea65f9324ae8b3e25e067ee8155f);\n",
       "            \n",
       "        \n",
       "\n",
       "        marker_70d375927c0e263a8f95f6e05daad5f9.bindPopup(popup_dc77902c12e3c1ba3f16a3de53e32183)\n",
       "        ;\n",
       "\n",
       "        \n",
       "    \n",
       "&lt;/script&gt;\n",
       "&lt;/html&gt;\" style=\"position:absolute;width:100%;height:100%;left:0;top:0;border:none !important;\" allowfullscreen webkitallowfullscreen mozallowfullscreen></iframe></div></div>"
      ],
      "text/plain": [
       "<folium.folium.Map at 0x17ec1ba3d00>"
      ]
     },
     "execution_count": 57,
     "metadata": {},
     "output_type": "execute_result"
    }
   ],
   "source": [
    "import folium\n",
    "\n",
    "# Center de map to geolocation\n",
    "mapa = folium.Map(location=[37.7749, -122.4194], zoom_start=12)\n",
    "\n",
    "ruta_colegios = './data/df_SF_schools.csv'\n",
    "df_colegios = pd.read_csv(ruta_colegios)\n",
    "\n",
    "pets_data = './data/df_SF_pets.csv'\n",
    "df_pets = pd.read_csv(pets_data)\n",
    "\n",
    "starbucks_data = './data/df_SF_starbucks.csv'\n",
    "df_starbucks = pd.read_csv(starbucks_data)\n",
    "\n",
    "ruta_empresas = './data/df_SF.csv'\n",
    "df_empresas = pd.read_csv(ruta_empresas)\n",
    "\n",
    "ruta_restaurantes = './data/df_SF_veganrestaurants.csv'\n",
    "df_restaurantes = pd.read_csv(ruta_restaurantes)\n",
    "\n",
    "party = './data/df_SF_party.csv'\n",
    "df_party = pd.read_csv(party)\n",
    "\n",
    "airports = './data/df_airports.csv'\n",
    "df_airports = pd.read_csv(airports)\n",
    "\n",
    "basket='./data/df_SF_basket.csv'\n",
    "df_basket=pd.read_csv(basket)\n",
    "\n",
    "# Create markers for each category:\n",
    "\n",
    "'''basket'''\n",
    "for index, row in df_basket.iterrows():\n",
    "    popup_content = f\"Latitude: {row['latitude']}<br>Longitude: {row['longitude']}<br>Name: {row['name']}\"\n",
    "    folium.Marker([row['latitude'], row['longitude']],\n",
    "                  icon=folium.Icon(color='orange', icon='hand-peace', prefix = \"fa\"),\n",
    "                  popup=popup_content).add_to(mapa)\n",
    "\n",
    "'''schools'''\n",
    "for index, row in df_colegios.iterrows():\n",
    "    popup_content = f\"Latitude: {row['latitude']}<br>Longitude: {row['longitude']}<br>Category: {row['categories']}\"\n",
    "    folium.Marker([row['latitude'], row['longitude']],\n",
    "                  icon=folium.Icon(color='blue', icon='graduation-cap', prefix='fa'),\n",
    "                  popup=popup_content).add_to(mapa)\n",
    "\n",
    "\n",
    "'''restaurants'''\n",
    "for index, row in df_restaurantes.iterrows():\n",
    "    popup_content = f\"Latitude: {row['latitude']}<br>Longitude: {row['longitude']}<br>Category: {row['categories']}\"\n",
    "\n",
    "    folium.Marker([row['latitude'], row['longitude']],\n",
    "                  icon=folium.Icon(color='green', icon='leaf'),\n",
    "                  popup=popup_content).add_to(mapa)\n",
    "\n",
    "'''companies > 1B, + design companies'''\n",
    "\n",
    "for index, row in df_empresas.iterrows():\n",
    "    popup_content = f\"Latitude: {row['latitude']}<br>Longitude: {row['longitude']}<br>Name: {row['name']}\"\n",
    "    folium.Marker([row['latitude'], row['longitude']],\n",
    "                  icon=folium.Icon(color='red', icon='building', prefix = \"fa\"),\n",
    "                  popup=popup_content).add_to(mapa)\n",
    "\n",
    "    \n",
    "'''Pet Grooming service'''\n",
    "\n",
    "for index, row in df_pets.iterrows():\n",
    "    popup_content = f\"Latitude: {row['latitude']}<br>Longitude: {row['longitude']}<br>Category: {row['categories']}\"\n",
    "    folium.Marker([row['latitude'], row['longitude']],\n",
    "                  icon=folium.Icon(color='pink', icon='paw', prefix = \"fa\"),\n",
    "                  popup=popup_content).add_to(mapa)\n",
    "    \n",
    "'''Party'''\n",
    "    \n",
    "for index, row in df_party.iterrows():\n",
    "    popup_content = f\"Latitude: {row['latitude']}<br>Longitude: {row['longitude']}<br>Category: {row['categories']}\"\n",
    "    folium.Marker([row['latitude'], row['longitude']],\n",
    "                  icon=folium.Icon(color='black', icon='beer', prefix = \"fa\"),\n",
    "                  popup=popup_content).add_to(mapa)\n",
    "    \n",
    "    \n",
    "'''Starbucks'''\n",
    "for index, row in df_starbucks.iterrows():\n",
    "    popup_content = f\"Latitude: {row['latitude']}<br>Longitude: {row['longitude']}<br>Name: {row['name']}\"\n",
    "    folium.Marker([row['latitude'], row['longitude']],\n",
    "                  icon=folium.Icon(color='purple', icon='coffee', prefix = \"fa\"),\n",
    "                  popup=popup_content).add_to(mapa)\n",
    "\n",
    "'''Airports'''\n",
    "for index, row in df_airports.iterrows():\n",
    "    popup_content = f\"Latitude: {row['latitude_deg']}<br>Longitude: {row['longitude_deg']}<br>Name: {row['name']}\"\n",
    "    folium.Marker([row['latitude_deg'], row['longitude_deg']],\n",
    "                  icon=folium.Icon(color='cadetblue', icon='plane', prefix = \"fa\"),\n",
    "                  popup=popup_content).add_to(mapa)   \n",
    "mapa\n"
   ]
  },
  {
   "cell_type": "markdown",
   "id": "4d595efb",
   "metadata": {},
   "source": [
    "# 4. Weighing categories"
   ]
  },
  {
   "cell_type": "markdown",
   "id": "d33e878a",
   "metadata": {},
   "source": [
    "Hereby we have set a weighing scoring system for each category based on their group value: company culture, employee benefits, or expenses. As well the maximum distance allowed is described per requirement.\n",
    "The weighing scores are defined by the values of the company and their importance and the nº of employees affected by each requirement."
   ]
  },
  {
   "cell_type": "code",
   "execution_count": 58,
   "id": "9c664ae5",
   "metadata": {},
   "outputs": [
    {
     "data": {
      "text/html": [
       "<div>\n",
       "<style scoped>\n",
       "    .dataframe tbody tr th:only-of-type {\n",
       "        vertical-align: middle;\n",
       "    }\n",
       "\n",
       "    .dataframe tbody tr th {\n",
       "        vertical-align: top;\n",
       "    }\n",
       "\n",
       "    .dataframe thead th {\n",
       "        text-align: right;\n",
       "    }\n",
       "</style>\n",
       "<table border=\"1\" class=\"dataframe\">\n",
       "  <thead>\n",
       "    <tr style=\"text-align: right;\">\n",
       "      <th></th>\n",
       "      <th>Importance</th>\n",
       "      <th>Group</th>\n",
       "      <th>Ponderation</th>\n",
       "      <th>Criteria</th>\n",
       "      <th>Employees</th>\n",
       "      <th>Distance min</th>\n",
       "      <th>Distance max</th>\n",
       "      <th>SOURCE</th>\n",
       "    </tr>\n",
       "  </thead>\n",
       "  <tbody>\n",
       "    <tr>\n",
       "      <th>0</th>\n",
       "      <td>1</td>\n",
       "      <td>Company culture</td>\n",
       "      <td>23.0</td>\n",
       "      <td>Designers like to go to design talks and share...</td>\n",
       "      <td>20</td>\n",
       "      <td>0,1</td>\n",
       "      <td>500</td>\n",
       "      <td>MongoDB &amp; Foursquare</td>\n",
       "    </tr>\n",
       "    <tr>\n",
       "      <th>1</th>\n",
       "      <td>2</td>\n",
       "      <td>Employees benefits</td>\n",
       "      <td>19.0</td>\n",
       "      <td>30% of the company staff have at least 1 child.</td>\n",
       "      <td>26</td>\n",
       "      <td>0,1</td>\n",
       "      <td>500</td>\n",
       "      <td>Foursquare</td>\n",
       "    </tr>\n",
       "    <tr>\n",
       "      <th>2</th>\n",
       "      <td>3</td>\n",
       "      <td>Company culture</td>\n",
       "      <td>15.0</td>\n",
       "      <td>Executives like Starbucks A LOT. Ensure there'...</td>\n",
       "      <td>10</td>\n",
       "      <td>0</td>\n",
       "      <td>800</td>\n",
       "      <td>Foursquare</td>\n",
       "    </tr>\n",
       "    <tr>\n",
       "      <th>3</th>\n",
       "      <td>4</td>\n",
       "      <td>Reduce travel expenses</td>\n",
       "      <td>12.0</td>\n",
       "      <td>Account managers need to travel a lot</td>\n",
       "      <td>20</td>\n",
       "      <td>20</td>\n",
       "      <td>20</td>\n",
       "      <td>Foursquare</td>\n",
       "    </tr>\n",
       "    <tr>\n",
       "      <th>4</th>\n",
       "      <td>5</td>\n",
       "      <td>Company culture</td>\n",
       "      <td>8.0</td>\n",
       "      <td>The CEO is vegan.</td>\n",
       "      <td>1</td>\n",
       "      <td>0,1</td>\n",
       "      <td>1000</td>\n",
       "      <td>Foursquare</td>\n",
       "    </tr>\n",
       "    <tr>\n",
       "      <th>5</th>\n",
       "      <td>6</td>\n",
       "      <td>Company culture</td>\n",
       "      <td>8.0</td>\n",
       "      <td>The office dog—\"Dobby\" needs a hairdresser eve...</td>\n",
       "      <td>1</td>\n",
       "      <td>0,1</td>\n",
       "      <td>800</td>\n",
       "      <td>Foursquare</td>\n",
       "    </tr>\n",
       "    <tr>\n",
       "      <th>6</th>\n",
       "      <td>6</td>\n",
       "      <td>Company culture</td>\n",
       "      <td>8.0</td>\n",
       "      <td>Everyone in the company is between 25 and 40, ...</td>\n",
       "      <td>87</td>\n",
       "      <td>0,1</td>\n",
       "      <td>800</td>\n",
       "      <td>Foursquare</td>\n",
       "    </tr>\n",
       "    <tr>\n",
       "      <th>7</th>\n",
       "      <td>7</td>\n",
       "      <td>Company culture</td>\n",
       "      <td>7.0</td>\n",
       "      <td>If you want to make the maintenance guy happy,...</td>\n",
       "      <td>1</td>\n",
       "      <td>2</td>\n",
       "      <td>10000</td>\n",
       "      <td>Foursquare</td>\n",
       "    </tr>\n",
       "    <tr>\n",
       "      <th>8</th>\n",
       "      <td>MANDATORY</td>\n",
       "      <td>Strategy / Position</td>\n",
       "      <td>NaN</td>\n",
       "      <td>Developers like to be near successful tech sta...</td>\n",
       "      <td>15</td>\n",
       "      <td>Nan</td>\n",
       "      <td>NAN</td>\n",
       "      <td>MongoDB</td>\n",
       "    </tr>\n",
       "  </tbody>\n",
       "</table>\n",
       "</div>"
      ],
      "text/plain": [
       "  Importance                   Group  Ponderation   \n",
       "0          1         Company culture         23.0  \\\n",
       "1          2      Employees benefits         19.0   \n",
       "2          3         Company culture         15.0   \n",
       "3          4  Reduce travel expenses         12.0   \n",
       "4          5         Company culture          8.0   \n",
       "5          6         Company culture          8.0   \n",
       "6          6         Company culture          8.0   \n",
       "7          7         Company culture          7.0   \n",
       "8  MANDATORY     Strategy / Position          NaN   \n",
       "\n",
       "                                            Criteria  Employees Distance min   \n",
       "0  Designers like to go to design talks and share...         20          0,1  \\\n",
       "1    30% of the company staff have at least 1 child.         26          0,1   \n",
       "2  Executives like Starbucks A LOT. Ensure there'...         10            0   \n",
       "3              Account managers need to travel a lot         20           20   \n",
       "4                                  The CEO is vegan.          1          0,1   \n",
       "5  The office dog—\"Dobby\" needs a hairdresser eve...          1          0,1   \n",
       "6  Everyone in the company is between 25 and 40, ...         87          0,1   \n",
       "7  If you want to make the maintenance guy happy,...          1            2   \n",
       "8  Developers like to be near successful tech sta...         15          Nan   \n",
       "\n",
       "  Distance max                SOURCE  \n",
       "0          500  MongoDB & Foursquare  \n",
       "1          500            Foursquare  \n",
       "2          800            Foursquare  \n",
       "3           20            Foursquare  \n",
       "4         1000            Foursquare  \n",
       "5          800            Foursquare  \n",
       "6          800            Foursquare  \n",
       "7        10000            Foursquare  \n",
       "8          NAN               MongoDB  "
      ]
     },
     "execution_count": 58,
     "metadata": {},
     "output_type": "execute_result"
    }
   ],
   "source": [
    "df_hipotesis=pd.read_csv('data/hipotesis.csv')\n",
    "df_hipotesis.drop(\"Unnamed: 5\", axis=1, inplace=True)\n",
    "df_hipotesis.drop(\"Points\", axis=1, inplace=True)\n",
    "df_hipotesis"
   ]
  },
  {
   "cell_type": "markdown",
   "id": "544c6fbf",
   "metadata": {},
   "source": [
    "We iterate the location A with the requirements ( weigh & distance)"
   ]
  },
  {
   "cell_type": "code",
   "execution_count": 82,
   "id": "6ce1e594",
   "metadata": {},
   "outputs": [
    {
     "data": {
      "text/html": [
       "<div>\n",
       "<style scoped>\n",
       "    .dataframe tbody tr th:only-of-type {\n",
       "        vertical-align: middle;\n",
       "    }\n",
       "\n",
       "    .dataframe tbody tr th {\n",
       "        vertical-align: top;\n",
       "    }\n",
       "\n",
       "    .dataframe thead th {\n",
       "        text-align: right;\n",
       "    }\n",
       "</style>\n",
       "<table border=\"1\" class=\"dataframe\">\n",
       "  <thead>\n",
       "    <tr style=\"text-align: right;\">\n",
       "      <th></th>\n",
       "      <th>Requirement</th>\n",
       "      <th>Ponderation A</th>\n",
       "      <th>Distance A</th>\n",
       "      <th>Compliance A</th>\n",
       "      <th>Compliance Score A</th>\n",
       "    </tr>\n",
       "  </thead>\n",
       "  <tbody>\n",
       "    <tr>\n",
       "      <th>0</th>\n",
       "      <td>Requirement 1</td>\n",
       "      <td>0.23</td>\n",
       "      <td>215</td>\n",
       "      <td>1.0</td>\n",
       "      <td>0.23</td>\n",
       "    </tr>\n",
       "    <tr>\n",
       "      <th>1</th>\n",
       "      <td>Requirement 2</td>\n",
       "      <td>0.19</td>\n",
       "      <td>236</td>\n",
       "      <td>1.0</td>\n",
       "      <td>0.19</td>\n",
       "    </tr>\n",
       "    <tr>\n",
       "      <th>2</th>\n",
       "      <td>Requirement 3</td>\n",
       "      <td>0.15</td>\n",
       "      <td>291</td>\n",
       "      <td>1.0</td>\n",
       "      <td>0.15</td>\n",
       "    </tr>\n",
       "    <tr>\n",
       "      <th>3</th>\n",
       "      <td>Requirement 4</td>\n",
       "      <td>0.12</td>\n",
       "      <td>18571</td>\n",
       "      <td>1.0</td>\n",
       "      <td>0.12</td>\n",
       "    </tr>\n",
       "    <tr>\n",
       "      <th>4</th>\n",
       "      <td>Requirement 5</td>\n",
       "      <td>0.08</td>\n",
       "      <td>986</td>\n",
       "      <td>1.0</td>\n",
       "      <td>0.08</td>\n",
       "    </tr>\n",
       "    <tr>\n",
       "      <th>5</th>\n",
       "      <td>Requirement 6</td>\n",
       "      <td>0.08</td>\n",
       "      <td>255</td>\n",
       "      <td>1.0</td>\n",
       "      <td>0.08</td>\n",
       "    </tr>\n",
       "    <tr>\n",
       "      <th>6</th>\n",
       "      <td>Requirement 7</td>\n",
       "      <td>0.08</td>\n",
       "      <td>237</td>\n",
       "      <td>1.0</td>\n",
       "      <td>0.08</td>\n",
       "    </tr>\n",
       "    <tr>\n",
       "      <th>7</th>\n",
       "      <td>Requirement 8</td>\n",
       "      <td>0.08</td>\n",
       "      <td>857</td>\n",
       "      <td>1.0</td>\n",
       "      <td>0.08</td>\n",
       "    </tr>\n",
       "  </tbody>\n",
       "</table>\n",
       "</div>"
      ],
      "text/plain": [
       "     Requirement  Ponderation A  Distance A  Compliance A  Compliance Score A\n",
       "0  Requirement 1           0.23         215           1.0                0.23\n",
       "1  Requirement 2           0.19         236           1.0                0.19\n",
       "2  Requirement 3           0.15         291           1.0                0.15\n",
       "3  Requirement 4           0.12       18571           1.0                0.12\n",
       "4  Requirement 5           0.08         986           1.0                0.08\n",
       "5  Requirement 6           0.08         255           1.0                0.08\n",
       "6  Requirement 7           0.08         237           1.0                0.08\n",
       "7  Requirement 8           0.08         857           1.0                0.08"
      ]
     },
     "execution_count": 82,
     "metadata": {},
     "output_type": "execute_result"
    }
   ],
   "source": [
    "from geopy.distance import geodesic\n",
    "import pandas as pd\n",
    "\n",
    "# Potential location A\n",
    "locations = [\n",
    "    {\"name\": \"A\", \"latitude\": 37.785077, \"longitude\": -122.400605}, #(3rd avenida/mission st)\n",
    "]\n",
    "\n",
    "# Requirements and weights for location A\n",
    "criteriaA = [\n",
    "    {\"name\": \"Requirement 1\", \"ponderation\": 0.23, \"distance_max\": 500, \"latitude\": 37.786942, \"longitude\": -122.401245},\n",
    "    {\"name\": \"Requirement 2\", \"ponderation\": 0.19, \"distance_max\": 500, \"latitude\": 37.785486, \"longitude\": -122.397974},\n",
    "    {\"name\": \"Requirement 3\", \"ponderation\": 0.15, \"distance_max\": 800, \"latitude\": 37.787664, \"longitude\": -122.401113},\n",
    "    {\"name\": \"Requirement 4\", \"ponderation\": 0.12, \"distance_max\": 30000, \"latitude\": 37.6189994812012, \"longitude\": -122.375},\n",
    "    {\"name\": \"Requirement 5\", \"ponderation\": 0.08, \"distance_max\": 1000, \"latitude\": 37.781373, \"longitude\": -122.410779},\n",
    "    {\"name\": \"Requirement 6\", \"ponderation\": 0.08, \"distance_max\": 1000, \"latitude\": 37.787063, \"longitude\": -122.399142},\n",
    "    {\"name\": \"Requirement 7\", \"ponderation\": 0.08, \"distance_max\": 500, \"latitude\": 37.787122, \"longitude\": -122.401368},\n",
    "    {\"name\": \"Requirement 8\", \"ponderation\": 0.08, \"distance_max\": 10000, \"latitude\": 37.778838, \"longitude\": -122.406328},\n",
    "]\n",
    "\n",
    "initial_location = locations[0]\n",
    "\n",
    "# Calculate the score and distance of each location for each requirement\n",
    "# Calculate the degree of compliance for each requirement by geodesic\n",
    "data = []\n",
    "for criterion in criteriaA:\n",
    "    requirement_name = criterion[\"name\"]\n",
    "    ponderation = criterion[\"ponderation\"]\n",
    "    distance_max = criterion[\"distance_max\"]\n",
    "    latitude = criterion[\"latitude\"]\n",
    "    longitude = criterion[\"longitude\"]\n",
    "    distance = geodesic((initial_location[\"latitude\"], initial_location[\"longitude\"]), (latitude, longitude)).meters\n",
    "    distance = round(distance)\n",
    "    # Calculate the compliance based on distance\n",
    "    if distance <= distance_max:\n",
    "        compliance_score = 1.0\n",
    "    else:\n",
    "        compliance_score = 0.0\n",
    "    \n",
    "    row = {\"Requirement\": requirement_name, \"Ponderation A\": ponderation, \"Distance A\": distance, \"Compliance A\": compliance_score}\n",
    "    data.append(row)\n",
    "df1 = pd.DataFrame(data)\n",
    "df1[\"Compliance Score A\"] = df1[\"Ponderation A\"] * df1[\"Compliance A\"]\n",
    "df1\n"
   ]
  },
  {
   "cell_type": "code",
   "execution_count": 83,
   "id": "2f6cc0e8",
   "metadata": {},
   "outputs": [
    {
     "data": {
      "text/html": [
       "<div>\n",
       "<style scoped>\n",
       "    .dataframe tbody tr th:only-of-type {\n",
       "        vertical-align: middle;\n",
       "    }\n",
       "\n",
       "    .dataframe tbody tr th {\n",
       "        vertical-align: top;\n",
       "    }\n",
       "\n",
       "    .dataframe thead th {\n",
       "        text-align: right;\n",
       "    }\n",
       "</style>\n",
       "<table border=\"1\" class=\"dataframe\">\n",
       "  <thead>\n",
       "    <tr style=\"text-align: right;\">\n",
       "      <th></th>\n",
       "      <th>Distance A</th>\n",
       "      <th>Compliance A</th>\n",
       "    </tr>\n",
       "  </thead>\n",
       "  <tbody>\n",
       "    <tr>\n",
       "      <th>0</th>\n",
       "      <td>215</td>\n",
       "      <td>1.0</td>\n",
       "    </tr>\n",
       "    <tr>\n",
       "      <th>1</th>\n",
       "      <td>236</td>\n",
       "      <td>1.0</td>\n",
       "    </tr>\n",
       "    <tr>\n",
       "      <th>2</th>\n",
       "      <td>291</td>\n",
       "      <td>1.0</td>\n",
       "    </tr>\n",
       "    <tr>\n",
       "      <th>3</th>\n",
       "      <td>18571</td>\n",
       "      <td>1.0</td>\n",
       "    </tr>\n",
       "    <tr>\n",
       "      <th>4</th>\n",
       "      <td>986</td>\n",
       "      <td>1.0</td>\n",
       "    </tr>\n",
       "    <tr>\n",
       "      <th>5</th>\n",
       "      <td>255</td>\n",
       "      <td>1.0</td>\n",
       "    </tr>\n",
       "    <tr>\n",
       "      <th>6</th>\n",
       "      <td>237</td>\n",
       "      <td>1.0</td>\n",
       "    </tr>\n",
       "    <tr>\n",
       "      <th>7</th>\n",
       "      <td>857</td>\n",
       "      <td>1.0</td>\n",
       "    </tr>\n",
       "  </tbody>\n",
       "</table>\n",
       "</div>"
      ],
      "text/plain": [
       "   Distance A  Compliance A\n",
       "0         215           1.0\n",
       "1         236           1.0\n",
       "2         291           1.0\n",
       "3       18571           1.0\n",
       "4         986           1.0\n",
       "5         255           1.0\n",
       "6         237           1.0\n",
       "7         857           1.0"
      ]
     },
     "execution_count": 83,
     "metadata": {},
     "output_type": "execute_result"
    }
   ],
   "source": [
    "subset_df1 = df1[[\"Distance A\", \"Compliance A\"]]\n",
    "subset_df1"
   ]
  },
  {
   "cell_type": "markdown",
   "id": "968da25d",
   "metadata": {},
   "source": [
    "We iterate the location B with the requirements ( weigh & distance)"
   ]
  },
  {
   "cell_type": "code",
   "execution_count": 84,
   "id": "fafd53bb",
   "metadata": {},
   "outputs": [
    {
     "data": {
      "text/html": [
       "<div>\n",
       "<style scoped>\n",
       "    .dataframe tbody tr th:only-of-type {\n",
       "        vertical-align: middle;\n",
       "    }\n",
       "\n",
       "    .dataframe tbody tr th {\n",
       "        vertical-align: top;\n",
       "    }\n",
       "\n",
       "    .dataframe thead th {\n",
       "        text-align: right;\n",
       "    }\n",
       "</style>\n",
       "<table border=\"1\" class=\"dataframe\">\n",
       "  <thead>\n",
       "    <tr style=\"text-align: right;\">\n",
       "      <th></th>\n",
       "      <th>Requirement</th>\n",
       "      <th>Ponderation B</th>\n",
       "      <th>Distance B</th>\n",
       "      <th>Compliance B</th>\n",
       "      <th>Compliance Score B</th>\n",
       "    </tr>\n",
       "  </thead>\n",
       "  <tbody>\n",
       "    <tr>\n",
       "      <th>0</th>\n",
       "      <td>Requirement 1</td>\n",
       "      <td>0.23</td>\n",
       "      <td>196</td>\n",
       "      <td>1.0</td>\n",
       "      <td>0.23</td>\n",
       "    </tr>\n",
       "    <tr>\n",
       "      <th>1</th>\n",
       "      <td>Requirement 2</td>\n",
       "      <td>0.19</td>\n",
       "      <td>401</td>\n",
       "      <td>1.0</td>\n",
       "      <td>0.19</td>\n",
       "    </tr>\n",
       "    <tr>\n",
       "      <th>2</th>\n",
       "      <td>Requirement 3</td>\n",
       "      <td>0.15</td>\n",
       "      <td>309</td>\n",
       "      <td>1.0</td>\n",
       "      <td>0.15</td>\n",
       "    </tr>\n",
       "    <tr>\n",
       "      <th>3</th>\n",
       "      <td>Requirement 4</td>\n",
       "      <td>0.12</td>\n",
       "      <td>18254</td>\n",
       "      <td>1.0</td>\n",
       "      <td>0.12</td>\n",
       "    </tr>\n",
       "    <tr>\n",
       "      <th>4</th>\n",
       "      <td>Requirement 5</td>\n",
       "      <td>0.08</td>\n",
       "      <td>445</td>\n",
       "      <td>1.0</td>\n",
       "      <td>0.08</td>\n",
       "    </tr>\n",
       "    <tr>\n",
       "      <th>5</th>\n",
       "      <td>Requirement 6</td>\n",
       "      <td>0.08</td>\n",
       "      <td>415</td>\n",
       "      <td>1.0</td>\n",
       "      <td>0.08</td>\n",
       "    </tr>\n",
       "    <tr>\n",
       "      <th>6</th>\n",
       "      <td>Requirement 7</td>\n",
       "      <td>0.08</td>\n",
       "      <td>229</td>\n",
       "      <td>1.0</td>\n",
       "      <td>0.08</td>\n",
       "    </tr>\n",
       "    <tr>\n",
       "      <th>7</th>\n",
       "      <td>Requirement 8</td>\n",
       "      <td>0.08</td>\n",
       "      <td>316</td>\n",
       "      <td>1.0</td>\n",
       "      <td>0.08</td>\n",
       "    </tr>\n",
       "  </tbody>\n",
       "</table>\n",
       "</div>"
      ],
      "text/plain": [
       "     Requirement  Ponderation B  Distance B  Compliance B  Compliance Score B\n",
       "0  Requirement 1           0.23         196           1.0                0.23\n",
       "1  Requirement 2           0.19         401           1.0                0.19\n",
       "2  Requirement 3           0.15         309           1.0                0.15\n",
       "3  Requirement 4           0.12       18254           1.0                0.12\n",
       "4  Requirement 5           0.08         445           1.0                0.08\n",
       "5  Requirement 6           0.08         415           1.0                0.08\n",
       "6  Requirement 7           0.08         229           1.0                0.08\n",
       "7  Requirement 8           0.08         316           1.0                0.08"
      ]
     },
     "execution_count": 84,
     "metadata": {},
     "output_type": "execute_result"
    }
   ],
   "source": [
    "from geopy.distance import geodesic\n",
    "import pandas as pd\n",
    "\n",
    "initial_location = {\"latitude\": 37.781644, \"longitude\": -122.4057407}  # 5a avenida\n",
    "\n",
    "criteriaB = [\n",
    "    {\"name\": \"Requirement 1\", \"ponderation\": 0.23, \"distance_max\": 500, \"latitude\": 37.781557, \"longitude\": -122.407959},\n",
    "    {\"name\": \"Requirement 2\", \"ponderation\": 0.19, \"distance_max\": 500, \"latitude\": 37.781777, \"longitude\": -122.401196},\n",
    "    {\"name\": \"Requirement 3\", \"ponderation\": 0.15, \"distance_max\": 800, \"latitude\": 37.784117, \"longitude\": -122.407356},\n",
    "    {\"name\": \"Requirement 4\", \"ponderation\": 0.12, \"distance_max\": 30000, \"latitude\": 37.6189994812012, \"longitude\": -122.375},\n",
    "    {\"name\": \"Requirement 5\", \"ponderation\": 0.08, \"distance_max\": 1000, \"latitude\": 37.781373, \"longitude\": -122.410779},\n",
    "    {\"name\": \"Requirement 6\", \"ponderation\": 0.08, \"distance_max\": 1000, \"latitude\": 37.77886, \"longitude\": -122.402602},\n",
    "    {\"name\": \"Requirement 7\", \"ponderation\": 0.08, \"distance_max\": 10000, \"latitude\": 37.783499, \"longitude\": -122.40689},\n",
    "    {\"name\": \"Requirement 8\", \"ponderation\": 0.08, \"distance_max\": 10000, \"latitude\": 37.778838, \"longitude\": -122.406328},\n",
    "]\n",
    "\n",
    "data = []\n",
    "for criterion in criteriaB:\n",
    "    requirement_name = criterion[\"name\"]\n",
    "    ponderation = criterion[\"ponderation\"]\n",
    "    distance_max = criterion[\"distance_max\"]\n",
    "    latitude = criterion[\"latitude\"]\n",
    "    longitude = criterion[\"longitude\"]\n",
    "\n",
    "    distance = geodesic((initial_location[\"latitude\"], initial_location[\"longitude\"]), (latitude, longitude)).meters\n",
    "    distance = round(distance)\n",
    "    if distance <= distance_max:\n",
    "        compliance_score = 1.0\n",
    "    else:\n",
    "        compliance_score = 0.0\n",
    "    \n",
    "    row = {\"Requirement\": requirement_name, \"Ponderation B\": ponderation, \"Distance B\": distance, \"Compliance B\": compliance_score}\n",
    "    data.append(row)\n",
    "\n",
    "df = pd.DataFrame(data)\n",
    "df[\"Compliance Score B\"] = df[\"Ponderation B\"] * df[\"Compliance B\"]\n",
    "df\n"
   ]
  },
  {
   "cell_type": "code",
   "execution_count": 92,
   "id": "32b5a640",
   "metadata": {},
   "outputs": [
    {
     "data": {
      "text/html": [
       "<div>\n",
       "<style scoped>\n",
       "    .dataframe tbody tr th:only-of-type {\n",
       "        vertical-align: middle;\n",
       "    }\n",
       "\n",
       "    .dataframe tbody tr th {\n",
       "        vertical-align: top;\n",
       "    }\n",
       "\n",
       "    .dataframe thead th {\n",
       "        text-align: right;\n",
       "    }\n",
       "</style>\n",
       "<table border=\"1\" class=\"dataframe\">\n",
       "  <thead>\n",
       "    <tr style=\"text-align: right;\">\n",
       "      <th></th>\n",
       "      <th>Distance B</th>\n",
       "      <th>Compliance B</th>\n",
       "    </tr>\n",
       "  </thead>\n",
       "  <tbody>\n",
       "    <tr>\n",
       "      <th>0</th>\n",
       "      <td>196</td>\n",
       "      <td>1.0</td>\n",
       "    </tr>\n",
       "    <tr>\n",
       "      <th>1</th>\n",
       "      <td>401</td>\n",
       "      <td>1.0</td>\n",
       "    </tr>\n",
       "    <tr>\n",
       "      <th>2</th>\n",
       "      <td>309</td>\n",
       "      <td>1.0</td>\n",
       "    </tr>\n",
       "    <tr>\n",
       "      <th>3</th>\n",
       "      <td>18254</td>\n",
       "      <td>1.0</td>\n",
       "    </tr>\n",
       "    <tr>\n",
       "      <th>4</th>\n",
       "      <td>445</td>\n",
       "      <td>1.0</td>\n",
       "    </tr>\n",
       "    <tr>\n",
       "      <th>5</th>\n",
       "      <td>415</td>\n",
       "      <td>1.0</td>\n",
       "    </tr>\n",
       "    <tr>\n",
       "      <th>6</th>\n",
       "      <td>229</td>\n",
       "      <td>1.0</td>\n",
       "    </tr>\n",
       "    <tr>\n",
       "      <th>7</th>\n",
       "      <td>316</td>\n",
       "      <td>1.0</td>\n",
       "    </tr>\n",
       "  </tbody>\n",
       "</table>\n",
       "</div>"
      ],
      "text/plain": [
       "   Distance B  Compliance B\n",
       "0         196           1.0\n",
       "1         401           1.0\n",
       "2         309           1.0\n",
       "3       18254           1.0\n",
       "4         445           1.0\n",
       "5         415           1.0\n",
       "6         229           1.0\n",
       "7         316           1.0"
      ]
     },
     "execution_count": 92,
     "metadata": {},
     "output_type": "execute_result"
    }
   ],
   "source": [
    "subset_df = df[[\"Distance B\", \"Compliance B\"]]\n",
    "subset_df"
   ]
  },
  {
   "cell_type": "markdown",
   "id": "d23e9bc0",
   "metadata": {},
   "source": [
    "We iterate the location C with the requirements ( weigh & distance)"
   ]
  },
  {
   "cell_type": "code",
   "execution_count": 89,
   "id": "5fac8e01",
   "metadata": {},
   "outputs": [
    {
     "data": {
      "text/html": [
       "<div>\n",
       "<style scoped>\n",
       "    .dataframe tbody tr th:only-of-type {\n",
       "        vertical-align: middle;\n",
       "    }\n",
       "\n",
       "    .dataframe tbody tr th {\n",
       "        vertical-align: top;\n",
       "    }\n",
       "\n",
       "    .dataframe thead th {\n",
       "        text-align: right;\n",
       "    }\n",
       "</style>\n",
       "<table border=\"1\" class=\"dataframe\">\n",
       "  <thead>\n",
       "    <tr style=\"text-align: right;\">\n",
       "      <th></th>\n",
       "      <th>Requirement</th>\n",
       "      <th>Ponderation C</th>\n",
       "      <th>Distance C</th>\n",
       "      <th>Compliance C</th>\n",
       "      <th>Compliance Score C</th>\n",
       "    </tr>\n",
       "  </thead>\n",
       "  <tbody>\n",
       "    <tr>\n",
       "      <th>0</th>\n",
       "      <td>1.Design companies</td>\n",
       "      <td>0.23</td>\n",
       "      <td>278</td>\n",
       "      <td>1.0</td>\n",
       "      <td>0.23</td>\n",
       "    </tr>\n",
       "    <tr>\n",
       "      <th>1</th>\n",
       "      <td>2.Schools</td>\n",
       "      <td>0.19</td>\n",
       "      <td>576</td>\n",
       "      <td>0.0</td>\n",
       "      <td>0.00</td>\n",
       "    </tr>\n",
       "    <tr>\n",
       "      <th>2</th>\n",
       "      <td>3.Starbucks</td>\n",
       "      <td>0.15</td>\n",
       "      <td>308</td>\n",
       "      <td>1.0</td>\n",
       "      <td>0.15</td>\n",
       "    </tr>\n",
       "    <tr>\n",
       "      <th>3</th>\n",
       "      <td>4.Airports</td>\n",
       "      <td>0.12</td>\n",
       "      <td>18746</td>\n",
       "      <td>1.0</td>\n",
       "      <td>0.12</td>\n",
       "    </tr>\n",
       "    <tr>\n",
       "      <th>4</th>\n",
       "      <td>5.Vegan Restaurant</td>\n",
       "      <td>0.08</td>\n",
       "      <td>1253</td>\n",
       "      <td>0.0</td>\n",
       "      <td>0.00</td>\n",
       "    </tr>\n",
       "    <tr>\n",
       "      <th>5</th>\n",
       "      <td>6.Dogs haidresser</td>\n",
       "      <td>0.08</td>\n",
       "      <td>73</td>\n",
       "      <td>1.0</td>\n",
       "      <td>0.08</td>\n",
       "    </tr>\n",
       "    <tr>\n",
       "      <th>6</th>\n",
       "      <td>7. Pubs</td>\n",
       "      <td>0.08</td>\n",
       "      <td>267</td>\n",
       "      <td>1.0</td>\n",
       "      <td>0.08</td>\n",
       "    </tr>\n",
       "    <tr>\n",
       "      <th>7</th>\n",
       "      <td>8. Basketball court</td>\n",
       "      <td>0.08</td>\n",
       "      <td>1135</td>\n",
       "      <td>1.0</td>\n",
       "      <td>0.08</td>\n",
       "    </tr>\n",
       "  </tbody>\n",
       "</table>\n",
       "</div>"
      ],
      "text/plain": [
       "           Requirement  Ponderation C  Distance C  Compliance C   \n",
       "0   1.Design companies           0.23         278           1.0  \\\n",
       "1            2.Schools           0.19         576           0.0   \n",
       "2          3.Starbucks           0.15         308           1.0   \n",
       "3           4.Airports           0.12       18746           1.0   \n",
       "4   5.Vegan Restaurant           0.08        1253           0.0   \n",
       "5    6.Dogs haidresser           0.08          73           1.0   \n",
       "6              7. Pubs           0.08         267           1.0   \n",
       "7  8. Basketball court           0.08        1135           1.0   \n",
       "\n",
       "   Compliance Score C  \n",
       "0                0.23  \n",
       "1                0.00  \n",
       "2                0.15  \n",
       "3                0.12  \n",
       "4                0.00  \n",
       "5                0.08  \n",
       "6                0.08  \n",
       "7                0.08  "
      ]
     },
     "execution_count": 89,
     "metadata": {},
     "output_type": "execute_result"
    }
   ],
   "source": [
    "from geopy.distance import geodesic\n",
    "import pandas as pd\n",
    "\n",
    "locations = [\n",
    "    {\"name\": \"C\", \"latitude\": 37.786873, \"longitude\": -122.398352} #(2nd avenida/mission st)\n",
    "]\n",
    "\n",
    "criteriaC = [\n",
    "    {\"name\": \"1.Design companies\", \"ponderation\": 0.23, \"distance_max\": 500, \"latitude\": 37.788668, \"longitude\": -122.400558},\n",
    "    {\"name\": \"2.Schools\", \"ponderation\": 0.19, \"distance_max\": 500, \"latitude\": 37.785486, \"longitude\": -122.404656},\n",
    "    {\"name\": \"3.Starbucks\", \"ponderation\": 0.15, \"distance_max\": 800, \"latitude\": 37.784117, \"longitude\": -122.397974},\n",
    "    {\"name\": \"4.Airports\", \"ponderation\": 0.12, \"distance_max\": 30000, \"latitude\": 37.6189994812012, \"longitude\": -122.375},\n",
    "    {\"name\": \"5.Vegan Restaurant\", \"ponderation\": 0.08, \"distance_max\": 1000, \"latitude\": 37.781373, \"longitude\": -122.410779},\n",
    "    {\"name\": \"6.Dogs haidresser\", \"ponderation\": 0.08, \"distance_max\": 1000, \"latitude\": 37.787063, \"longitude\": -122.399142},\n",
    "    {\"name\": \"7. Pubs\", \"ponderation\": 0.08, \"distance_max\": 500, \"latitude\": 37.787122, \"longitude\": -122.401368},\n",
    "    {\"name\": \"8. Basketball court\", \"ponderation\": 0.08, \"distance_max\": 10000, \"latitude\": 37.778838, \"longitude\": -122.406328},\n",
    "]\n",
    "\n",
    "initial_location = locations[0]\n",
    "\n",
    "data = []\n",
    "for criterion in criteriaC:\n",
    "    requirement_name = criterion[\"name\"]\n",
    "    ponderation = criterion[\"ponderation\"]\n",
    "    distance_max = criterion[\"distance_max\"]\n",
    "    latitude = criterion[\"latitude\"]\n",
    "    longitude = criterion[\"longitude\"]\n",
    "\n",
    "    distance = geodesic((initial_location[\"latitude\"], initial_location[\"longitude\"]), (latitude, longitude)).meters\n",
    "    distance = round(distance)\n",
    "    if distance <= distance_max:\n",
    "        compliance_score = 1.0\n",
    "    else:\n",
    "        compliance_score = 0.0\n",
    "    \n",
    "    row = {\"Requirement\": requirement_name, \"Ponderation C\": ponderation, \"Distance C\": distance, \"Compliance C\": compliance_score}\n",
    "    data.append(row)\n",
    "\n",
    "df5 = pd.DataFrame(data)\n",
    "df5[\"Compliance Score C\"] = df5[\"Ponderation C\"] * df5[\"Compliance C\"]\n",
    "df5\n"
   ]
  },
  {
   "cell_type": "code",
   "execution_count": 98,
   "id": "8c70447f",
   "metadata": {},
   "outputs": [
    {
     "data": {
      "text/html": [
       "<div>\n",
       "<style scoped>\n",
       "    .dataframe tbody tr th:only-of-type {\n",
       "        vertical-align: middle;\n",
       "    }\n",
       "\n",
       "    .dataframe tbody tr th {\n",
       "        vertical-align: top;\n",
       "    }\n",
       "\n",
       "    .dataframe thead th {\n",
       "        text-align: right;\n",
       "    }\n",
       "</style>\n",
       "<table border=\"1\" class=\"dataframe\">\n",
       "  <thead>\n",
       "    <tr style=\"text-align: right;\">\n",
       "      <th></th>\n",
       "      <th>Requirement</th>\n",
       "      <th>Distance A</th>\n",
       "      <th>Compliance A</th>\n",
       "      <th>Distance B</th>\n",
       "      <th>Compliance B</th>\n",
       "      <th>Distance C</th>\n",
       "      <th>Compliance C</th>\n",
       "    </tr>\n",
       "  </thead>\n",
       "  <tbody>\n",
       "    <tr>\n",
       "      <th>0</th>\n",
       "      <td>1.Design companies</td>\n",
       "      <td>215</td>\n",
       "      <td>1.0</td>\n",
       "      <td>196</td>\n",
       "      <td>1.0</td>\n",
       "      <td>278</td>\n",
       "      <td>1.0</td>\n",
       "    </tr>\n",
       "    <tr>\n",
       "      <th>1</th>\n",
       "      <td>2.Schools</td>\n",
       "      <td>236</td>\n",
       "      <td>1.0</td>\n",
       "      <td>401</td>\n",
       "      <td>1.0</td>\n",
       "      <td>576</td>\n",
       "      <td>0.0</td>\n",
       "    </tr>\n",
       "    <tr>\n",
       "      <th>2</th>\n",
       "      <td>3.Starbucks</td>\n",
       "      <td>291</td>\n",
       "      <td>1.0</td>\n",
       "      <td>309</td>\n",
       "      <td>1.0</td>\n",
       "      <td>308</td>\n",
       "      <td>1.0</td>\n",
       "    </tr>\n",
       "    <tr>\n",
       "      <th>3</th>\n",
       "      <td>4.Airports</td>\n",
       "      <td>18571</td>\n",
       "      <td>1.0</td>\n",
       "      <td>18254</td>\n",
       "      <td>1.0</td>\n",
       "      <td>18746</td>\n",
       "      <td>1.0</td>\n",
       "    </tr>\n",
       "    <tr>\n",
       "      <th>4</th>\n",
       "      <td>5.Vegan Restaurant</td>\n",
       "      <td>986</td>\n",
       "      <td>1.0</td>\n",
       "      <td>445</td>\n",
       "      <td>1.0</td>\n",
       "      <td>1253</td>\n",
       "      <td>0.0</td>\n",
       "    </tr>\n",
       "    <tr>\n",
       "      <th>5</th>\n",
       "      <td>6.Dogs haidresser</td>\n",
       "      <td>255</td>\n",
       "      <td>1.0</td>\n",
       "      <td>415</td>\n",
       "      <td>1.0</td>\n",
       "      <td>73</td>\n",
       "      <td>1.0</td>\n",
       "    </tr>\n",
       "    <tr>\n",
       "      <th>6</th>\n",
       "      <td>7. Pubs</td>\n",
       "      <td>237</td>\n",
       "      <td>1.0</td>\n",
       "      <td>229</td>\n",
       "      <td>1.0</td>\n",
       "      <td>267</td>\n",
       "      <td>1.0</td>\n",
       "    </tr>\n",
       "    <tr>\n",
       "      <th>7</th>\n",
       "      <td>8. Basketball court</td>\n",
       "      <td>857</td>\n",
       "      <td>1.0</td>\n",
       "      <td>316</td>\n",
       "      <td>1.0</td>\n",
       "      <td>1135</td>\n",
       "      <td>1.0</td>\n",
       "    </tr>\n",
       "  </tbody>\n",
       "</table>\n",
       "</div>"
      ],
      "text/plain": [
       "           Requirement  Distance A  Compliance A  Distance B  Compliance B   \n",
       "0   1.Design companies         215           1.0         196           1.0  \\\n",
       "1            2.Schools         236           1.0         401           1.0   \n",
       "2          3.Starbucks         291           1.0         309           1.0   \n",
       "3           4.Airports       18571           1.0       18254           1.0   \n",
       "4   5.Vegan Restaurant         986           1.0         445           1.0   \n",
       "5    6.Dogs haidresser         255           1.0         415           1.0   \n",
       "6              7. Pubs         237           1.0         229           1.0   \n",
       "7  8. Basketball court         857           1.0         316           1.0   \n",
       "\n",
       "   Distance C  Compliance C  \n",
       "0         278           1.0  \n",
       "1         576           0.0  \n",
       "2         308           1.0  \n",
       "3       18746           1.0  \n",
       "4        1253           0.0  \n",
       "5          73           1.0  \n",
       "6         267           1.0  \n",
       "7        1135           1.0  "
      ]
     },
     "execution_count": 98,
     "metadata": {},
     "output_type": "execute_result"
    }
   ],
   "source": [
    "concatenated_df1 = pd.concat([df5, subset_df1, subset_df], axis=1)\n",
    "column_order = ['Requirement', 'Distance A', 'Compliance A', 'Distance B', 'Compliance B', 'Distance C', 'Compliance C']\n",
    "concatenated_df1 = concatenated_df1.reindex(columns=column_order)\n",
    "concatenated_df1"
   ]
  },
  {
   "cell_type": "code",
   "execution_count": 100,
   "id": "03075985",
   "metadata": {},
   "outputs": [],
   "source": [
    "concatenated_df = pd.concat([df5, subset_df1, subset_df], axis=1)\n",
    "column_order = ['Requirement', 'Ponderation', 'Distance A', 'Compliance Score A', 'Distance B', 'Compliance Score B', 'Distance C', 'Compliance C', 'Compliance Score C']\n",
    "concatenated_df = concatenated_df.reindex(columns=column_order)"
   ]
  },
  {
   "cell_type": "markdown",
   "id": "b03a36ed",
   "metadata": {},
   "source": [
    "# 5. Visualization by requirements and locations"
   ]
  },
  {
   "cell_type": "code",
   "execution_count": 104,
   "id": "148f3d48",
   "metadata": {},
   "outputs": [
    {
     "data": {
      "application/vnd.plotly.v1+json": {
       "config": {
        "plotlyServerURL": "https://plot.ly"
       },
       "data": [
        {
         "alignmentgroup": "True",
         "hovertemplate": "variable=Compliance A<br>Requirement=%{x}<br>value=%{y}<extra></extra>",
         "legendgroup": "Compliance A",
         "marker": {
          "color": "#636efa",
          "pattern": {
           "shape": ""
          }
         },
         "name": "Compliance A",
         "offsetgroup": "Compliance A",
         "orientation": "v",
         "showlegend": true,
         "textposition": "auto",
         "type": "bar",
         "x": [
          "1.Design companies",
          "2.Schools",
          "3.Starbucks",
          "4.Airports",
          "5.Vegan Restaurant",
          "6.Dogs haidresser",
          "7. Pubs",
          "8. Basketball court"
         ],
         "xaxis": "x",
         "y": [
          1,
          1,
          1,
          1,
          1,
          1,
          1,
          1
         ],
         "yaxis": "y"
        },
        {
         "alignmentgroup": "True",
         "hovertemplate": "variable=Compliance B<br>Requirement=%{x}<br>value=%{y}<extra></extra>",
         "legendgroup": "Compliance B",
         "marker": {
          "color": "#EF553B",
          "pattern": {
           "shape": ""
          }
         },
         "name": "Compliance B",
         "offsetgroup": "Compliance B",
         "orientation": "v",
         "showlegend": true,
         "textposition": "auto",
         "type": "bar",
         "x": [
          "1.Design companies",
          "2.Schools",
          "3.Starbucks",
          "4.Airports",
          "5.Vegan Restaurant",
          "6.Dogs haidresser",
          "7. Pubs",
          "8. Basketball court"
         ],
         "xaxis": "x",
         "y": [
          1,
          1,
          1,
          1,
          1,
          1,
          1,
          1
         ],
         "yaxis": "y"
        },
        {
         "alignmentgroup": "True",
         "hovertemplate": "variable=Compliance C<br>Requirement=%{x}<br>value=%{y}<extra></extra>",
         "legendgroup": "Compliance C",
         "marker": {
          "color": "#00cc96",
          "pattern": {
           "shape": ""
          }
         },
         "name": "Compliance C",
         "offsetgroup": "Compliance C",
         "orientation": "v",
         "showlegend": true,
         "textposition": "auto",
         "type": "bar",
         "x": [
          "1.Design companies",
          "2.Schools",
          "3.Starbucks",
          "4.Airports",
          "5.Vegan Restaurant",
          "6.Dogs haidresser",
          "7. Pubs",
          "8. Basketball court"
         ],
         "xaxis": "x",
         "y": [
          1,
          0,
          1,
          1,
          0,
          1,
          1,
          1
         ],
         "yaxis": "y"
        }
       ],
       "layout": {
        "barmode": "relative",
        "legend": {
         "title": {
          "text": "Criterias"
         },
         "tracegroupgap": 0
        },
        "margin": {
         "t": 60
        },
        "template": {
         "data": {
          "bar": [
           {
            "error_x": {
             "color": "#2a3f5f"
            },
            "error_y": {
             "color": "#2a3f5f"
            },
            "marker": {
             "line": {
              "color": "#E5ECF6",
              "width": 0.5
             },
             "pattern": {
              "fillmode": "overlay",
              "size": 10,
              "solidity": 0.2
             }
            },
            "type": "bar"
           }
          ],
          "barpolar": [
           {
            "marker": {
             "line": {
              "color": "#E5ECF6",
              "width": 0.5
             },
             "pattern": {
              "fillmode": "overlay",
              "size": 10,
              "solidity": 0.2
             }
            },
            "type": "barpolar"
           }
          ],
          "carpet": [
           {
            "aaxis": {
             "endlinecolor": "#2a3f5f",
             "gridcolor": "white",
             "linecolor": "white",
             "minorgridcolor": "white",
             "startlinecolor": "#2a3f5f"
            },
            "baxis": {
             "endlinecolor": "#2a3f5f",
             "gridcolor": "white",
             "linecolor": "white",
             "minorgridcolor": "white",
             "startlinecolor": "#2a3f5f"
            },
            "type": "carpet"
           }
          ],
          "choropleth": [
           {
            "colorbar": {
             "outlinewidth": 0,
             "ticks": ""
            },
            "type": "choropleth"
           }
          ],
          "contour": [
           {
            "colorbar": {
             "outlinewidth": 0,
             "ticks": ""
            },
            "colorscale": [
             [
              0,
              "#0d0887"
             ],
             [
              0.1111111111111111,
              "#46039f"
             ],
             [
              0.2222222222222222,
              "#7201a8"
             ],
             [
              0.3333333333333333,
              "#9c179e"
             ],
             [
              0.4444444444444444,
              "#bd3786"
             ],
             [
              0.5555555555555556,
              "#d8576b"
             ],
             [
              0.6666666666666666,
              "#ed7953"
             ],
             [
              0.7777777777777778,
              "#fb9f3a"
             ],
             [
              0.8888888888888888,
              "#fdca26"
             ],
             [
              1,
              "#f0f921"
             ]
            ],
            "type": "contour"
           }
          ],
          "contourcarpet": [
           {
            "colorbar": {
             "outlinewidth": 0,
             "ticks": ""
            },
            "type": "contourcarpet"
           }
          ],
          "heatmap": [
           {
            "colorbar": {
             "outlinewidth": 0,
             "ticks": ""
            },
            "colorscale": [
             [
              0,
              "#0d0887"
             ],
             [
              0.1111111111111111,
              "#46039f"
             ],
             [
              0.2222222222222222,
              "#7201a8"
             ],
             [
              0.3333333333333333,
              "#9c179e"
             ],
             [
              0.4444444444444444,
              "#bd3786"
             ],
             [
              0.5555555555555556,
              "#d8576b"
             ],
             [
              0.6666666666666666,
              "#ed7953"
             ],
             [
              0.7777777777777778,
              "#fb9f3a"
             ],
             [
              0.8888888888888888,
              "#fdca26"
             ],
             [
              1,
              "#f0f921"
             ]
            ],
            "type": "heatmap"
           }
          ],
          "heatmapgl": [
           {
            "colorbar": {
             "outlinewidth": 0,
             "ticks": ""
            },
            "colorscale": [
             [
              0,
              "#0d0887"
             ],
             [
              0.1111111111111111,
              "#46039f"
             ],
             [
              0.2222222222222222,
              "#7201a8"
             ],
             [
              0.3333333333333333,
              "#9c179e"
             ],
             [
              0.4444444444444444,
              "#bd3786"
             ],
             [
              0.5555555555555556,
              "#d8576b"
             ],
             [
              0.6666666666666666,
              "#ed7953"
             ],
             [
              0.7777777777777778,
              "#fb9f3a"
             ],
             [
              0.8888888888888888,
              "#fdca26"
             ],
             [
              1,
              "#f0f921"
             ]
            ],
            "type": "heatmapgl"
           }
          ],
          "histogram": [
           {
            "marker": {
             "pattern": {
              "fillmode": "overlay",
              "size": 10,
              "solidity": 0.2
             }
            },
            "type": "histogram"
           }
          ],
          "histogram2d": [
           {
            "colorbar": {
             "outlinewidth": 0,
             "ticks": ""
            },
            "colorscale": [
             [
              0,
              "#0d0887"
             ],
             [
              0.1111111111111111,
              "#46039f"
             ],
             [
              0.2222222222222222,
              "#7201a8"
             ],
             [
              0.3333333333333333,
              "#9c179e"
             ],
             [
              0.4444444444444444,
              "#bd3786"
             ],
             [
              0.5555555555555556,
              "#d8576b"
             ],
             [
              0.6666666666666666,
              "#ed7953"
             ],
             [
              0.7777777777777778,
              "#fb9f3a"
             ],
             [
              0.8888888888888888,
              "#fdca26"
             ],
             [
              1,
              "#f0f921"
             ]
            ],
            "type": "histogram2d"
           }
          ],
          "histogram2dcontour": [
           {
            "colorbar": {
             "outlinewidth": 0,
             "ticks": ""
            },
            "colorscale": [
             [
              0,
              "#0d0887"
             ],
             [
              0.1111111111111111,
              "#46039f"
             ],
             [
              0.2222222222222222,
              "#7201a8"
             ],
             [
              0.3333333333333333,
              "#9c179e"
             ],
             [
              0.4444444444444444,
              "#bd3786"
             ],
             [
              0.5555555555555556,
              "#d8576b"
             ],
             [
              0.6666666666666666,
              "#ed7953"
             ],
             [
              0.7777777777777778,
              "#fb9f3a"
             ],
             [
              0.8888888888888888,
              "#fdca26"
             ],
             [
              1,
              "#f0f921"
             ]
            ],
            "type": "histogram2dcontour"
           }
          ],
          "mesh3d": [
           {
            "colorbar": {
             "outlinewidth": 0,
             "ticks": ""
            },
            "type": "mesh3d"
           }
          ],
          "parcoords": [
           {
            "line": {
             "colorbar": {
              "outlinewidth": 0,
              "ticks": ""
             }
            },
            "type": "parcoords"
           }
          ],
          "pie": [
           {
            "automargin": true,
            "type": "pie"
           }
          ],
          "scatter": [
           {
            "fillpattern": {
             "fillmode": "overlay",
             "size": 10,
             "solidity": 0.2
            },
            "type": "scatter"
           }
          ],
          "scatter3d": [
           {
            "line": {
             "colorbar": {
              "outlinewidth": 0,
              "ticks": ""
             }
            },
            "marker": {
             "colorbar": {
              "outlinewidth": 0,
              "ticks": ""
             }
            },
            "type": "scatter3d"
           }
          ],
          "scattercarpet": [
           {
            "marker": {
             "colorbar": {
              "outlinewidth": 0,
              "ticks": ""
             }
            },
            "type": "scattercarpet"
           }
          ],
          "scattergeo": [
           {
            "marker": {
             "colorbar": {
              "outlinewidth": 0,
              "ticks": ""
             }
            },
            "type": "scattergeo"
           }
          ],
          "scattergl": [
           {
            "marker": {
             "colorbar": {
              "outlinewidth": 0,
              "ticks": ""
             }
            },
            "type": "scattergl"
           }
          ],
          "scattermapbox": [
           {
            "marker": {
             "colorbar": {
              "outlinewidth": 0,
              "ticks": ""
             }
            },
            "type": "scattermapbox"
           }
          ],
          "scatterpolar": [
           {
            "marker": {
             "colorbar": {
              "outlinewidth": 0,
              "ticks": ""
             }
            },
            "type": "scatterpolar"
           }
          ],
          "scatterpolargl": [
           {
            "marker": {
             "colorbar": {
              "outlinewidth": 0,
              "ticks": ""
             }
            },
            "type": "scatterpolargl"
           }
          ],
          "scatterternary": [
           {
            "marker": {
             "colorbar": {
              "outlinewidth": 0,
              "ticks": ""
             }
            },
            "type": "scatterternary"
           }
          ],
          "surface": [
           {
            "colorbar": {
             "outlinewidth": 0,
             "ticks": ""
            },
            "colorscale": [
             [
              0,
              "#0d0887"
             ],
             [
              0.1111111111111111,
              "#46039f"
             ],
             [
              0.2222222222222222,
              "#7201a8"
             ],
             [
              0.3333333333333333,
              "#9c179e"
             ],
             [
              0.4444444444444444,
              "#bd3786"
             ],
             [
              0.5555555555555556,
              "#d8576b"
             ],
             [
              0.6666666666666666,
              "#ed7953"
             ],
             [
              0.7777777777777778,
              "#fb9f3a"
             ],
             [
              0.8888888888888888,
              "#fdca26"
             ],
             [
              1,
              "#f0f921"
             ]
            ],
            "type": "surface"
           }
          ],
          "table": [
           {
            "cells": {
             "fill": {
              "color": "#EBF0F8"
             },
             "line": {
              "color": "white"
             }
            },
            "header": {
             "fill": {
              "color": "#C8D4E3"
             },
             "line": {
              "color": "white"
             }
            },
            "type": "table"
           }
          ]
         },
         "layout": {
          "annotationdefaults": {
           "arrowcolor": "#2a3f5f",
           "arrowhead": 0,
           "arrowwidth": 1
          },
          "autotypenumbers": "strict",
          "coloraxis": {
           "colorbar": {
            "outlinewidth": 0,
            "ticks": ""
           }
          },
          "colorscale": {
           "diverging": [
            [
             0,
             "#8e0152"
            ],
            [
             0.1,
             "#c51b7d"
            ],
            [
             0.2,
             "#de77ae"
            ],
            [
             0.3,
             "#f1b6da"
            ],
            [
             0.4,
             "#fde0ef"
            ],
            [
             0.5,
             "#f7f7f7"
            ],
            [
             0.6,
             "#e6f5d0"
            ],
            [
             0.7,
             "#b8e186"
            ],
            [
             0.8,
             "#7fbc41"
            ],
            [
             0.9,
             "#4d9221"
            ],
            [
             1,
             "#276419"
            ]
           ],
           "sequential": [
            [
             0,
             "#0d0887"
            ],
            [
             0.1111111111111111,
             "#46039f"
            ],
            [
             0.2222222222222222,
             "#7201a8"
            ],
            [
             0.3333333333333333,
             "#9c179e"
            ],
            [
             0.4444444444444444,
             "#bd3786"
            ],
            [
             0.5555555555555556,
             "#d8576b"
            ],
            [
             0.6666666666666666,
             "#ed7953"
            ],
            [
             0.7777777777777778,
             "#fb9f3a"
            ],
            [
             0.8888888888888888,
             "#fdca26"
            ],
            [
             1,
             "#f0f921"
            ]
           ],
           "sequentialminus": [
            [
             0,
             "#0d0887"
            ],
            [
             0.1111111111111111,
             "#46039f"
            ],
            [
             0.2222222222222222,
             "#7201a8"
            ],
            [
             0.3333333333333333,
             "#9c179e"
            ],
            [
             0.4444444444444444,
             "#bd3786"
            ],
            [
             0.5555555555555556,
             "#d8576b"
            ],
            [
             0.6666666666666666,
             "#ed7953"
            ],
            [
             0.7777777777777778,
             "#fb9f3a"
            ],
            [
             0.8888888888888888,
             "#fdca26"
            ],
            [
             1,
             "#f0f921"
            ]
           ]
          },
          "colorway": [
           "#636efa",
           "#EF553B",
           "#00cc96",
           "#ab63fa",
           "#FFA15A",
           "#19d3f3",
           "#FF6692",
           "#B6E880",
           "#FF97FF",
           "#FECB52"
          ],
          "font": {
           "color": "#2a3f5f"
          },
          "geo": {
           "bgcolor": "white",
           "lakecolor": "white",
           "landcolor": "#E5ECF6",
           "showlakes": true,
           "showland": true,
           "subunitcolor": "white"
          },
          "hoverlabel": {
           "align": "left"
          },
          "hovermode": "closest",
          "mapbox": {
           "style": "light"
          },
          "paper_bgcolor": "white",
          "plot_bgcolor": "#E5ECF6",
          "polar": {
           "angularaxis": {
            "gridcolor": "white",
            "linecolor": "white",
            "ticks": ""
           },
           "bgcolor": "#E5ECF6",
           "radialaxis": {
            "gridcolor": "white",
            "linecolor": "white",
            "ticks": ""
           }
          },
          "scene": {
           "xaxis": {
            "backgroundcolor": "#E5ECF6",
            "gridcolor": "white",
            "gridwidth": 2,
            "linecolor": "white",
            "showbackground": true,
            "ticks": "",
            "zerolinecolor": "white"
           },
           "yaxis": {
            "backgroundcolor": "#E5ECF6",
            "gridcolor": "white",
            "gridwidth": 2,
            "linecolor": "white",
            "showbackground": true,
            "ticks": "",
            "zerolinecolor": "white"
           },
           "zaxis": {
            "backgroundcolor": "#E5ECF6",
            "gridcolor": "white",
            "gridwidth": 2,
            "linecolor": "white",
            "showbackground": true,
            "ticks": "",
            "zerolinecolor": "white"
           }
          },
          "shapedefaults": {
           "line": {
            "color": "#2a3f5f"
           }
          },
          "ternary": {
           "aaxis": {
            "gridcolor": "white",
            "linecolor": "white",
            "ticks": ""
           },
           "baxis": {
            "gridcolor": "white",
            "linecolor": "white",
            "ticks": ""
           },
           "bgcolor": "#E5ECF6",
           "caxis": {
            "gridcolor": "white",
            "linecolor": "white",
            "ticks": ""
           }
          },
          "title": {
           "x": 0.05
          },
          "xaxis": {
           "automargin": true,
           "gridcolor": "white",
           "linecolor": "white",
           "ticks": "",
           "title": {
            "standoff": 15
           },
           "zerolinecolor": "white",
           "zerolinewidth": 2
          },
          "yaxis": {
           "automargin": true,
           "gridcolor": "white",
           "linecolor": "white",
           "ticks": "",
           "title": {
            "standoff": 15
           },
           "zerolinecolor": "white",
           "zerolinewidth": 2
          }
         }
        },
        "title": {
         "text": "Compliance requirements"
        },
        "xaxis": {
         "anchor": "y",
         "domain": [
          0,
          1
         ],
         "title": {
          "text": "Requirements"
         }
        },
        "yaxis": {
         "anchor": "x",
         "domain": [
          0,
          1
         ],
         "title": {
          "text": "Compliance Score"
         }
        }
       }
      },
      "text/html": [
       "<div>                            <div id=\"2130f41d-78ec-43de-b508-9bb43e695eb3\" class=\"plotly-graph-div\" style=\"height:525px; width:100%;\"></div>            <script type=\"text/javascript\">                require([\"plotly\"], function(Plotly) {                    window.PLOTLYENV=window.PLOTLYENV || {};                                    if (document.getElementById(\"2130f41d-78ec-43de-b508-9bb43e695eb3\")) {                    Plotly.newPlot(                        \"2130f41d-78ec-43de-b508-9bb43e695eb3\",                        [{\"alignmentgroup\":\"True\",\"hovertemplate\":\"variable=Compliance A<br>Requirement=%{x}<br>value=%{y}<extra></extra>\",\"legendgroup\":\"Compliance A\",\"marker\":{\"color\":\"#636efa\",\"pattern\":{\"shape\":\"\"}},\"name\":\"Compliance A\",\"offsetgroup\":\"Compliance A\",\"orientation\":\"v\",\"showlegend\":true,\"textposition\":\"auto\",\"x\":[\"1.Design companies\",\"2.Schools\",\"3.Starbucks\",\"4.Airports\",\"5.Vegan Restaurant\",\"6.Dogs haidresser\",\"7. Pubs\",\"8. Basketball court\"],\"xaxis\":\"x\",\"y\":[1.0,1.0,1.0,1.0,1.0,1.0,1.0,1.0],\"yaxis\":\"y\",\"type\":\"bar\"},{\"alignmentgroup\":\"True\",\"hovertemplate\":\"variable=Compliance B<br>Requirement=%{x}<br>value=%{y}<extra></extra>\",\"legendgroup\":\"Compliance B\",\"marker\":{\"color\":\"#EF553B\",\"pattern\":{\"shape\":\"\"}},\"name\":\"Compliance B\",\"offsetgroup\":\"Compliance B\",\"orientation\":\"v\",\"showlegend\":true,\"textposition\":\"auto\",\"x\":[\"1.Design companies\",\"2.Schools\",\"3.Starbucks\",\"4.Airports\",\"5.Vegan Restaurant\",\"6.Dogs haidresser\",\"7. Pubs\",\"8. Basketball court\"],\"xaxis\":\"x\",\"y\":[1.0,1.0,1.0,1.0,1.0,1.0,1.0,1.0],\"yaxis\":\"y\",\"type\":\"bar\"},{\"alignmentgroup\":\"True\",\"hovertemplate\":\"variable=Compliance C<br>Requirement=%{x}<br>value=%{y}<extra></extra>\",\"legendgroup\":\"Compliance C\",\"marker\":{\"color\":\"#00cc96\",\"pattern\":{\"shape\":\"\"}},\"name\":\"Compliance C\",\"offsetgroup\":\"Compliance C\",\"orientation\":\"v\",\"showlegend\":true,\"textposition\":\"auto\",\"x\":[\"1.Design companies\",\"2.Schools\",\"3.Starbucks\",\"4.Airports\",\"5.Vegan Restaurant\",\"6.Dogs haidresser\",\"7. Pubs\",\"8. Basketball court\"],\"xaxis\":\"x\",\"y\":[1.0,0.0,1.0,1.0,0.0,1.0,1.0,1.0],\"yaxis\":\"y\",\"type\":\"bar\"}],                        {\"template\":{\"data\":{\"histogram2dcontour\":[{\"type\":\"histogram2dcontour\",\"colorbar\":{\"outlinewidth\":0,\"ticks\":\"\"},\"colorscale\":[[0.0,\"#0d0887\"],[0.1111111111111111,\"#46039f\"],[0.2222222222222222,\"#7201a8\"],[0.3333333333333333,\"#9c179e\"],[0.4444444444444444,\"#bd3786\"],[0.5555555555555556,\"#d8576b\"],[0.6666666666666666,\"#ed7953\"],[0.7777777777777778,\"#fb9f3a\"],[0.8888888888888888,\"#fdca26\"],[1.0,\"#f0f921\"]]}],\"choropleth\":[{\"type\":\"choropleth\",\"colorbar\":{\"outlinewidth\":0,\"ticks\":\"\"}}],\"histogram2d\":[{\"type\":\"histogram2d\",\"colorbar\":{\"outlinewidth\":0,\"ticks\":\"\"},\"colorscale\":[[0.0,\"#0d0887\"],[0.1111111111111111,\"#46039f\"],[0.2222222222222222,\"#7201a8\"],[0.3333333333333333,\"#9c179e\"],[0.4444444444444444,\"#bd3786\"],[0.5555555555555556,\"#d8576b\"],[0.6666666666666666,\"#ed7953\"],[0.7777777777777778,\"#fb9f3a\"],[0.8888888888888888,\"#fdca26\"],[1.0,\"#f0f921\"]]}],\"heatmap\":[{\"type\":\"heatmap\",\"colorbar\":{\"outlinewidth\":0,\"ticks\":\"\"},\"colorscale\":[[0.0,\"#0d0887\"],[0.1111111111111111,\"#46039f\"],[0.2222222222222222,\"#7201a8\"],[0.3333333333333333,\"#9c179e\"],[0.4444444444444444,\"#bd3786\"],[0.5555555555555556,\"#d8576b\"],[0.6666666666666666,\"#ed7953\"],[0.7777777777777778,\"#fb9f3a\"],[0.8888888888888888,\"#fdca26\"],[1.0,\"#f0f921\"]]}],\"heatmapgl\":[{\"type\":\"heatmapgl\",\"colorbar\":{\"outlinewidth\":0,\"ticks\":\"\"},\"colorscale\":[[0.0,\"#0d0887\"],[0.1111111111111111,\"#46039f\"],[0.2222222222222222,\"#7201a8\"],[0.3333333333333333,\"#9c179e\"],[0.4444444444444444,\"#bd3786\"],[0.5555555555555556,\"#d8576b\"],[0.6666666666666666,\"#ed7953\"],[0.7777777777777778,\"#fb9f3a\"],[0.8888888888888888,\"#fdca26\"],[1.0,\"#f0f921\"]]}],\"contourcarpet\":[{\"type\":\"contourcarpet\",\"colorbar\":{\"outlinewidth\":0,\"ticks\":\"\"}}],\"contour\":[{\"type\":\"contour\",\"colorbar\":{\"outlinewidth\":0,\"ticks\":\"\"},\"colorscale\":[[0.0,\"#0d0887\"],[0.1111111111111111,\"#46039f\"],[0.2222222222222222,\"#7201a8\"],[0.3333333333333333,\"#9c179e\"],[0.4444444444444444,\"#bd3786\"],[0.5555555555555556,\"#d8576b\"],[0.6666666666666666,\"#ed7953\"],[0.7777777777777778,\"#fb9f3a\"],[0.8888888888888888,\"#fdca26\"],[1.0,\"#f0f921\"]]}],\"surface\":[{\"type\":\"surface\",\"colorbar\":{\"outlinewidth\":0,\"ticks\":\"\"},\"colorscale\":[[0.0,\"#0d0887\"],[0.1111111111111111,\"#46039f\"],[0.2222222222222222,\"#7201a8\"],[0.3333333333333333,\"#9c179e\"],[0.4444444444444444,\"#bd3786\"],[0.5555555555555556,\"#d8576b\"],[0.6666666666666666,\"#ed7953\"],[0.7777777777777778,\"#fb9f3a\"],[0.8888888888888888,\"#fdca26\"],[1.0,\"#f0f921\"]]}],\"mesh3d\":[{\"type\":\"mesh3d\",\"colorbar\":{\"outlinewidth\":0,\"ticks\":\"\"}}],\"scatter\":[{\"fillpattern\":{\"fillmode\":\"overlay\",\"size\":10,\"solidity\":0.2},\"type\":\"scatter\"}],\"parcoords\":[{\"type\":\"parcoords\",\"line\":{\"colorbar\":{\"outlinewidth\":0,\"ticks\":\"\"}}}],\"scatterpolargl\":[{\"type\":\"scatterpolargl\",\"marker\":{\"colorbar\":{\"outlinewidth\":0,\"ticks\":\"\"}}}],\"bar\":[{\"error_x\":{\"color\":\"#2a3f5f\"},\"error_y\":{\"color\":\"#2a3f5f\"},\"marker\":{\"line\":{\"color\":\"#E5ECF6\",\"width\":0.5},\"pattern\":{\"fillmode\":\"overlay\",\"size\":10,\"solidity\":0.2}},\"type\":\"bar\"}],\"scattergeo\":[{\"type\":\"scattergeo\",\"marker\":{\"colorbar\":{\"outlinewidth\":0,\"ticks\":\"\"}}}],\"scatterpolar\":[{\"type\":\"scatterpolar\",\"marker\":{\"colorbar\":{\"outlinewidth\":0,\"ticks\":\"\"}}}],\"histogram\":[{\"marker\":{\"pattern\":{\"fillmode\":\"overlay\",\"size\":10,\"solidity\":0.2}},\"type\":\"histogram\"}],\"scattergl\":[{\"type\":\"scattergl\",\"marker\":{\"colorbar\":{\"outlinewidth\":0,\"ticks\":\"\"}}}],\"scatter3d\":[{\"type\":\"scatter3d\",\"line\":{\"colorbar\":{\"outlinewidth\":0,\"ticks\":\"\"}},\"marker\":{\"colorbar\":{\"outlinewidth\":0,\"ticks\":\"\"}}}],\"scattermapbox\":[{\"type\":\"scattermapbox\",\"marker\":{\"colorbar\":{\"outlinewidth\":0,\"ticks\":\"\"}}}],\"scatterternary\":[{\"type\":\"scatterternary\",\"marker\":{\"colorbar\":{\"outlinewidth\":0,\"ticks\":\"\"}}}],\"scattercarpet\":[{\"type\":\"scattercarpet\",\"marker\":{\"colorbar\":{\"outlinewidth\":0,\"ticks\":\"\"}}}],\"carpet\":[{\"aaxis\":{\"endlinecolor\":\"#2a3f5f\",\"gridcolor\":\"white\",\"linecolor\":\"white\",\"minorgridcolor\":\"white\",\"startlinecolor\":\"#2a3f5f\"},\"baxis\":{\"endlinecolor\":\"#2a3f5f\",\"gridcolor\":\"white\",\"linecolor\":\"white\",\"minorgridcolor\":\"white\",\"startlinecolor\":\"#2a3f5f\"},\"type\":\"carpet\"}],\"table\":[{\"cells\":{\"fill\":{\"color\":\"#EBF0F8\"},\"line\":{\"color\":\"white\"}},\"header\":{\"fill\":{\"color\":\"#C8D4E3\"},\"line\":{\"color\":\"white\"}},\"type\":\"table\"}],\"barpolar\":[{\"marker\":{\"line\":{\"color\":\"#E5ECF6\",\"width\":0.5},\"pattern\":{\"fillmode\":\"overlay\",\"size\":10,\"solidity\":0.2}},\"type\":\"barpolar\"}],\"pie\":[{\"automargin\":true,\"type\":\"pie\"}]},\"layout\":{\"autotypenumbers\":\"strict\",\"colorway\":[\"#636efa\",\"#EF553B\",\"#00cc96\",\"#ab63fa\",\"#FFA15A\",\"#19d3f3\",\"#FF6692\",\"#B6E880\",\"#FF97FF\",\"#FECB52\"],\"font\":{\"color\":\"#2a3f5f\"},\"hovermode\":\"closest\",\"hoverlabel\":{\"align\":\"left\"},\"paper_bgcolor\":\"white\",\"plot_bgcolor\":\"#E5ECF6\",\"polar\":{\"bgcolor\":\"#E5ECF6\",\"angularaxis\":{\"gridcolor\":\"white\",\"linecolor\":\"white\",\"ticks\":\"\"},\"radialaxis\":{\"gridcolor\":\"white\",\"linecolor\":\"white\",\"ticks\":\"\"}},\"ternary\":{\"bgcolor\":\"#E5ECF6\",\"aaxis\":{\"gridcolor\":\"white\",\"linecolor\":\"white\",\"ticks\":\"\"},\"baxis\":{\"gridcolor\":\"white\",\"linecolor\":\"white\",\"ticks\":\"\"},\"caxis\":{\"gridcolor\":\"white\",\"linecolor\":\"white\",\"ticks\":\"\"}},\"coloraxis\":{\"colorbar\":{\"outlinewidth\":0,\"ticks\":\"\"}},\"colorscale\":{\"sequential\":[[0.0,\"#0d0887\"],[0.1111111111111111,\"#46039f\"],[0.2222222222222222,\"#7201a8\"],[0.3333333333333333,\"#9c179e\"],[0.4444444444444444,\"#bd3786\"],[0.5555555555555556,\"#d8576b\"],[0.6666666666666666,\"#ed7953\"],[0.7777777777777778,\"#fb9f3a\"],[0.8888888888888888,\"#fdca26\"],[1.0,\"#f0f921\"]],\"sequentialminus\":[[0.0,\"#0d0887\"],[0.1111111111111111,\"#46039f\"],[0.2222222222222222,\"#7201a8\"],[0.3333333333333333,\"#9c179e\"],[0.4444444444444444,\"#bd3786\"],[0.5555555555555556,\"#d8576b\"],[0.6666666666666666,\"#ed7953\"],[0.7777777777777778,\"#fb9f3a\"],[0.8888888888888888,\"#fdca26\"],[1.0,\"#f0f921\"]],\"diverging\":[[0,\"#8e0152\"],[0.1,\"#c51b7d\"],[0.2,\"#de77ae\"],[0.3,\"#f1b6da\"],[0.4,\"#fde0ef\"],[0.5,\"#f7f7f7\"],[0.6,\"#e6f5d0\"],[0.7,\"#b8e186\"],[0.8,\"#7fbc41\"],[0.9,\"#4d9221\"],[1,\"#276419\"]]},\"xaxis\":{\"gridcolor\":\"white\",\"linecolor\":\"white\",\"ticks\":\"\",\"title\":{\"standoff\":15},\"zerolinecolor\":\"white\",\"automargin\":true,\"zerolinewidth\":2},\"yaxis\":{\"gridcolor\":\"white\",\"linecolor\":\"white\",\"ticks\":\"\",\"title\":{\"standoff\":15},\"zerolinecolor\":\"white\",\"automargin\":true,\"zerolinewidth\":2},\"scene\":{\"xaxis\":{\"backgroundcolor\":\"#E5ECF6\",\"gridcolor\":\"white\",\"linecolor\":\"white\",\"showbackground\":true,\"ticks\":\"\",\"zerolinecolor\":\"white\",\"gridwidth\":2},\"yaxis\":{\"backgroundcolor\":\"#E5ECF6\",\"gridcolor\":\"white\",\"linecolor\":\"white\",\"showbackground\":true,\"ticks\":\"\",\"zerolinecolor\":\"white\",\"gridwidth\":2},\"zaxis\":{\"backgroundcolor\":\"#E5ECF6\",\"gridcolor\":\"white\",\"linecolor\":\"white\",\"showbackground\":true,\"ticks\":\"\",\"zerolinecolor\":\"white\",\"gridwidth\":2}},\"shapedefaults\":{\"line\":{\"color\":\"#2a3f5f\"}},\"annotationdefaults\":{\"arrowcolor\":\"#2a3f5f\",\"arrowhead\":0,\"arrowwidth\":1},\"geo\":{\"bgcolor\":\"white\",\"landcolor\":\"#E5ECF6\",\"subunitcolor\":\"white\",\"showland\":true,\"showlakes\":true,\"lakecolor\":\"white\"},\"title\":{\"x\":0.05},\"mapbox\":{\"style\":\"light\"}}},\"xaxis\":{\"anchor\":\"y\",\"domain\":[0.0,1.0],\"title\":{\"text\":\"Requirements\"}},\"yaxis\":{\"anchor\":\"x\",\"domain\":[0.0,1.0],\"title\":{\"text\":\"Compliance Score\"}},\"legend\":{\"title\":{\"text\":\"Criterias\"},\"tracegroupgap\":0},\"margin\":{\"t\":60},\"barmode\":\"relative\",\"title\":{\"text\":\"Compliance requirements\"}},                        {\"responsive\": true}                    ).then(function(){\n",
       "                            \n",
       "var gd = document.getElementById('2130f41d-78ec-43de-b508-9bb43e695eb3');\n",
       "var x = new MutationObserver(function (mutations, observer) {{\n",
       "        var display = window.getComputedStyle(gd).display;\n",
       "        if (!display || display === 'none') {{\n",
       "            console.log([gd, 'removed!']);\n",
       "            Plotly.purge(gd);\n",
       "            observer.disconnect();\n",
       "        }}\n",
       "}});\n",
       "\n",
       "// Listen for the removal of the full notebook cells\n",
       "var notebookContainer = gd.closest('#notebook-container');\n",
       "if (notebookContainer) {{\n",
       "    x.observe(notebookContainer, {childList: true});\n",
       "}}\n",
       "\n",
       "// Listen for the clearing of the current output cell\n",
       "var outputEl = gd.closest('.output');\n",
       "if (outputEl) {{\n",
       "    x.observe(outputEl, {childList: true});\n",
       "}}\n",
       "\n",
       "                        })                };                });            </script>        </div>"
      ]
     },
     "metadata": {},
     "output_type": "display_data"
    }
   ],
   "source": [
    "import plotly.express as px\n",
    "import plotly.io as pio\n",
    "fig = px.bar(concatenated_df1, x=\"Requirement\", y=[\"Compliance A\", \"Compliance B\", \"Compliance C\"])\n",
    "\n",
    "fig.update_layout(\n",
    "    title=\"Compliance requirements\",\n",
    "    xaxis_title=\"Requirements\",\n",
    "    yaxis_title=\"Compliance Score\",\n",
    "    legend_title=\"Criterias\"\n",
    ")\n",
    "pio.write_html(fig, file='./fig/requirements_locSF.html', auto_open=False)\n",
    "fig.show()\n"
   ]
  },
  {
   "cell_type": "code",
   "execution_count": 102,
   "id": "8304a3df",
   "metadata": {},
   "outputs": [
    {
     "data": {
      "application/vnd.plotly.v1+json": {
       "config": {
        "plotlyServerURL": "https://plot.ly"
       },
       "data": [
        {
         "name": "Compliance Score A",
         "type": "bar",
         "x": [
          "Location A"
         ],
         "y": [
          8
         ]
        },
        {
         "name": "Compliance Score B",
         "type": "bar",
         "x": [
          "Location B"
         ],
         "y": [
          8
         ]
        },
        {
         "name": "Compliance Score C",
         "type": "bar",
         "x": [
          "Location C"
         ],
         "y": [
          6
         ]
        }
       ],
       "layout": {
        "barmode": "group",
        "template": {
         "data": {
          "bar": [
           {
            "error_x": {
             "color": "#2a3f5f"
            },
            "error_y": {
             "color": "#2a3f5f"
            },
            "marker": {
             "line": {
              "color": "#E5ECF6",
              "width": 0.5
             },
             "pattern": {
              "fillmode": "overlay",
              "size": 10,
              "solidity": 0.2
             }
            },
            "type": "bar"
           }
          ],
          "barpolar": [
           {
            "marker": {
             "line": {
              "color": "#E5ECF6",
              "width": 0.5
             },
             "pattern": {
              "fillmode": "overlay",
              "size": 10,
              "solidity": 0.2
             }
            },
            "type": "barpolar"
           }
          ],
          "carpet": [
           {
            "aaxis": {
             "endlinecolor": "#2a3f5f",
             "gridcolor": "white",
             "linecolor": "white",
             "minorgridcolor": "white",
             "startlinecolor": "#2a3f5f"
            },
            "baxis": {
             "endlinecolor": "#2a3f5f",
             "gridcolor": "white",
             "linecolor": "white",
             "minorgridcolor": "white",
             "startlinecolor": "#2a3f5f"
            },
            "type": "carpet"
           }
          ],
          "choropleth": [
           {
            "colorbar": {
             "outlinewidth": 0,
             "ticks": ""
            },
            "type": "choropleth"
           }
          ],
          "contour": [
           {
            "colorbar": {
             "outlinewidth": 0,
             "ticks": ""
            },
            "colorscale": [
             [
              0,
              "#0d0887"
             ],
             [
              0.1111111111111111,
              "#46039f"
             ],
             [
              0.2222222222222222,
              "#7201a8"
             ],
             [
              0.3333333333333333,
              "#9c179e"
             ],
             [
              0.4444444444444444,
              "#bd3786"
             ],
             [
              0.5555555555555556,
              "#d8576b"
             ],
             [
              0.6666666666666666,
              "#ed7953"
             ],
             [
              0.7777777777777778,
              "#fb9f3a"
             ],
             [
              0.8888888888888888,
              "#fdca26"
             ],
             [
              1,
              "#f0f921"
             ]
            ],
            "type": "contour"
           }
          ],
          "contourcarpet": [
           {
            "colorbar": {
             "outlinewidth": 0,
             "ticks": ""
            },
            "type": "contourcarpet"
           }
          ],
          "heatmap": [
           {
            "colorbar": {
             "outlinewidth": 0,
             "ticks": ""
            },
            "colorscale": [
             [
              0,
              "#0d0887"
             ],
             [
              0.1111111111111111,
              "#46039f"
             ],
             [
              0.2222222222222222,
              "#7201a8"
             ],
             [
              0.3333333333333333,
              "#9c179e"
             ],
             [
              0.4444444444444444,
              "#bd3786"
             ],
             [
              0.5555555555555556,
              "#d8576b"
             ],
             [
              0.6666666666666666,
              "#ed7953"
             ],
             [
              0.7777777777777778,
              "#fb9f3a"
             ],
             [
              0.8888888888888888,
              "#fdca26"
             ],
             [
              1,
              "#f0f921"
             ]
            ],
            "type": "heatmap"
           }
          ],
          "heatmapgl": [
           {
            "colorbar": {
             "outlinewidth": 0,
             "ticks": ""
            },
            "colorscale": [
             [
              0,
              "#0d0887"
             ],
             [
              0.1111111111111111,
              "#46039f"
             ],
             [
              0.2222222222222222,
              "#7201a8"
             ],
             [
              0.3333333333333333,
              "#9c179e"
             ],
             [
              0.4444444444444444,
              "#bd3786"
             ],
             [
              0.5555555555555556,
              "#d8576b"
             ],
             [
              0.6666666666666666,
              "#ed7953"
             ],
             [
              0.7777777777777778,
              "#fb9f3a"
             ],
             [
              0.8888888888888888,
              "#fdca26"
             ],
             [
              1,
              "#f0f921"
             ]
            ],
            "type": "heatmapgl"
           }
          ],
          "histogram": [
           {
            "marker": {
             "pattern": {
              "fillmode": "overlay",
              "size": 10,
              "solidity": 0.2
             }
            },
            "type": "histogram"
           }
          ],
          "histogram2d": [
           {
            "colorbar": {
             "outlinewidth": 0,
             "ticks": ""
            },
            "colorscale": [
             [
              0,
              "#0d0887"
             ],
             [
              0.1111111111111111,
              "#46039f"
             ],
             [
              0.2222222222222222,
              "#7201a8"
             ],
             [
              0.3333333333333333,
              "#9c179e"
             ],
             [
              0.4444444444444444,
              "#bd3786"
             ],
             [
              0.5555555555555556,
              "#d8576b"
             ],
             [
              0.6666666666666666,
              "#ed7953"
             ],
             [
              0.7777777777777778,
              "#fb9f3a"
             ],
             [
              0.8888888888888888,
              "#fdca26"
             ],
             [
              1,
              "#f0f921"
             ]
            ],
            "type": "histogram2d"
           }
          ],
          "histogram2dcontour": [
           {
            "colorbar": {
             "outlinewidth": 0,
             "ticks": ""
            },
            "colorscale": [
             [
              0,
              "#0d0887"
             ],
             [
              0.1111111111111111,
              "#46039f"
             ],
             [
              0.2222222222222222,
              "#7201a8"
             ],
             [
              0.3333333333333333,
              "#9c179e"
             ],
             [
              0.4444444444444444,
              "#bd3786"
             ],
             [
              0.5555555555555556,
              "#d8576b"
             ],
             [
              0.6666666666666666,
              "#ed7953"
             ],
             [
              0.7777777777777778,
              "#fb9f3a"
             ],
             [
              0.8888888888888888,
              "#fdca26"
             ],
             [
              1,
              "#f0f921"
             ]
            ],
            "type": "histogram2dcontour"
           }
          ],
          "mesh3d": [
           {
            "colorbar": {
             "outlinewidth": 0,
             "ticks": ""
            },
            "type": "mesh3d"
           }
          ],
          "parcoords": [
           {
            "line": {
             "colorbar": {
              "outlinewidth": 0,
              "ticks": ""
             }
            },
            "type": "parcoords"
           }
          ],
          "pie": [
           {
            "automargin": true,
            "type": "pie"
           }
          ],
          "scatter": [
           {
            "fillpattern": {
             "fillmode": "overlay",
             "size": 10,
             "solidity": 0.2
            },
            "type": "scatter"
           }
          ],
          "scatter3d": [
           {
            "line": {
             "colorbar": {
              "outlinewidth": 0,
              "ticks": ""
             }
            },
            "marker": {
             "colorbar": {
              "outlinewidth": 0,
              "ticks": ""
             }
            },
            "type": "scatter3d"
           }
          ],
          "scattercarpet": [
           {
            "marker": {
             "colorbar": {
              "outlinewidth": 0,
              "ticks": ""
             }
            },
            "type": "scattercarpet"
           }
          ],
          "scattergeo": [
           {
            "marker": {
             "colorbar": {
              "outlinewidth": 0,
              "ticks": ""
             }
            },
            "type": "scattergeo"
           }
          ],
          "scattergl": [
           {
            "marker": {
             "colorbar": {
              "outlinewidth": 0,
              "ticks": ""
             }
            },
            "type": "scattergl"
           }
          ],
          "scattermapbox": [
           {
            "marker": {
             "colorbar": {
              "outlinewidth": 0,
              "ticks": ""
             }
            },
            "type": "scattermapbox"
           }
          ],
          "scatterpolar": [
           {
            "marker": {
             "colorbar": {
              "outlinewidth": 0,
              "ticks": ""
             }
            },
            "type": "scatterpolar"
           }
          ],
          "scatterpolargl": [
           {
            "marker": {
             "colorbar": {
              "outlinewidth": 0,
              "ticks": ""
             }
            },
            "type": "scatterpolargl"
           }
          ],
          "scatterternary": [
           {
            "marker": {
             "colorbar": {
              "outlinewidth": 0,
              "ticks": ""
             }
            },
            "type": "scatterternary"
           }
          ],
          "surface": [
           {
            "colorbar": {
             "outlinewidth": 0,
             "ticks": ""
            },
            "colorscale": [
             [
              0,
              "#0d0887"
             ],
             [
              0.1111111111111111,
              "#46039f"
             ],
             [
              0.2222222222222222,
              "#7201a8"
             ],
             [
              0.3333333333333333,
              "#9c179e"
             ],
             [
              0.4444444444444444,
              "#bd3786"
             ],
             [
              0.5555555555555556,
              "#d8576b"
             ],
             [
              0.6666666666666666,
              "#ed7953"
             ],
             [
              0.7777777777777778,
              "#fb9f3a"
             ],
             [
              0.8888888888888888,
              "#fdca26"
             ],
             [
              1,
              "#f0f921"
             ]
            ],
            "type": "surface"
           }
          ],
          "table": [
           {
            "cells": {
             "fill": {
              "color": "#EBF0F8"
             },
             "line": {
              "color": "white"
             }
            },
            "header": {
             "fill": {
              "color": "#C8D4E3"
             },
             "line": {
              "color": "white"
             }
            },
            "type": "table"
           }
          ]
         },
         "layout": {
          "annotationdefaults": {
           "arrowcolor": "#2a3f5f",
           "arrowhead": 0,
           "arrowwidth": 1
          },
          "autotypenumbers": "strict",
          "coloraxis": {
           "colorbar": {
            "outlinewidth": 0,
            "ticks": ""
           }
          },
          "colorscale": {
           "diverging": [
            [
             0,
             "#8e0152"
            ],
            [
             0.1,
             "#c51b7d"
            ],
            [
             0.2,
             "#de77ae"
            ],
            [
             0.3,
             "#f1b6da"
            ],
            [
             0.4,
             "#fde0ef"
            ],
            [
             0.5,
             "#f7f7f7"
            ],
            [
             0.6,
             "#e6f5d0"
            ],
            [
             0.7,
             "#b8e186"
            ],
            [
             0.8,
             "#7fbc41"
            ],
            [
             0.9,
             "#4d9221"
            ],
            [
             1,
             "#276419"
            ]
           ],
           "sequential": [
            [
             0,
             "#0d0887"
            ],
            [
             0.1111111111111111,
             "#46039f"
            ],
            [
             0.2222222222222222,
             "#7201a8"
            ],
            [
             0.3333333333333333,
             "#9c179e"
            ],
            [
             0.4444444444444444,
             "#bd3786"
            ],
            [
             0.5555555555555556,
             "#d8576b"
            ],
            [
             0.6666666666666666,
             "#ed7953"
            ],
            [
             0.7777777777777778,
             "#fb9f3a"
            ],
            [
             0.8888888888888888,
             "#fdca26"
            ],
            [
             1,
             "#f0f921"
            ]
           ],
           "sequentialminus": [
            [
             0,
             "#0d0887"
            ],
            [
             0.1111111111111111,
             "#46039f"
            ],
            [
             0.2222222222222222,
             "#7201a8"
            ],
            [
             0.3333333333333333,
             "#9c179e"
            ],
            [
             0.4444444444444444,
             "#bd3786"
            ],
            [
             0.5555555555555556,
             "#d8576b"
            ],
            [
             0.6666666666666666,
             "#ed7953"
            ],
            [
             0.7777777777777778,
             "#fb9f3a"
            ],
            [
             0.8888888888888888,
             "#fdca26"
            ],
            [
             1,
             "#f0f921"
            ]
           ]
          },
          "colorway": [
           "#636efa",
           "#EF553B",
           "#00cc96",
           "#ab63fa",
           "#FFA15A",
           "#19d3f3",
           "#FF6692",
           "#B6E880",
           "#FF97FF",
           "#FECB52"
          ],
          "font": {
           "color": "#2a3f5f"
          },
          "geo": {
           "bgcolor": "white",
           "lakecolor": "white",
           "landcolor": "#E5ECF6",
           "showlakes": true,
           "showland": true,
           "subunitcolor": "white"
          },
          "hoverlabel": {
           "align": "left"
          },
          "hovermode": "closest",
          "mapbox": {
           "style": "light"
          },
          "paper_bgcolor": "white",
          "plot_bgcolor": "#E5ECF6",
          "polar": {
           "angularaxis": {
            "gridcolor": "white",
            "linecolor": "white",
            "ticks": ""
           },
           "bgcolor": "#E5ECF6",
           "radialaxis": {
            "gridcolor": "white",
            "linecolor": "white",
            "ticks": ""
           }
          },
          "scene": {
           "xaxis": {
            "backgroundcolor": "#E5ECF6",
            "gridcolor": "white",
            "gridwidth": 2,
            "linecolor": "white",
            "showbackground": true,
            "ticks": "",
            "zerolinecolor": "white"
           },
           "yaxis": {
            "backgroundcolor": "#E5ECF6",
            "gridcolor": "white",
            "gridwidth": 2,
            "linecolor": "white",
            "showbackground": true,
            "ticks": "",
            "zerolinecolor": "white"
           },
           "zaxis": {
            "backgroundcolor": "#E5ECF6",
            "gridcolor": "white",
            "gridwidth": 2,
            "linecolor": "white",
            "showbackground": true,
            "ticks": "",
            "zerolinecolor": "white"
           }
          },
          "shapedefaults": {
           "line": {
            "color": "#2a3f5f"
           }
          },
          "ternary": {
           "aaxis": {
            "gridcolor": "white",
            "linecolor": "white",
            "ticks": ""
           },
           "baxis": {
            "gridcolor": "white",
            "linecolor": "white",
            "ticks": ""
           },
           "bgcolor": "#E5ECF6",
           "caxis": {
            "gridcolor": "white",
            "linecolor": "white",
            "ticks": ""
           }
          },
          "title": {
           "x": 0.05
          },
          "xaxis": {
           "automargin": true,
           "gridcolor": "white",
           "linecolor": "white",
           "ticks": "",
           "title": {
            "standoff": 15
           },
           "zerolinecolor": "white",
           "zerolinewidth": 2
          },
          "yaxis": {
           "automargin": true,
           "gridcolor": "white",
           "linecolor": "white",
           "ticks": "",
           "title": {
            "standoff": 15
           },
           "zerolinecolor": "white",
           "zerolinewidth": 2
          }
         }
        },
        "title": {
         "text": "Compliance Scores"
        },
        "xaxis": {
         "title": {
          "text": "Locations"
         }
        },
        "yaxis": {
         "title": {
          "text": "Compliance Score"
         }
        }
       }
      },
      "text/html": [
       "<div>                            <div id=\"a617babe-fc85-4089-aa3b-7623d44ab185\" class=\"plotly-graph-div\" style=\"height:525px; width:100%;\"></div>            <script type=\"text/javascript\">                require([\"plotly\"], function(Plotly) {                    window.PLOTLYENV=window.PLOTLYENV || {};                                    if (document.getElementById(\"a617babe-fc85-4089-aa3b-7623d44ab185\")) {                    Plotly.newPlot(                        \"a617babe-fc85-4089-aa3b-7623d44ab185\",                        [{\"name\":\"Compliance Score A\",\"x\":[\"Location A\"],\"y\":[8.0],\"type\":\"bar\"},{\"name\":\"Compliance Score B\",\"x\":[\"Location B\"],\"y\":[8.0],\"type\":\"bar\"},{\"name\":\"Compliance Score C\",\"x\":[\"Location C\"],\"y\":[6.0],\"type\":\"bar\"}],                        {\"template\":{\"data\":{\"histogram2dcontour\":[{\"type\":\"histogram2dcontour\",\"colorbar\":{\"outlinewidth\":0,\"ticks\":\"\"},\"colorscale\":[[0.0,\"#0d0887\"],[0.1111111111111111,\"#46039f\"],[0.2222222222222222,\"#7201a8\"],[0.3333333333333333,\"#9c179e\"],[0.4444444444444444,\"#bd3786\"],[0.5555555555555556,\"#d8576b\"],[0.6666666666666666,\"#ed7953\"],[0.7777777777777778,\"#fb9f3a\"],[0.8888888888888888,\"#fdca26\"],[1.0,\"#f0f921\"]]}],\"choropleth\":[{\"type\":\"choropleth\",\"colorbar\":{\"outlinewidth\":0,\"ticks\":\"\"}}],\"histogram2d\":[{\"type\":\"histogram2d\",\"colorbar\":{\"outlinewidth\":0,\"ticks\":\"\"},\"colorscale\":[[0.0,\"#0d0887\"],[0.1111111111111111,\"#46039f\"],[0.2222222222222222,\"#7201a8\"],[0.3333333333333333,\"#9c179e\"],[0.4444444444444444,\"#bd3786\"],[0.5555555555555556,\"#d8576b\"],[0.6666666666666666,\"#ed7953\"],[0.7777777777777778,\"#fb9f3a\"],[0.8888888888888888,\"#fdca26\"],[1.0,\"#f0f921\"]]}],\"heatmap\":[{\"type\":\"heatmap\",\"colorbar\":{\"outlinewidth\":0,\"ticks\":\"\"},\"colorscale\":[[0.0,\"#0d0887\"],[0.1111111111111111,\"#46039f\"],[0.2222222222222222,\"#7201a8\"],[0.3333333333333333,\"#9c179e\"],[0.4444444444444444,\"#bd3786\"],[0.5555555555555556,\"#d8576b\"],[0.6666666666666666,\"#ed7953\"],[0.7777777777777778,\"#fb9f3a\"],[0.8888888888888888,\"#fdca26\"],[1.0,\"#f0f921\"]]}],\"heatmapgl\":[{\"type\":\"heatmapgl\",\"colorbar\":{\"outlinewidth\":0,\"ticks\":\"\"},\"colorscale\":[[0.0,\"#0d0887\"],[0.1111111111111111,\"#46039f\"],[0.2222222222222222,\"#7201a8\"],[0.3333333333333333,\"#9c179e\"],[0.4444444444444444,\"#bd3786\"],[0.5555555555555556,\"#d8576b\"],[0.6666666666666666,\"#ed7953\"],[0.7777777777777778,\"#fb9f3a\"],[0.8888888888888888,\"#fdca26\"],[1.0,\"#f0f921\"]]}],\"contourcarpet\":[{\"type\":\"contourcarpet\",\"colorbar\":{\"outlinewidth\":0,\"ticks\":\"\"}}],\"contour\":[{\"type\":\"contour\",\"colorbar\":{\"outlinewidth\":0,\"ticks\":\"\"},\"colorscale\":[[0.0,\"#0d0887\"],[0.1111111111111111,\"#46039f\"],[0.2222222222222222,\"#7201a8\"],[0.3333333333333333,\"#9c179e\"],[0.4444444444444444,\"#bd3786\"],[0.5555555555555556,\"#d8576b\"],[0.6666666666666666,\"#ed7953\"],[0.7777777777777778,\"#fb9f3a\"],[0.8888888888888888,\"#fdca26\"],[1.0,\"#f0f921\"]]}],\"surface\":[{\"type\":\"surface\",\"colorbar\":{\"outlinewidth\":0,\"ticks\":\"\"},\"colorscale\":[[0.0,\"#0d0887\"],[0.1111111111111111,\"#46039f\"],[0.2222222222222222,\"#7201a8\"],[0.3333333333333333,\"#9c179e\"],[0.4444444444444444,\"#bd3786\"],[0.5555555555555556,\"#d8576b\"],[0.6666666666666666,\"#ed7953\"],[0.7777777777777778,\"#fb9f3a\"],[0.8888888888888888,\"#fdca26\"],[1.0,\"#f0f921\"]]}],\"mesh3d\":[{\"type\":\"mesh3d\",\"colorbar\":{\"outlinewidth\":0,\"ticks\":\"\"}}],\"scatter\":[{\"fillpattern\":{\"fillmode\":\"overlay\",\"size\":10,\"solidity\":0.2},\"type\":\"scatter\"}],\"parcoords\":[{\"type\":\"parcoords\",\"line\":{\"colorbar\":{\"outlinewidth\":0,\"ticks\":\"\"}}}],\"scatterpolargl\":[{\"type\":\"scatterpolargl\",\"marker\":{\"colorbar\":{\"outlinewidth\":0,\"ticks\":\"\"}}}],\"bar\":[{\"error_x\":{\"color\":\"#2a3f5f\"},\"error_y\":{\"color\":\"#2a3f5f\"},\"marker\":{\"line\":{\"color\":\"#E5ECF6\",\"width\":0.5},\"pattern\":{\"fillmode\":\"overlay\",\"size\":10,\"solidity\":0.2}},\"type\":\"bar\"}],\"scattergeo\":[{\"type\":\"scattergeo\",\"marker\":{\"colorbar\":{\"outlinewidth\":0,\"ticks\":\"\"}}}],\"scatterpolar\":[{\"type\":\"scatterpolar\",\"marker\":{\"colorbar\":{\"outlinewidth\":0,\"ticks\":\"\"}}}],\"histogram\":[{\"marker\":{\"pattern\":{\"fillmode\":\"overlay\",\"size\":10,\"solidity\":0.2}},\"type\":\"histogram\"}],\"scattergl\":[{\"type\":\"scattergl\",\"marker\":{\"colorbar\":{\"outlinewidth\":0,\"ticks\":\"\"}}}],\"scatter3d\":[{\"type\":\"scatter3d\",\"line\":{\"colorbar\":{\"outlinewidth\":0,\"ticks\":\"\"}},\"marker\":{\"colorbar\":{\"outlinewidth\":0,\"ticks\":\"\"}}}],\"scattermapbox\":[{\"type\":\"scattermapbox\",\"marker\":{\"colorbar\":{\"outlinewidth\":0,\"ticks\":\"\"}}}],\"scatterternary\":[{\"type\":\"scatterternary\",\"marker\":{\"colorbar\":{\"outlinewidth\":0,\"ticks\":\"\"}}}],\"scattercarpet\":[{\"type\":\"scattercarpet\",\"marker\":{\"colorbar\":{\"outlinewidth\":0,\"ticks\":\"\"}}}],\"carpet\":[{\"aaxis\":{\"endlinecolor\":\"#2a3f5f\",\"gridcolor\":\"white\",\"linecolor\":\"white\",\"minorgridcolor\":\"white\",\"startlinecolor\":\"#2a3f5f\"},\"baxis\":{\"endlinecolor\":\"#2a3f5f\",\"gridcolor\":\"white\",\"linecolor\":\"white\",\"minorgridcolor\":\"white\",\"startlinecolor\":\"#2a3f5f\"},\"type\":\"carpet\"}],\"table\":[{\"cells\":{\"fill\":{\"color\":\"#EBF0F8\"},\"line\":{\"color\":\"white\"}},\"header\":{\"fill\":{\"color\":\"#C8D4E3\"},\"line\":{\"color\":\"white\"}},\"type\":\"table\"}],\"barpolar\":[{\"marker\":{\"line\":{\"color\":\"#E5ECF6\",\"width\":0.5},\"pattern\":{\"fillmode\":\"overlay\",\"size\":10,\"solidity\":0.2}},\"type\":\"barpolar\"}],\"pie\":[{\"automargin\":true,\"type\":\"pie\"}]},\"layout\":{\"autotypenumbers\":\"strict\",\"colorway\":[\"#636efa\",\"#EF553B\",\"#00cc96\",\"#ab63fa\",\"#FFA15A\",\"#19d3f3\",\"#FF6692\",\"#B6E880\",\"#FF97FF\",\"#FECB52\"],\"font\":{\"color\":\"#2a3f5f\"},\"hovermode\":\"closest\",\"hoverlabel\":{\"align\":\"left\"},\"paper_bgcolor\":\"white\",\"plot_bgcolor\":\"#E5ECF6\",\"polar\":{\"bgcolor\":\"#E5ECF6\",\"angularaxis\":{\"gridcolor\":\"white\",\"linecolor\":\"white\",\"ticks\":\"\"},\"radialaxis\":{\"gridcolor\":\"white\",\"linecolor\":\"white\",\"ticks\":\"\"}},\"ternary\":{\"bgcolor\":\"#E5ECF6\",\"aaxis\":{\"gridcolor\":\"white\",\"linecolor\":\"white\",\"ticks\":\"\"},\"baxis\":{\"gridcolor\":\"white\",\"linecolor\":\"white\",\"ticks\":\"\"},\"caxis\":{\"gridcolor\":\"white\",\"linecolor\":\"white\",\"ticks\":\"\"}},\"coloraxis\":{\"colorbar\":{\"outlinewidth\":0,\"ticks\":\"\"}},\"colorscale\":{\"sequential\":[[0.0,\"#0d0887\"],[0.1111111111111111,\"#46039f\"],[0.2222222222222222,\"#7201a8\"],[0.3333333333333333,\"#9c179e\"],[0.4444444444444444,\"#bd3786\"],[0.5555555555555556,\"#d8576b\"],[0.6666666666666666,\"#ed7953\"],[0.7777777777777778,\"#fb9f3a\"],[0.8888888888888888,\"#fdca26\"],[1.0,\"#f0f921\"]],\"sequentialminus\":[[0.0,\"#0d0887\"],[0.1111111111111111,\"#46039f\"],[0.2222222222222222,\"#7201a8\"],[0.3333333333333333,\"#9c179e\"],[0.4444444444444444,\"#bd3786\"],[0.5555555555555556,\"#d8576b\"],[0.6666666666666666,\"#ed7953\"],[0.7777777777777778,\"#fb9f3a\"],[0.8888888888888888,\"#fdca26\"],[1.0,\"#f0f921\"]],\"diverging\":[[0,\"#8e0152\"],[0.1,\"#c51b7d\"],[0.2,\"#de77ae\"],[0.3,\"#f1b6da\"],[0.4,\"#fde0ef\"],[0.5,\"#f7f7f7\"],[0.6,\"#e6f5d0\"],[0.7,\"#b8e186\"],[0.8,\"#7fbc41\"],[0.9,\"#4d9221\"],[1,\"#276419\"]]},\"xaxis\":{\"gridcolor\":\"white\",\"linecolor\":\"white\",\"ticks\":\"\",\"title\":{\"standoff\":15},\"zerolinecolor\":\"white\",\"automargin\":true,\"zerolinewidth\":2},\"yaxis\":{\"gridcolor\":\"white\",\"linecolor\":\"white\",\"ticks\":\"\",\"title\":{\"standoff\":15},\"zerolinecolor\":\"white\",\"automargin\":true,\"zerolinewidth\":2},\"scene\":{\"xaxis\":{\"backgroundcolor\":\"#E5ECF6\",\"gridcolor\":\"white\",\"linecolor\":\"white\",\"showbackground\":true,\"ticks\":\"\",\"zerolinecolor\":\"white\",\"gridwidth\":2},\"yaxis\":{\"backgroundcolor\":\"#E5ECF6\",\"gridcolor\":\"white\",\"linecolor\":\"white\",\"showbackground\":true,\"ticks\":\"\",\"zerolinecolor\":\"white\",\"gridwidth\":2},\"zaxis\":{\"backgroundcolor\":\"#E5ECF6\",\"gridcolor\":\"white\",\"linecolor\":\"white\",\"showbackground\":true,\"ticks\":\"\",\"zerolinecolor\":\"white\",\"gridwidth\":2}},\"shapedefaults\":{\"line\":{\"color\":\"#2a3f5f\"}},\"annotationdefaults\":{\"arrowcolor\":\"#2a3f5f\",\"arrowhead\":0,\"arrowwidth\":1},\"geo\":{\"bgcolor\":\"white\",\"landcolor\":\"#E5ECF6\",\"subunitcolor\":\"white\",\"showland\":true,\"showlakes\":true,\"lakecolor\":\"white\"},\"title\":{\"x\":0.05},\"mapbox\":{\"style\":\"light\"}}},\"title\":{\"text\":\"Compliance Scores\"},\"xaxis\":{\"title\":{\"text\":\"Locations\"}},\"yaxis\":{\"title\":{\"text\":\"Compliance Score\"}},\"barmode\":\"group\"},                        {\"responsive\": true}                    ).then(function(){\n",
       "                            \n",
       "var gd = document.getElementById('a617babe-fc85-4089-aa3b-7623d44ab185');\n",
       "var x = new MutationObserver(function (mutations, observer) {{\n",
       "        var display = window.getComputedStyle(gd).display;\n",
       "        if (!display || display === 'none') {{\n",
       "            console.log([gd, 'removed!']);\n",
       "            Plotly.purge(gd);\n",
       "            observer.disconnect();\n",
       "        }}\n",
       "}});\n",
       "\n",
       "// Listen for the removal of the full notebook cells\n",
       "var notebookContainer = gd.closest('#notebook-container');\n",
       "if (notebookContainer) {{\n",
       "    x.observe(notebookContainer, {childList: true});\n",
       "}}\n",
       "\n",
       "// Listen for the clearing of the current output cell\n",
       "var outputEl = gd.closest('.output');\n",
       "if (outputEl) {{\n",
       "    x.observe(outputEl, {childList: true});\n",
       "}}\n",
       "\n",
       "                        })                };                });            </script>        </div>"
      ]
     },
     "metadata": {},
     "output_type": "display_data"
    }
   ],
   "source": [
    "import plotly.graph_objects as go\n",
    "fig = go.Figure()\n",
    "fig.add_trace(go.Bar(x=[\"Location A\"], y=[concatenated_df1[\"Compliance A\"].sum()], name=\"Compliance Score A\"))\n",
    "fig.add_trace(go.Bar(x=[\"Location B\"], y=[concatenated_df1[\"Compliance B\"].sum()], name=\"Compliance Score B\"))\n",
    "fig.add_trace(go.Bar(x=[\"Location C\"], y=[concatenated_df1[\"Compliance C\"].sum()], name=\"Compliance Score C\"))\n",
    "fig.update_layout(\n",
    "    title=\"Compliance Scores\",\n",
    "    xaxis_title=\"Locations\",\n",
    "    yaxis_title=\"Compliance Score\",\n",
    "    barmode=\"group\"\n",
    ")\n",
    "pio.write_html(fig, file='./fig/compliance_locSF.html', auto_open=False)\n",
    "fig.show()\n"
   ]
  },
  {
   "cell_type": "code",
   "execution_count": null,
   "id": "f2492058",
   "metadata": {},
   "outputs": [],
   "source": [
    "df_final=pd.concat([df_hipotesis, concatenated_df], axis=1)\n",
    "df_final"
   ]
  },
  {
   "cell_type": "markdown",
   "id": "72f5696e",
   "metadata": {},
   "source": [
    "# 6. New York - research "
   ]
  },
  {
   "cell_type": "markdown",
   "id": "80dec58f",
   "metadata": {},
   "source": [
    "## 6.1 Venue"
   ]
  },
  {
   "cell_type": "code",
   "execution_count": null,
   "id": "592442e8",
   "metadata": {},
   "outputs": [],
   "source": [
    "#NY_lat: 40.745147826315794\n",
    "#NY_long: -73.98944178947369"
   ]
  },
  {
   "cell_type": "code",
   "execution_count": null,
   "id": "57e109b8",
   "metadata": {},
   "outputs": [],
   "source": [
    "import requests\n",
    "\n",
    "url='https://api.foursquare.com/v3/places/search?query=starbucks' \n",
    "\n",
    "\n",
    "headers = {\n",
    "    \"accept\": \"application/json\",\n",
    "    \"Authorization\": token\n",
    "}\n",
    "\n",
    "response = requests.get(url, headers=headers)"
   ]
  },
  {
   "cell_type": "code",
   "execution_count": null,
   "id": "d8776db3",
   "metadata": {},
   "outputs": [],
   "source": [
    "def Starbucks_NY (query, NY_long, NY_lat, radius, limit):\n",
    "    url = f\"https://api.foursquare.com/v3/places/search?query={query}&ll={NY_long}%2C{NY_lat}&radius={radius}&limit={limit}\"\n",
    "\n",
    "    headers = {\n",
    "        \"accept\": \"application/json\",\n",
    "        \"Authorization\": token\n",
    "    }\n",
    "\n",
    "    response = requests.get(url, headers=headers).json()\n",
    "    return response"
   ]
  },
  {
   "cell_type": "code",
   "execution_count": null,
   "id": "eac55ef3",
   "metadata": {},
   "outputs": [],
   "source": [
    "response= Starbucks_NY(\"starbucks\", 40.7451478, -73.9894417, 800, 20)\n"
   ]
  },
  {
   "cell_type": "code",
   "execution_count": null,
   "id": "a8f862ad",
   "metadata": {},
   "outputs": [],
   "source": [
    "def everything_NYST(one_element):    \n",
    "    address = one_element[\"location\"][\"formatted_address\"]\n",
    "    name = one_element[\"name\"]\n",
    "    latitude = one_element[\"geocodes\"][\"main\"][\"latitude\"]\n",
    "    longitude = one_element[\"geocodes\"][\"main\"][\"longitude\"]\n",
    "    dict1 = {\"name\": name, \"address\": address, \"latitude\": latitude, \"longitude\": longitude}\n",
    "    return dict1  \n",
    "    return dict1\n",
    "new_listNYST = []\n",
    "for i in response[\"results\"]:\n",
    "    new_listNYST.append(everything_NYST (i))\n",
    "\n",
    "df_NY_ST = pd.DataFrame(new_listNYST)\n",
    "df_NY_ST\n",
    "df_NY_ST.to_csv('./data/df_NY_ST.csv')\n",
    "    "
   ]
  },
  {
   "cell_type": "code",
   "execution_count": null,
   "id": "53677639",
   "metadata": {},
   "outputs": [],
   "source": [
    "def Schools_NY (NY_lat, NY_long, radius):\n",
    "    \n",
    "    url = f\"https://api.foursquare.com/v3/places/search?ll={NY_lat}%2C{NY_long}&radius={radius}&categories=12056,12057,12058\"\n",
    "    \n",
    "    headers = {\n",
    "        \"accept\": \"application/json\",\n",
    "        \"Authorization\": token\n",
    "    }\n",
    "\n",
    "    response = requests.get(url, headers=headers).json()\n",
    "    return response"
   ]
  },
  {
   "cell_type": "code",
   "execution_count": null,
   "id": "4fb9fa48",
   "metadata": {},
   "outputs": [],
   "source": [
    "response= Schools_NY(40.7451478, -73.9894417,500)\n"
   ]
  },
  {
   "cell_type": "code",
   "execution_count": null,
   "id": "d6c8e5f3",
   "metadata": {},
   "outputs": [],
   "source": [
    "def everything_NYSC (one_element):\n",
    "    \n",
    "    address = one_element[\"location\"][\"formatted_address\"]\n",
    "    name = one_element[\"name\"]\n",
    "    category=one_element[\"categories\"][0][\"name\"]\n",
    "    latitude= one_element[\"geocodes\"][\"main\"][\"latitude\"]\n",
    "    longitude= one_element[\"geocodes\"][\"main\"][\"longitude\"]\n",
    "    dict2 = {\"name\": name, \"address\":address, \"latitude\":latitude, \"longitude\":longitude, \"categories\":category}\n",
    "    \n",
    "    return dict2\n",
    "new_listNYSC = []\n",
    "for i in response[\"results\"]:\n",
    "    new_listNYSC.append(everything_NYSC (i))\n",
    "\n",
    "df_NY_SC = pd.DataFrame(new_listNYSC)\n",
    "df_NY_SC\n",
    "df_NY_SC.to_csv('./data/df_NY_SC.csv')\n"
   ]
  },
  {
   "cell_type": "code",
   "execution_count": null,
   "id": "a74cc07e",
   "metadata": {},
   "outputs": [],
   "source": [
    "def Pets_NY (NY_lat,NY_long,radius):\n",
    "    \n",
    "    url = f\"https://api.foursquare.com/v3/places/search?categories=11134&ll={NY_lat}%2C{NY_long}&radius={radius}\"\n",
    "    \n",
    "    headers = {\n",
    "        \"accept\": \"application/json\",\n",
    "        \"Authorization\": token\n",
    "    }\n",
    "    response = requests.get(url, headers=headers).json()\n",
    "\n",
    "    return response"
   ]
  },
  {
   "cell_type": "code",
   "execution_count": null,
   "id": "9628fe32",
   "metadata": {},
   "outputs": [],
   "source": [
    "response= Pets_NY(40.7451478, -73.9894417, 800)\n"
   ]
  },
  {
   "cell_type": "code",
   "execution_count": null,
   "id": "1e41aec6",
   "metadata": {},
   "outputs": [],
   "source": [
    "def everything_NYPet (one_element):\n",
    "    \n",
    "    address = one_element[\"location\"][\"formatted_address\"]\n",
    "    name = one_element[\"name\"]\n",
    "    category=one_element[\"categories\"][0][\"name\"]\n",
    "    latitude= one_element[\"geocodes\"][\"main\"][\"latitude\"]\n",
    "    longitude= one_element[\"geocodes\"][\"main\"][\"longitude\"]\n",
    "    dict4 = {\"name\": name, \"address\":address, \"latitude\":latitude, \"longitude\":longitude, \"categories\":category}\n",
    "    \n",
    "    return dict4\n",
    "new_listNYPet = []\n",
    "for i in response[\"results\"]:\n",
    "    new_listNYPet.append(everything_NYPet (i))\n",
    "\n",
    "df_NY_Pet = pd.DataFrame(new_listNYPet)\n",
    "df_NY_Pet\n",
    "df_NY_Pet.to_csv('./data/df_NY_Pet.csv')\n"
   ]
  },
  {
   "cell_type": "code",
   "execution_count": null,
   "id": "c18b9829",
   "metadata": {},
   "outputs": [],
   "source": [
    "def Basket_NY (NY_lat,NY_long, radius):\n",
    "    \n",
    "    url = f\"https://api.foursquare.com/v3/places/search?categories=18008&ll={NY_lat}%2C{NY_long}&radius={radius}\"\n",
    "    \n",
    "    headers = {\n",
    "        \"accept\": \"application/json\",\n",
    "        \"Authorization\": token\n",
    "    }\n",
    "    response = requests.get(url, headers=headers).json()\n",
    "\n",
    "    return response"
   ]
  },
  {
   "cell_type": "code",
   "execution_count": null,
   "id": "a5ec4d8e",
   "metadata": {},
   "outputs": [],
   "source": [
    "response= Basket_NY (40.7451478, -73.9894417, 3000)\n"
   ]
  },
  {
   "cell_type": "code",
   "execution_count": null,
   "id": "293df078",
   "metadata": {},
   "outputs": [],
   "source": [
    "def everything_Basket_NY(one_element):\n",
    "    address = one_element[\"location\"][\"formatted_address\"]\n",
    "    name = one_element[\"name\"]\n",
    "    category = one_element[\"categories\"][0][\"name\"]\n",
    "    latitude = one_element[\"geocodes\"][\"main\"][\"latitude\"]\n",
    "    longitude = one_element[\"geocodes\"][\"main\"][\"longitude\"]\n",
    "    dict10 = {\"name\": name, \"address\": address, \"latitude\": latitude, \"longitude\": longitude, \"categories\": category}\n",
    "    return dict10"
   ]
  },
  {
   "cell_type": "code",
   "execution_count": null,
   "id": "af5b17fd",
   "metadata": {},
   "outputs": [],
   "source": [
    "new_listNYbasket = []\n",
    "for i in response[\"results\"]:\n",
    "    new_listNYbasket.append(everything_Basket_NY(i))\n",
    "\n",
    "df_NY_basket = pd.DataFrame(new_listNYbasket)\n"
   ]
  },
  {
   "cell_type": "code",
   "execution_count": null,
   "id": "570ec27b",
   "metadata": {},
   "outputs": [],
   "source": [
    "def Partying_NY (NY_lat,NY_long,radius):\n",
    "    \n",
    "    url = f\"https://api.foursquare.com/v3/places/search?categories=13009,13007,13006,13015,13018&ll={NY_lat}%2C{NY_long}&radius={radius}\"\n",
    "    \n",
    "    headers = {\n",
    "        \"accept\": \"application/json\",\n",
    "        \"Authorization\": token\n",
    "    }\n",
    "    response = requests.get(url, headers=headers).json()"
   ]
  },
  {
   "cell_type": "code",
   "execution_count": null,
   "id": "f04abefc",
   "metadata": {},
   "outputs": [],
   "source": [
    "def everything_NYParty(one_element):\n",
    "    address = one_element[\"location\"][\"formatted_address\"]\n",
    "    name = one_element[\"name\"]\n",
    "    category = one_element[\"categories\"][0][\"name\"]\n",
    "    latitude = one_element[\"geocodes\"][\"main\"][\"latitude\"]\n",
    "    longitude = one_element[\"geocodes\"][\"main\"][\"longitude\"]\n",
    "    dict5 = {\"name\": name, \"address\": address, \"latitude\": latitude, \"longitude\": longitude, \"categories\": category}\n",
    "    return dict5\n",
    "\n",
    "new_listNYParty = []\n",
    "for i in response[\"results\"]:\n",
    "    new_listNYParty.append(everything_NYParty (i))\n",
    "\n",
    "df_NY_Party = pd.DataFrame(new_listNYParty)\n",
    "df_NY_Party\n",
    "df_NY_Party.to_csv('./data/df_NY_party.csv')\n"
   ]
  },
  {
   "cell_type": "code",
   "execution_count": null,
   "id": "b5af6d68",
   "metadata": {},
   "outputs": [],
   "source": [
    "df_NY_Party"
   ]
  },
  {
   "cell_type": "code",
   "execution_count": null,
   "id": "cb47126c",
   "metadata": {},
   "outputs": [],
   "source": [
    "token1 = os.getenv(\"token1\")"
   ]
  },
  {
   "cell_type": "code",
   "execution_count": null,
   "id": "5d3ae942",
   "metadata": {},
   "outputs": [],
   "source": [
    "load_dotenv()"
   ]
  },
  {
   "cell_type": "code",
   "execution_count": null,
   "id": "ed3762a8",
   "metadata": {},
   "outputs": [],
   "source": [
    "def vegan_NY (NY_lat, NY_long, radius):\n",
    "    \n",
    "    url = f\"https://api.foursquare.com/v3/places/search?categories=vegan&ll={NY_lat}%2C{NY_long}&radius={radius}\"\n",
    "    \n",
    "    headers = {\n",
    "        \"accept\": \"application/json\",\n",
    "        \"Authorization\": token\n",
    "    }\n",
    "\n",
    "    response = requests.get(url, headers=headers).json()\n",
    "    \n",
    "    return vegan_places"
   ]
  },
  {
   "cell_type": "code",
   "execution_count": null,
   "id": "46491970",
   "metadata": {},
   "outputs": [],
   "source": [
    "vegan_places= vegan_NY (40.7444668, -73.9882868, 3500)\n",
    "vegan_places"
   ]
  },
  {
   "cell_type": "code",
   "execution_count": null,
   "id": "d2782f54",
   "metadata": {
    "scrolled": true
   },
   "outputs": [],
   "source": [
    "import folium\n",
    "# Center de map to geolocation\n",
    "mapa = folium.Map(location=[40.7451478, -73.9894417], zoom_start=12)\n",
    "\n",
    "ruta_colegiosNY = './data/df_NY_SC.csv'\n",
    "df_colegiosNY = pd.read_csv(ruta_colegiosNY)\n",
    "\n",
    "pets_dataNY = './data/df_NY_Pet.csv'\n",
    "df_petsNY = pd.read_csv(pets_dataNY)\n",
    "\n",
    "starbucks_dataNY = './data/df_NY_ST.csv'\n",
    "df_starbucksNY = pd.read_csv(starbucks_dataNY)\n",
    "\n",
    "ruta_empresasNY = './data/df_NY.csv'\n",
    "df_empresasNY = pd.read_csv(ruta_empresasNY)\n",
    "\n",
    "partyNY = './data/df_NY_party.csv'\n",
    "df_partyNY = pd.read_csv(partyNY)\n",
    "\n",
    "airportsNY = './data/df_airports_ny.csv'\n",
    "df_airportsNY = pd.read_csv(airportsNY)\n",
    "\n",
    "basketNY='./data/df_NY_basket.csv'\n",
    "df_basketNY=pd.read_csv(basketNY)\n",
    "\n",
    "# Create markers for each category:\n",
    "\n",
    "'''basket'''\n",
    "for index, row in df_basketNY.iterrows():\n",
    "    popup_content = f\"Latitude: {row['latitude']}<br>Longitude: {row['longitude']}<br>Name: {row['name']}\"\n",
    "    folium.Marker([row['latitude'], row['longitude']],\n",
    "                  icon=folium.Icon(color='orange', icon='hand-peace', prefix=\"fa\"),\n",
    "                  popup=popup_content).add_to(mapa)\n",
    "\n",
    "'''schools'''\n",
    "for index, row in df_colegiosNY.iterrows():\n",
    "    popup_content = f\"Latitude: {row['latitude']}<br>Longitude: {row['longitude']}<br>Category: {row['categories']}\"\n",
    "    folium.Marker([row['latitude'], row['longitude']],\n",
    "                  icon=folium.Icon(color='blue', icon='graduation-cap', prefix='fa'),\n",
    "                  popup=popup_content).add_to(mapa)\n",
    "\n",
    "\n",
    "'''restaurants'''\n",
    "for index, row in df_restaurantesNY.iterrows():\n",
    "    popup_content = f\"Latitude: {row['latitude']}<br>Longitude: {row['longitude']}<br>Category: {row['categories']}\"\n",
    "\n",
    "    folium.Marker([row['latitude'], row['longitude']],\n",
    "                  icon=folium.Icon(color='green', icon='leaf'),\n",
    "                  popup=popup_content).add_to(mapa)\n",
    "\n",
    "'''companies > 1B, + design companies'''\n",
    "\n",
    "for index, row in df_empresasNY.iterrows():\n",
    "    popup_content = f\"Latitude: {row['latitude']}<br>Longitude: {row['longitude']}<br>Name: {row['name']}\"\n",
    "    folium.Marker([row['latitude'], row['longitude']],\n",
    "                  icon=folium.Icon(color='red', icon='building', prefix = \"fa\"),\n",
    "                  popup=popup_content).add_to(mapa)\n",
    "\n",
    "    \n",
    "'''Pet Grooming service'''\n",
    "\n",
    "for index, row in df_petsNY.iterrows():\n",
    "    popup_content = f\"Latitude: {row['latitude']}<br>Longitude: {row['longitude']}<br>Category: {row['categories']}\"\n",
    "    folium.Marker([row['latitude'], row['longitude']],\n",
    "                  icon=folium.Icon(color='pink', icon='paw', prefix = \"fa\"),\n",
    "                  popup=popup_content).add_to(mapa)\n",
    "    \n",
    "'''Party'''\n",
    "    \n",
    "for index, row in df_partyNY.iterrows():\n",
    "    popup_content = f\"Latitude: {row['latitude']}<br>Longitude: {row['longitude']}<br>Category: {row['categories']}\"\n",
    "    folium.Marker([row['latitude'], row['longitude']],\n",
    "                  icon=folium.Icon(color='black', icon='beer', prefix = \"fa\"),\n",
    "                  popup=popup_content).add_to(mapa)\n",
    "    \n",
    "    \n",
    "'''Starbucks'''\n",
    "for index, row in df_starbucksNY.iterrows():\n",
    "    popup_content = f\"Latitude: {row['latitude']}<br>Longitude: {row['longitude']}<br>Name: {row['name']}\"\n",
    "    folium.Marker([row['latitude'], row['longitude']],\n",
    "                  icon=folium.Icon(color='purple', icon='coffee', prefix = \"fa\"),\n",
    "                  popup=popup_content).add_to(mapa)\n",
    "\n",
    "'''Airports'''\n",
    "for index, row in df_airportsNY.iterrows():\n",
    "    popup_content = f\"Latitude: {row['latitude_deg']}<br>Longitude: {row['longitude_deg']}<br>Name: {row['name']}\"\n",
    "    folium.Marker([row['latitude_deg'], row['longitude_deg']],\n",
    "                  icon=folium.Icon(color='cadetblue', icon='plane', prefix = \"fa\"),\n",
    "                  popup=popup_content).add_to(mapa)   \n",
    "'''vegan'''\n",
    "vegan_restaurants = [\n",
    "    {   \"name\": \"Little Vet\",\n",
    "        \"latitude\": 40.742422,\n",
    "        \"longitude\": -73.988154\n",
    "    },\n",
    "    {\n",
    "        \"name\": \"Coletta\",\n",
    "        \"latitude\": 40.740543,\n",
    "        \"longitude\": -73.990823\n",
    "    },\n",
    "    {\n",
    "        \"name\": \"abcv\",\n",
    "        \"latitude\": 40.738373,\n",
    "        \"longitude\": -73.990084\n",
    "    },\n",
    "    {\n",
    "        \"name\": \"Blossom\",\n",
    "        \"latitude\": 40.737486,\n",
    "        \"longitude\": -73.988389\n",
    "    },\n",
    "    {\n",
    "        \"name\": \"Beyond Sushi - Union Square\",\n",
    "        \"latitude\": 40.734648,\n",
    "        \"longitude\": -73.990401\n",
    "    },\n",
    "    {\n",
    "        \"name\": \"Candle 79\",\n",
    "        \"latitude\": 40.775811,\n",
    "        \"longitude\": -73.958518\n",
    "    },\n",
    "    {\n",
    "        \"name\": \"The Butcher's Daughter - Nolita\",\n",
    "        \"latitude\": 40.722993,\n",
    "        \"longitude\": -73.996122\n",
    "    },\n",
    "    {\n",
    "        \"name\": \"Divya's Kitchen\",\n",
    "        \"latitude\": 40.724202,\n",
    "        \"longitude\": -73.987964\n",
    "    },\n",
    "    {\n",
    "        \"name\": \"Ladybird\",\n",
    "        \"latitude\": 40.732409,\n",
    "        \"longitude\": -73.986839\n",
    "    },\n",
    "]\n",
    "\n",
    "for restaurant in vegan_restaurants:\n",
    "    popup_content = f\"Name: {restaurant['name']}<br>Latitude: {restaurant['latitude']}<br>Longitude: {restaurant['longitude']}\"\n",
    "    folium.Marker([restaurant['latitude'], restaurant['longitude']],\n",
    "                  icon=folium.Icon(color='green', icon='leaf'),\n",
    "                  popup=popup_content).add_to(mapa)\n",
    "mapa\n"
   ]
  },
  {
   "cell_type": "markdown",
   "id": "d0674dda",
   "metadata": {},
   "source": [
    "Based on the initial criteria, and as no all requirements are present on the map, we dismiss New york"
   ]
  },
  {
   "cell_type": "code",
   "execution_count": null,
   "id": "2d5bf419",
   "metadata": {},
   "outputs": [],
   "source": []
  }
 ],
 "metadata": {
  "kernelspec": {
   "display_name": "ironhack",
   "language": "python",
   "name": "ironhack"
  },
  "language_info": {
   "codemirror_mode": {
    "name": "ipython",
    "version": 3
   },
   "file_extension": ".py",
   "mimetype": "text/x-python",
   "name": "python",
   "nbconvert_exporter": "python",
   "pygments_lexer": "ipython3",
   "version": "3.10.9"
  }
 },
 "nbformat": 4,
 "nbformat_minor": 5
}
